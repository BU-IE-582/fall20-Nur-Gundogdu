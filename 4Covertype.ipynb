{
 "cells": [
  {
   "cell_type": "markdown",
   "metadata": {},
   "source": [
    "## Covertype"
   ]
  },
  {
   "cell_type": "markdown",
   "metadata": {},
   "source": [
    "Multiclass, 54 attributes, classification problem, categorical and integer attributes, no missing values."
   ]
  },
  {
   "cell_type": "markdown",
   "metadata": {},
   "source": [
    "Predicting forest cover type from cartographic variables only (no remotely sensed data). The actual forest cover type for a given observation (30 x 30 meter cell) was determined from US Forest Service (USFS) Region 2 Resource Information System (RIS) data. Independent variables were derived from data originally obtained from US Geological Survey (USGS) and USFS data. Data is in raw form (not scaled) and contains binary (0 or 1) columns of data for qualitative independent variables (wilderness areas and soil types).\n",
    "\n",
    "Name / Data Type / Measurement / Description\n",
    "\n",
    "Elevation / quantitative /meters / Elevation in meters\n",
    "\n",
    "Aspect / quantitative / azimuth / Aspect in degrees azimuth\n",
    "\n",
    "Slope / quantitative / degrees / Slope in degrees\n",
    "\n",
    "Horizontal_Distance_To_Hydrology / quantitative / meters / Horz Dist to nearest surface water features\n",
    "\n",
    "Vertical_Distance_To_Hydrology / quantitative / meters / Vert Dist to nearest surface water features\n",
    "\n",
    "Horizontal_Distance_To_Roadways / quantitative / meters / Horz Dist to nearest roadway\n",
    "\n",
    "Hillshade_9am / quantitative / 0 to 255 index / Hillshade index at 9am, summer solstice\n",
    "\n",
    "Hillshade_Noon / quantitative / 0 to 255 index / Hillshade index at noon, summer soltice\n",
    "\n",
    "Hillshade_3pm / quantitative / 0 to 255 index / Hillshade index at 3pm, summer solstice\n",
    "\n",
    "Horizontal_Distance_To_Fire_Points / quantitative / meters / Horz Dist to nearest wildfire ignition points\n",
    "\n",
    "Wilderness_Area (4 binary columns) / qualitative / 0 (absence) or 1 (presence) / Wilderness area designation\n",
    "\n",
    "Soil_Type (40 binary columns) / qualitative / 0 (absence) or 1 (presence) / Soil Type designation\n",
    "\n",
    "Cover_Type (7 types) / integer / 1 to 7 / Forest Cover Type designation\n"
   ]
  },
  {
   "cell_type": "code",
   "execution_count": 2,
   "metadata": {},
   "outputs": [],
   "source": [
    "library(glmnet)\n",
    "library(tidyverse)\n",
    "library(caret)\n",
    "library(pROC)\n",
    "library(randomForest)\n",
    "library(gbm)\n",
    "library(rpart)\n",
    "require(rpart.plot)\n",
    "library(e1071)\n",
    "library(ranger)\n",
    "library(dplyr)"
   ]
  },
  {
   "cell_type": "code",
   "execution_count": 3,
   "metadata": {},
   "outputs": [
    {
     "data": {
      "text/html": [
       "<ol class=list-inline>\n",
       "\t<li>581012</li>\n",
       "\t<li>55</li>\n",
       "</ol>\n"
      ],
      "text/latex": [
       "\\begin{enumerate*}\n",
       "\\item 581012\n",
       "\\item 55\n",
       "\\end{enumerate*}\n"
      ],
      "text/markdown": [
       "1. 581012\n",
       "2. 55\n",
       "\n",
       "\n"
      ],
      "text/plain": [
       "[1] 581012     55"
      ]
     },
     "metadata": {},
     "output_type": "display_data"
    }
   ],
   "source": [
    "covertype <- read.table(\"C:/Users/n__gu/Desktop/covertype.txt\", header=TRUE)\n",
    "dim(covertype)"
   ]
  },
  {
   "cell_type": "markdown",
   "metadata": {},
   "source": [
    "The dataset is too large, so I will use a sample for the applications."
   ]
  },
  {
   "cell_type": "code",
   "execution_count": 4,
   "metadata": {},
   "outputs": [
    {
     "data": {
      "text/html": [
       "<ol class=list-inline>\n",
       "\t<li>5810</li>\n",
       "\t<li>55</li>\n",
       "</ol>\n"
      ],
      "text/latex": [
       "\\begin{enumerate*}\n",
       "\\item 5810\n",
       "\\item 55\n",
       "\\end{enumerate*}\n"
      ],
      "text/markdown": [
       "1. 5810\n",
       "2. 55\n",
       "\n",
       "\n"
      ],
      "text/plain": [
       "[1] 5810   55"
      ]
     },
     "metadata": {},
     "output_type": "display_data"
    },
    {
     "name": "stdout",
     "output_type": "stream",
     "text": [
      "'data.frame':\t5810 obs. of  55 variables:\n",
      " $ Elevation                         : int  3143 3051 3278 2982 3012 2995 2963 2840 3123 3121 ...\n",
      " $ Aspect                            : int  350 52 320 254 117 36 30 18 42 43 ...\n",
      " $ Slope                             : int  13 11 21 9 14 9 15 8 13 9 ...\n",
      " $ Horizontal_Distance_To_Hydrology  : int  30 268 335 816 30 190 644 255 90 170 ...\n",
      " $ Vertical_Distance_To_Hydrology    : int  5 13 79 82 2 18 144 78 -1 8 ...\n",
      " $ Horizontal_Distance_To_Roadways   : int  1170 1774 524 5994 845 1382 1350 3494 1648 1275 ...\n",
      " $ Hillshade_9am                     : int  197 226 161 200 244 220 214 215 222 222 ...\n",
      " $ Hillshade_Noon                    : int  218 217 215 246 226 221 206 224 210 221 ...\n",
      " $ Hillshade_3pm                     : int  159 124 191 185 108 136 124 146 121 134 ...\n",
      " $ Horizontal_Distance_To_Fire_Points: int  2266 1194 400 5749 350 1657 2648 6003 190 2072 ...\n",
      " $ Wilderness_Area1                  : int  1 0 0 1 0 0 0 1 1 1 ...\n",
      " $ Wilderness_Area2                  : int  0 0 1 0 0 0 0 0 0 0 ...\n",
      " $ Wilderness_Area3                  : int  0 1 0 0 1 1 1 0 0 0 ...\n",
      " $ Wilderness_Area4                  : int  0 0 0 0 0 0 0 0 0 0 ...\n",
      " $ Soil_Type1                        : int  0 0 0 0 0 0 0 0 0 0 ...\n",
      " $ Soil_Type2                        : int  0 0 0 0 0 0 0 0 0 0 ...\n",
      " $ Soil_Type3                        : int  0 0 0 0 0 0 0 0 0 0 ...\n",
      " $ Soil_Type4                        : int  0 0 0 0 0 0 0 0 0 0 ...\n",
      " $ Soil_Type5                        : int  0 0 0 0 0 0 0 0 0 0 ...\n",
      " $ Soil_Type6                        : int  0 0 0 0 0 0 0 0 0 0 ...\n",
      " $ Soil_Type7                        : int  0 0 0 0 0 0 0 0 0 0 ...\n",
      " $ Soil_Type8                        : int  0 0 0 0 0 0 0 0 0 0 ...\n",
      " $ Soil_Type9                        : int  0 0 0 0 0 0 0 0 0 0 ...\n",
      " $ Soil_Type10                       : int  0 0 0 0 0 0 0 0 0 0 ...\n",
      " $ Soil_Type11                       : int  0 0 0 0 0 0 0 0 0 0 ...\n",
      " $ Soil_Type12                       : int  0 0 0 0 0 0 0 1 0 0 ...\n",
      " $ Soil_Type13                       : int  0 0 0 0 0 0 0 0 0 0 ...\n",
      " $ Soil_Type14                       : int  0 0 0 0 0 0 0 0 0 0 ...\n",
      " $ Soil_Type15                       : int  0 0 0 0 0 0 0 0 0 0 ...\n",
      " $ Soil_Type16                       : int  0 0 0 0 0 0 0 0 0 0 ...\n",
      " $ Soil_Type17                       : int  0 0 0 0 0 0 0 0 0 0 ...\n",
      " $ Soil_Type18                       : int  0 0 0 0 0 0 0 0 0 0 ...\n",
      " $ Soil_Type19                       : int  0 0 0 0 0 1 0 0 0 0 ...\n",
      " $ Soil_Type20                       : int  0 0 0 0 0 0 0 0 0 0 ...\n",
      " $ Soil_Type21                       : int  0 0 0 0 0 0 0 0 0 0 ...\n",
      " $ Soil_Type22                       : int  1 0 0 0 0 0 0 0 0 0 ...\n",
      " $ Soil_Type23                       : int  0 0 0 0 1 0 0 0 1 1 ...\n",
      " $ Soil_Type24                       : int  0 0 0 0 0 0 0 0 0 0 ...\n",
      " $ Soil_Type25                       : int  0 0 0 0 0 0 0 0 0 0 ...\n",
      " $ Soil_Type26                       : int  0 0 0 0 0 0 0 0 0 0 ...\n",
      " $ Soil_Type27                       : int  0 0 0 0 0 0 0 0 0 0 ...\n",
      " $ Soil_Type28                       : int  0 0 0 0 0 0 0 0 0 0 ...\n",
      " $ Soil_Type29                       : int  0 0 0 1 0 0 0 0 0 0 ...\n",
      " $ Soil_Type30                       : int  0 0 0 0 0 0 0 0 0 0 ...\n",
      " $ Soil_Type31                       : int  0 1 0 0 0 0 0 0 0 0 ...\n",
      " $ Soil_Type32                       : int  0 0 0 0 0 0 0 0 0 0 ...\n",
      " $ Soil_Type33                       : int  0 0 1 0 0 0 1 0 0 0 ...\n",
      " $ Soil_Type34                       : int  0 0 0 0 0 0 0 0 0 0 ...\n",
      " $ Soil_Type35                       : int  0 0 0 0 0 0 0 0 0 0 ...\n",
      " $ Soil_Type36                       : int  0 0 0 0 0 0 0 0 0 0 ...\n",
      " $ Soil_Type37                       : int  0 0 0 0 0 0 0 0 0 0 ...\n",
      " $ Soil_Type38                       : int  0 0 0 0 0 0 0 0 0 0 ...\n",
      " $ Soil_Type39                       : int  0 0 0 0 0 0 0 0 0 0 ...\n",
      " $ Soil_Type40                       : int  0 0 0 0 0 0 0 0 0 0 ...\n",
      " $ Cover_Type                        : int  2 1 1 2 2 1 2 1 1 1 ...\n"
     ]
    }
   ],
   "source": [
    "data <- covertype %>% sample_frac(0.01)\n",
    "dim(data)\n",
    "str(data)"
   ]
  },
  {
   "cell_type": "markdown",
   "metadata": {},
   "source": [
    "Train and test sets"
   ]
  },
  {
   "cell_type": "code",
   "execution_count": 5,
   "metadata": {},
   "outputs": [],
   "source": [
    "set.seed(101) # Set Seed so that same sample can be reproduced in future also\n",
    "# Now Selecting 75% of data as sample from total 'n' rows of the data  \n",
    "\n",
    "sample <- sample.int(n = nrow(data), size = floor(.75*nrow(data)), replace = F)\n",
    "train <- data[sample, ]\n",
    "test  <- data[-sample, ]"
   ]
  },
  {
   "cell_type": "markdown",
   "metadata": {},
   "source": [
    "## LASSO"
   ]
  },
  {
   "cell_type": "markdown",
   "metadata": {},
   "source": [
    "We will find the best lambda parameted with cross validation."
   ]
  },
  {
   "cell_type": "code",
   "execution_count": 6,
   "metadata": {},
   "outputs": [],
   "source": [
    "train <- as.data.frame(train)\n",
    "x <- as.matrix(train[,1:54])\n",
    "y <- as.matrix(as.factor(train[,55]))"
   ]
  },
  {
   "cell_type": "code",
   "execution_count": 7,
   "metadata": {},
   "outputs": [
    {
     "data": {
      "text/html": [
       "0.00067471432623093"
      ],
      "text/latex": [
       "0.00067471432623093"
      ],
      "text/markdown": [
       "0.00067471432623093"
      ],
      "text/plain": [
       "[1] 0.0006747143"
      ]
     },
     "metadata": {},
     "output_type": "display_data"
    }
   ],
   "source": [
    "set.seed(123) \n",
    "cv <- cv.glmnet(x, y, alpha = 1,family=\"multinomial\")\n",
    "\n",
    "# Display the best lambda value\n",
    "cv$lambda.min\n",
    "\n"
   ]
  },
  {
   "cell_type": "code",
   "execution_count": 8,
   "metadata": {},
   "outputs": [
    {
     "data": {
      "text/plain": [
       "55 x 1 sparse Matrix of class \"dgCMatrix\"\n",
       "                                              s0\n",
       "(Intercept)                         3.330107e+00\n",
       "Elevation                          -9.131917e-04\n",
       "Aspect                              3.567257e-05\n",
       "Slope                               3.531656e-03\n",
       "Horizontal_Distance_To_Hydrology   -3.030395e-04\n",
       "Vertical_Distance_To_Hydrology      1.162732e-03\n",
       "Horizontal_Distance_To_Roadways     6.874047e-06\n",
       "Hillshade_9am                       6.633523e-03\n",
       "Hillshade_Noon                     -6.599422e-04\n",
       "Hillshade_3pm                       2.967310e-03\n",
       "Horizontal_Distance_To_Fire_Points  2.532896e-05\n",
       "Wilderness_Area1                   -7.826716e-01\n",
       "Wilderness_Area2                   -2.857832e-01\n",
       "Wilderness_Area3                    .           \n",
       "Wilderness_Area4                    6.173121e-01\n",
       "Soil_Type1                          5.465523e-01\n",
       "Soil_Type2                          6.121650e-01\n",
       "Soil_Type3                         -3.508610e-01\n",
       "Soil_Type4                          4.343807e-01\n",
       "Soil_Type5                          1.886978e+00\n",
       "Soil_Type6                          7.026890e-03\n",
       "Soil_Type7                          .           \n",
       "Soil_Type8                         -1.308508e-01\n",
       "Soil_Type9                         -4.451520e-02\n",
       "Soil_Type10                         2.860529e-01\n",
       "Soil_Type11                        -2.147110e-01\n",
       "Soil_Type12                         1.019818e-01\n",
       "Soil_Type13                        -3.405779e-01\n",
       "Soil_Type14                         1.390786e+00\n",
       "Soil_Type15                         .           \n",
       "Soil_Type16                         2.842086e-01\n",
       "Soil_Type17                         7.331852e-01\n",
       "Soil_Type18                         4.762293e-01\n",
       "Soil_Type19                        -2.955353e-01\n",
       "Soil_Type20                        -3.176373e-01\n",
       "Soil_Type21                         1.932993e-01\n",
       "Soil_Type22                        -4.983919e-01\n",
       "Soil_Type23                        -3.906292e-01\n",
       "Soil_Type24                        -6.469442e-01\n",
       "Soil_Type25                        -4.235917e-01\n",
       "Soil_Type26                        -4.090285e-01\n",
       "Soil_Type27                        -9.794113e-01\n",
       "Soil_Type28                        -3.794837e-01\n",
       "Soil_Type29                         1.160092e-01\n",
       "Soil_Type30                         2.268316e-01\n",
       "Soil_Type31                        -7.517378e-01\n",
       "Soil_Type32                        -5.210980e-01\n",
       "Soil_Type33                        -5.211702e-01\n",
       "Soil_Type34                        -3.873099e-01\n",
       "Soil_Type35                         2.411172e+00\n",
       "Soil_Type36                         .           \n",
       "Soil_Type37                         5.828033e+00\n",
       "Soil_Type38                         1.744103e+00\n",
       "Soil_Type39                         1.894275e+00\n",
       "Soil_Type40                         1.859424e+00"
      ]
     },
     "metadata": {},
     "output_type": "display_data"
    }
   ],
   "source": [
    "model <- glmnet(x, y , alpha = 1, lambda = cv$lambda.min)\n",
    "# Display regression coefficients\n",
    "coef(model)"
   ]
  },
  {
   "cell_type": "code",
   "execution_count": 9,
   "metadata": {},
   "outputs": [
    {
     "data": {
      "text/plain": [
       "\n",
       "  1   2   3   4   5   6   7 \n",
       "568 682  88   8  22  40  45 "
      ]
     },
     "metadata": {},
     "output_type": "display_data"
    },
    {
     "name": "stderr",
     "output_type": "stream",
     "text": [
      "Warning message in roc.default(response = test$Cover_Type, predictor = predictions):\n",
      "\"'response' has more than two levels. Consider setting 'levels' explicitly or using 'multiclass.roc' instead\"Setting levels: control = 1, case = 2\n",
      "Setting direction: controls < cases\n"
     ]
    },
    {
     "data": {
      "text/html": [
       "0.666941163107678"
      ],
      "text/latex": [
       "0.666941163107678"
      ],
      "text/markdown": [
       "0.666941163107678"
      ],
      "text/plain": [
       "Area under the curve: 0.6669"
      ]
     },
     "metadata": {},
     "output_type": "display_data"
    }
   ],
   "source": [
    "x.test <- as.matrix(test[,1:54])\n",
    "predictions <- model %>% predict(x.test) %>% as.vector()\n",
    "\n",
    "table(test[,55])\n",
    "auc(roc(response = test$Cover_Type, predictor = predictions))\n"
   ]
  },
  {
   "cell_type": "code",
   "execution_count": 11,
   "metadata": {},
   "outputs": [
    {
     "name": "stderr",
     "output_type": "stream",
     "text": [
      "Warning message in roc.default(response = train$Cover_Type, predictor = predictions):\n",
      "\"'response' has more than two levels. Consider setting 'levels' explicitly or using 'multiclass.roc' instead\"Setting levels: control = 1, case = 2\n",
      "Setting direction: controls < cases\n"
     ]
    },
    {
     "data": {
      "text/html": [
       "0.670969425066111"
      ],
      "text/latex": [
       "0.670969425066111"
      ],
      "text/markdown": [
       "0.670969425066111"
      ],
      "text/plain": [
       "Area under the curve: 0.671"
      ]
     },
     "metadata": {},
     "output_type": "display_data"
    }
   ],
   "source": [
    "x.train <- as.matrix(train[,1:54])\n",
    "predictions <- model %>% predict(x.train) %>% as.vector()\n",
    "auc(roc(response = train$Cover_Type, predictor = predictions))"
   ]
  },
  {
   "cell_type": "markdown",
   "metadata": {},
   "source": [
    "AUC is 0.67 for test data, and 0.67 for train data. There is no issue of over- or underfitting. However based on the results, LASSO did not perform well."
   ]
  },
  {
   "cell_type": "markdown",
   "metadata": {},
   "source": [
    "## Decision Tree"
   ]
  },
  {
   "cell_type": "markdown",
   "metadata": {},
   "source": [
    "We will optimize minimal number of observations per tree leaf and complexity parameter."
   ]
  },
  {
   "cell_type": "code",
   "execution_count": 12,
   "metadata": {},
   "outputs": [],
   "source": [
    "caret.control <- trainControl(method = \"repeatedcv\",\n",
    "                              number = 10,\n",
    "                              repeats = 3)\n",
    "cpGrid = expand.grid( .cp = seq(0.01,0.5) )\n",
    "rpart.cv <- train(Cover_Type ~ ., \n",
    "                  data = train,\n",
    "                  method = \"rpart\",\n",
    "                  trControl = caret.control,\n",
    "                  tuneGrid = cpGrid)"
   ]
  },
  {
   "cell_type": "code",
   "execution_count": 13,
   "metadata": {},
   "outputs": [
    {
     "data": {
      "text/plain": [
       "   \n",
       "      1   2   3   4   5   6   7\n",
       "  1 417 183   0   0   0   0  45\n",
       "  2 151 486  18   0  21  11   0\n",
       "  3   0  13  70   8   1  29   0"
      ]
     },
     "metadata": {},
     "output_type": "display_data"
    },
    {
     "name": "stderr",
     "output_type": "stream",
     "text": [
      "Warning message in roc.default(response, predictor, auc = TRUE, ...):\n",
      "\"'response' has more than two levels. Consider setting 'levels' explicitly or using 'multiclass.roc' instead\"Setting levels: control = 1, case = 2\n",
      "Setting direction: controls < cases\n"
     ]
    },
    {
     "data": {
      "text/html": [
       "0.696465928709251"
      ],
      "text/latex": [
       "0.696465928709251"
      ],
      "text/markdown": [
       "0.696465928709251"
      ],
      "text/plain": [
       "Area under the curve: 0.6965"
      ]
     },
     "metadata": {},
     "output_type": "display_data"
    }
   ],
   "source": [
    "tree1 <- rpart(Cover_Type~., data=train,control = rpart.control(minbucket =5, cp= 0.01) , method = 'class')\n",
    "predict1 <-predict(tree1, newdata=test, type = 'class')\n",
    "table <- table(as.matrix(predict1), test$Cover_Type)\n",
    "table\n",
    "auc <- auc(predict1, test$Cover_Type)\n",
    "auc"
   ]
  },
  {
   "cell_type": "code",
   "execution_count": 14,
   "metadata": {},
   "outputs": [
    {
     "data": {
      "text/plain": [
       "   \n",
       "      1   2   3   4   5   6   7\n",
       "  1 417 183   0   0   0   0  45\n",
       "  2 151 486  18   0  21  11   0\n",
       "  3   0  13  70   8   1  29   0"
      ]
     },
     "metadata": {},
     "output_type": "display_data"
    },
    {
     "name": "stderr",
     "output_type": "stream",
     "text": [
      "Warning message in roc.default(response, predictor, auc = TRUE, ...):\n",
      "\"'response' has more than two levels. Consider setting 'levels' explicitly or using 'multiclass.roc' instead\"Setting levels: control = 1, case = 2\n",
      "Setting direction: controls < cases\n"
     ]
    },
    {
     "data": {
      "text/html": [
       "0.696465928709251"
      ],
      "text/latex": [
       "0.696465928709251"
      ],
      "text/markdown": [
       "0.696465928709251"
      ],
      "text/plain": [
       "Area under the curve: 0.6965"
      ]
     },
     "metadata": {},
     "output_type": "display_data"
    }
   ],
   "source": [
    "tree2 <- rpart(Cover_Type~., data=train,control = rpart.control(minbucket =10, cp=0.01),method = 'class')\n",
    "predict2 <-predict(tree2, newdata=test, type = 'class')\n",
    "table <- table(as.matrix(predict2), test$Cover_Type)\n",
    "table\n",
    "auc <- auc(predict2, test$Cover_Type)\n",
    "auc"
   ]
  },
  {
   "cell_type": "code",
   "execution_count": 15,
   "metadata": {},
   "outputs": [
    {
     "data": {
      "text/plain": [
       "   \n",
       "      1   2   3   4   5   6   7\n",
       "  1 417 183   0   0   0   0  45\n",
       "  2 151 486  18   0  21  11   0\n",
       "  3   0  13  70   8   1  29   0"
      ]
     },
     "metadata": {},
     "output_type": "display_data"
    },
    {
     "name": "stderr",
     "output_type": "stream",
     "text": [
      "Warning message in roc.default(response, predictor, auc = TRUE, ...):\n",
      "\"'response' has more than two levels. Consider setting 'levels' explicitly or using 'multiclass.roc' instead\"Setting levels: control = 1, case = 2\n",
      "Setting direction: controls < cases\n"
     ]
    },
    {
     "data": {
      "text/html": [
       "0.696465928709251"
      ],
      "text/latex": [
       "0.696465928709251"
      ],
      "text/markdown": [
       "0.696465928709251"
      ],
      "text/plain": [
       "Area under the curve: 0.6965"
      ]
     },
     "metadata": {},
     "output_type": "display_data"
    }
   ],
   "source": [
    "tree3 <- rpart(Cover_Type~., data=train,control = rpart.control(minbucket =20, cp=0.01),method = 'class')\n",
    "predict3 <-predict(tree3, newdata=test, type = 'class')\n",
    "table <- table(as.matrix(predict3), test$Cover_Type)\n",
    "table\n",
    "auc <- auc(predict3, test$Cover_Type)\n",
    "auc"
   ]
  },
  {
   "cell_type": "code",
   "execution_count": 16,
   "metadata": {},
   "outputs": [
    {
     "data": {
      "text/plain": [
       "   \n",
       "      1   2   3   4   5   6   7\n",
       "  1 417 183   0   0   0   0  45\n",
       "  2 151 486  24   0  21  12   0\n",
       "  3   0  13  64   8   1  28   0"
      ]
     },
     "metadata": {},
     "output_type": "display_data"
    },
    {
     "name": "stderr",
     "output_type": "stream",
     "text": [
      "Warning message in roc.default(response, predictor, auc = TRUE, ...):\n",
      "\"'response' has more than two levels. Consider setting 'levels' explicitly or using 'multiclass.roc' instead\"Setting levels: control = 1, case = 2\n",
      "Setting direction: controls < cases\n"
     ]
    },
    {
     "data": {
      "text/html": [
       "0.698823805374975"
      ],
      "text/latex": [
       "0.698823805374975"
      ],
      "text/markdown": [
       "0.698823805374975"
      ],
      "text/plain": [
       "Area under the curve: 0.6988"
      ]
     },
     "metadata": {},
     "output_type": "display_data"
    }
   ],
   "source": [
    "tree4 <- rpart(Cover_Type~., data=train,control = rpart.control(minbucket =30, cp=0.02),method = 'class')\n",
    "predict4 <-predict(tree4, newdata=test, type = 'class')\n",
    "table <- table(as.matrix(predict4), test$Cover_Type)\n",
    "table\n",
    "auc <- auc(predict4, test$Cover_Type)\n",
    "auc"
   ]
  },
  {
   "cell_type": "code",
   "execution_count": 17,
   "metadata": {},
   "outputs": [
    {
     "data": {
      "text/plain": [
       "   \n",
       "       1    2    3    4    5    6    7\n",
       "  1 1180  553    0    0    0    0  147\n",
       "  2  441 1531   74    0   77   38    1\n",
       "  3    0   30  176   17    2   90    0"
      ]
     },
     "metadata": {},
     "output_type": "display_data"
    },
    {
     "name": "stderr",
     "output_type": "stream",
     "text": [
      "Warning message in roc.default(response, predictor, auc = TRUE, ...):\n",
      "\"'response' has more than two levels. Consider setting 'levels' explicitly or using 'multiclass.roc' instead\"Setting levels: control = 1, case = 2\n",
      "Setting direction: controls < cases\n"
     ]
    },
    {
     "data": {
      "text/html": [
       "0.693663028716515"
      ],
      "text/latex": [
       "0.693663028716515"
      ],
      "text/markdown": [
       "0.693663028716515"
      ],
      "text/plain": [
       "Area under the curve: 0.6937"
      ]
     },
     "metadata": {},
     "output_type": "display_data"
    }
   ],
   "source": [
    "predict4 <-predict(tree4, newdata=train, type = 'class')\n",
    "table <- table(as.matrix(predict4), train$Cover_Type)\n",
    "table\n",
    "auc <- auc(predict4, train$Cover_Type)\n",
    "auc"
   ]
  },
  {
   "cell_type": "markdown",
   "metadata": {},
   "source": [
    "cp = 0.01 gives the best result, with AUC = 0.699, different minbucket values did not affect the result. For train data, AUC is 0.694, very close to result for test data, slightly less.\n",
    "\n",
    "This method fails to recognize classes 4-7, but overall performance is better than LASSO."
   ]
  },
  {
   "cell_type": "markdown",
   "metadata": {},
   "source": [
    "## Random Forest"
   ]
  },
  {
   "cell_type": "markdown",
   "metadata": {},
   "source": [
    "Minimum node size is set to 5, we will find the best mtry parameter."
   ]
  },
  {
   "cell_type": "code",
   "execution_count": 6,
   "metadata": {},
   "outputs": [],
   "source": [
    "test$Cover_Type <- as.factor(test$Cover_Type)\n",
    "train$Cover_Type <- as.factor(train$Cover_Type)"
   ]
  },
  {
   "cell_type": "code",
   "execution_count": 18,
   "metadata": {},
   "outputs": [],
   "source": [
    "train <- train %>%\n",
    "  mutate(Cover_Type = as.character(Cover_Type),\n",
    "         Cover_Type = if_else(Cover_Type == '1', 'a', Cover_Type),\n",
    "         Cover_Type = if_else(Cover_Type == '2', 'b', Cover_Type),\n",
    "         Cover_Type = if_else(Cover_Type == '3', 'c', Cover_Type),\n",
    "         Cover_Type = if_else(Cover_Type == '4', 'd', Cover_Type),\n",
    "         Cover_Type = if_else(Cover_Type == '5', 'e', Cover_Type),\n",
    "         Cover_Type = if_else(Cover_Type == '6', 'f', Cover_Type),\n",
    "         Cover_Type = if_else(Cover_Type == '7', 'g', Cover_Type),\n",
    "         Cover_Type = as.factor(Cover_Type))\n",
    "test <- test %>%\n",
    "  mutate(Cover_Type = as.character(Cover_Type),\n",
    "         Cover_Type = if_else(Cover_Type == '1', 'a', Cover_Type),\n",
    "         Cover_Type = if_else(Cover_Type == '2', 'b', Cover_Type),\n",
    "         Cover_Type = if_else(Cover_Type == '3', 'c', Cover_Type),\n",
    "         Cover_Type = if_else(Cover_Type == '4', 'd', Cover_Type),\n",
    "         Cover_Type = if_else(Cover_Type == '5', 'e', Cover_Type),\n",
    "         Cover_Type = if_else(Cover_Type == '6', 'f', Cover_Type),\n",
    "         Cover_Type = if_else(Cover_Type == '7', 'g', Cover_Type),\n",
    "         Cover_Type = as.factor(Cover_Type))"
   ]
  },
  {
   "cell_type": "code",
   "execution_count": 19,
   "metadata": {},
   "outputs": [
    {
     "name": "stdout",
     "output_type": "stream",
     "text": [
      "+ Fold1.Rep1: mtry= 2, splitrule=gini, min.node.size=5 \n",
      "- Fold1.Rep1: mtry= 2, splitrule=gini, min.node.size=5 \n",
      "+ Fold1.Rep1: mtry= 5, splitrule=gini, min.node.size=5 \n",
      "- Fold1.Rep1: mtry= 5, splitrule=gini, min.node.size=5 \n",
      "+ Fold1.Rep1: mtry= 7, splitrule=gini, min.node.size=5 \n",
      "- Fold1.Rep1: mtry= 7, splitrule=gini, min.node.size=5 \n",
      "+ Fold1.Rep1: mtry=10, splitrule=gini, min.node.size=5 \n",
      "- Fold1.Rep1: mtry=10, splitrule=gini, min.node.size=5 \n",
      "+ Fold2.Rep1: mtry= 2, splitrule=gini, min.node.size=5 \n",
      "- Fold2.Rep1: mtry= 2, splitrule=gini, min.node.size=5 \n",
      "+ Fold2.Rep1: mtry= 5, splitrule=gini, min.node.size=5 \n",
      "- Fold2.Rep1: mtry= 5, splitrule=gini, min.node.size=5 \n",
      "+ Fold2.Rep1: mtry= 7, splitrule=gini, min.node.size=5 \n",
      "- Fold2.Rep1: mtry= 7, splitrule=gini, min.node.size=5 \n",
      "+ Fold2.Rep1: mtry=10, splitrule=gini, min.node.size=5 \n",
      "- Fold2.Rep1: mtry=10, splitrule=gini, min.node.size=5 \n",
      "+ Fold3.Rep1: mtry= 2, splitrule=gini, min.node.size=5 \n",
      "- Fold3.Rep1: mtry= 2, splitrule=gini, min.node.size=5 \n",
      "+ Fold3.Rep1: mtry= 5, splitrule=gini, min.node.size=5 \n",
      "- Fold3.Rep1: mtry= 5, splitrule=gini, min.node.size=5 \n",
      "+ Fold3.Rep1: mtry= 7, splitrule=gini, min.node.size=5 \n",
      "- Fold3.Rep1: mtry= 7, splitrule=gini, min.node.size=5 \n",
      "+ Fold3.Rep1: mtry=10, splitrule=gini, min.node.size=5 \n",
      "- Fold3.Rep1: mtry=10, splitrule=gini, min.node.size=5 \n",
      "+ Fold4.Rep1: mtry= 2, splitrule=gini, min.node.size=5 \n",
      "- Fold4.Rep1: mtry= 2, splitrule=gini, min.node.size=5 \n",
      "+ Fold4.Rep1: mtry= 5, splitrule=gini, min.node.size=5 \n",
      "- Fold4.Rep1: mtry= 5, splitrule=gini, min.node.size=5 \n",
      "+ Fold4.Rep1: mtry= 7, splitrule=gini, min.node.size=5 \n",
      "- Fold4.Rep1: mtry= 7, splitrule=gini, min.node.size=5 \n",
      "+ Fold4.Rep1: mtry=10, splitrule=gini, min.node.size=5 \n",
      "- Fold4.Rep1: mtry=10, splitrule=gini, min.node.size=5 \n",
      "+ Fold5.Rep1: mtry= 2, splitrule=gini, min.node.size=5 \n",
      "- Fold5.Rep1: mtry= 2, splitrule=gini, min.node.size=5 \n",
      "+ Fold5.Rep1: mtry= 5, splitrule=gini, min.node.size=5 \n",
      "- Fold5.Rep1: mtry= 5, splitrule=gini, min.node.size=5 \n",
      "+ Fold5.Rep1: mtry= 7, splitrule=gini, min.node.size=5 \n",
      "- Fold5.Rep1: mtry= 7, splitrule=gini, min.node.size=5 \n",
      "+ Fold5.Rep1: mtry=10, splitrule=gini, min.node.size=5 \n",
      "- Fold5.Rep1: mtry=10, splitrule=gini, min.node.size=5 \n",
      "+ Fold1.Rep2: mtry= 2, splitrule=gini, min.node.size=5 \n",
      "- Fold1.Rep2: mtry= 2, splitrule=gini, min.node.size=5 \n",
      "+ Fold1.Rep2: mtry= 5, splitrule=gini, min.node.size=5 \n",
      "- Fold1.Rep2: mtry= 5, splitrule=gini, min.node.size=5 \n",
      "+ Fold1.Rep2: mtry= 7, splitrule=gini, min.node.size=5 \n",
      "- Fold1.Rep2: mtry= 7, splitrule=gini, min.node.size=5 \n",
      "+ Fold1.Rep2: mtry=10, splitrule=gini, min.node.size=5 \n",
      "- Fold1.Rep2: mtry=10, splitrule=gini, min.node.size=5 \n",
      "+ Fold2.Rep2: mtry= 2, splitrule=gini, min.node.size=5 \n",
      "- Fold2.Rep2: mtry= 2, splitrule=gini, min.node.size=5 \n",
      "+ Fold2.Rep2: mtry= 5, splitrule=gini, min.node.size=5 \n",
      "- Fold2.Rep2: mtry= 5, splitrule=gini, min.node.size=5 \n",
      "+ Fold2.Rep2: mtry= 7, splitrule=gini, min.node.size=5 \n",
      "- Fold2.Rep2: mtry= 7, splitrule=gini, min.node.size=5 \n",
      "+ Fold2.Rep2: mtry=10, splitrule=gini, min.node.size=5 \n",
      "- Fold2.Rep2: mtry=10, splitrule=gini, min.node.size=5 \n",
      "+ Fold3.Rep2: mtry= 2, splitrule=gini, min.node.size=5 \n",
      "- Fold3.Rep2: mtry= 2, splitrule=gini, min.node.size=5 \n",
      "+ Fold3.Rep2: mtry= 5, splitrule=gini, min.node.size=5 \n",
      "- Fold3.Rep2: mtry= 5, splitrule=gini, min.node.size=5 \n",
      "+ Fold3.Rep2: mtry= 7, splitrule=gini, min.node.size=5 \n",
      "- Fold3.Rep2: mtry= 7, splitrule=gini, min.node.size=5 \n",
      "+ Fold3.Rep2: mtry=10, splitrule=gini, min.node.size=5 \n",
      "- Fold3.Rep2: mtry=10, splitrule=gini, min.node.size=5 \n",
      "+ Fold4.Rep2: mtry= 2, splitrule=gini, min.node.size=5 \n",
      "- Fold4.Rep2: mtry= 2, splitrule=gini, min.node.size=5 \n",
      "+ Fold4.Rep2: mtry= 5, splitrule=gini, min.node.size=5 \n",
      "- Fold4.Rep2: mtry= 5, splitrule=gini, min.node.size=5 \n",
      "+ Fold4.Rep2: mtry= 7, splitrule=gini, min.node.size=5 \n",
      "- Fold4.Rep2: mtry= 7, splitrule=gini, min.node.size=5 \n",
      "+ Fold4.Rep2: mtry=10, splitrule=gini, min.node.size=5 \n",
      "- Fold4.Rep2: mtry=10, splitrule=gini, min.node.size=5 \n",
      "+ Fold5.Rep2: mtry= 2, splitrule=gini, min.node.size=5 \n",
      "- Fold5.Rep2: mtry= 2, splitrule=gini, min.node.size=5 \n",
      "+ Fold5.Rep2: mtry= 5, splitrule=gini, min.node.size=5 \n",
      "- Fold5.Rep2: mtry= 5, splitrule=gini, min.node.size=5 \n",
      "+ Fold5.Rep2: mtry= 7, splitrule=gini, min.node.size=5 \n",
      "- Fold5.Rep2: mtry= 7, splitrule=gini, min.node.size=5 \n",
      "+ Fold5.Rep2: mtry=10, splitrule=gini, min.node.size=5 \n",
      "- Fold5.Rep2: mtry=10, splitrule=gini, min.node.size=5 \n",
      "+ Fold1.Rep3: mtry= 2, splitrule=gini, min.node.size=5 \n",
      "- Fold1.Rep3: mtry= 2, splitrule=gini, min.node.size=5 \n",
      "+ Fold1.Rep3: mtry= 5, splitrule=gini, min.node.size=5 \n",
      "- Fold1.Rep3: mtry= 5, splitrule=gini, min.node.size=5 \n",
      "+ Fold1.Rep3: mtry= 7, splitrule=gini, min.node.size=5 \n",
      "- Fold1.Rep3: mtry= 7, splitrule=gini, min.node.size=5 \n",
      "+ Fold1.Rep3: mtry=10, splitrule=gini, min.node.size=5 \n",
      "- Fold1.Rep3: mtry=10, splitrule=gini, min.node.size=5 \n",
      "+ Fold2.Rep3: mtry= 2, splitrule=gini, min.node.size=5 \n",
      "- Fold2.Rep3: mtry= 2, splitrule=gini, min.node.size=5 \n",
      "+ Fold2.Rep3: mtry= 5, splitrule=gini, min.node.size=5 \n",
      "- Fold2.Rep3: mtry= 5, splitrule=gini, min.node.size=5 \n",
      "+ Fold2.Rep3: mtry= 7, splitrule=gini, min.node.size=5 \n",
      "- Fold2.Rep3: mtry= 7, splitrule=gini, min.node.size=5 \n",
      "+ Fold2.Rep3: mtry=10, splitrule=gini, min.node.size=5 \n",
      "- Fold2.Rep3: mtry=10, splitrule=gini, min.node.size=5 \n",
      "+ Fold3.Rep3: mtry= 2, splitrule=gini, min.node.size=5 \n",
      "- Fold3.Rep3: mtry= 2, splitrule=gini, min.node.size=5 \n",
      "+ Fold3.Rep3: mtry= 5, splitrule=gini, min.node.size=5 \n",
      "- Fold3.Rep3: mtry= 5, splitrule=gini, min.node.size=5 \n",
      "+ Fold3.Rep3: mtry= 7, splitrule=gini, min.node.size=5 \n",
      "- Fold3.Rep3: mtry= 7, splitrule=gini, min.node.size=5 \n",
      "+ Fold3.Rep3: mtry=10, splitrule=gini, min.node.size=5 \n",
      "- Fold3.Rep3: mtry=10, splitrule=gini, min.node.size=5 \n",
      "+ Fold4.Rep3: mtry= 2, splitrule=gini, min.node.size=5 \n",
      "- Fold4.Rep3: mtry= 2, splitrule=gini, min.node.size=5 \n",
      "+ Fold4.Rep3: mtry= 5, splitrule=gini, min.node.size=5 \n",
      "- Fold4.Rep3: mtry= 5, splitrule=gini, min.node.size=5 \n",
      "+ Fold4.Rep3: mtry= 7, splitrule=gini, min.node.size=5 \n",
      "- Fold4.Rep3: mtry= 7, splitrule=gini, min.node.size=5 \n",
      "+ Fold4.Rep3: mtry=10, splitrule=gini, min.node.size=5 \n",
      "- Fold4.Rep3: mtry=10, splitrule=gini, min.node.size=5 \n",
      "+ Fold5.Rep3: mtry= 2, splitrule=gini, min.node.size=5 \n",
      "- Fold5.Rep3: mtry= 2, splitrule=gini, min.node.size=5 \n",
      "+ Fold5.Rep3: mtry= 5, splitrule=gini, min.node.size=5 \n",
      "- Fold5.Rep3: mtry= 5, splitrule=gini, min.node.size=5 \n",
      "+ Fold5.Rep3: mtry= 7, splitrule=gini, min.node.size=5 \n",
      "- Fold5.Rep3: mtry= 7, splitrule=gini, min.node.size=5 \n",
      "+ Fold5.Rep3: mtry=10, splitrule=gini, min.node.size=5 \n",
      "- Fold5.Rep3: mtry=10, splitrule=gini, min.node.size=5 \n",
      "Aggregating results\n",
      "Selecting tuning parameters\n",
      "Fitting mtry = 10, splitrule = gini, min.node.size = 5 on full training set\n"
     ]
    }
   ],
   "source": [
    "folds <- createMultiFolds(train$Cover_Type, k = 5, times = 3)\n",
    "control <- trainControl(method = \"cv\", number = 5, verboseIter = TRUE,\n",
    "                        classProbs = TRUE, savePredictions = TRUE, index = folds, allowParallel = TRUE)\n",
    "tune_grid <- expand.grid(mtry = c(2,5,7,10), splitrule= \"gini\",  min.node.size = 5)\n",
    "rf <- train(Cover_Type~., train, method = \"ranger\", tuneGrid = tune_grid, trControl = control)"
   ]
  },
  {
   "cell_type": "code",
   "execution_count": 20,
   "metadata": {},
   "outputs": [],
   "source": [
    "predictrf <-predict(rf, newdata=test)"
   ]
  },
  {
   "cell_type": "code",
   "execution_count": 21,
   "metadata": {},
   "outputs": [
    {
     "data": {
      "text/plain": [
       "Confusion Matrix and Statistics\n",
       "\n",
       "          Reference\n",
       "Prediction   a   b   c   d   e   f   g\n",
       "         a 439 123   0   0   0   0   6\n",
       "         b 101 571   4   0   1   5   0\n",
       "         c   0   6  74   0   0   8   0\n",
       "         d   0   0   7   1   0   0   0\n",
       "         e   0  20   0   0   2   0   0\n",
       "         f   0  12  15   0   0  13   0\n",
       "         g  17   0   0   0   0   0  28\n",
       "\n",
       "Overall Statistics\n",
       "                                         \n",
       "               Accuracy : 0.7763         \n",
       "                 95% CI : (0.754, 0.7975)\n",
       "    No Information Rate : 0.5038         \n",
       "    P-Value [Acc > NIR] : < 2.2e-16      \n",
       "                                         \n",
       "                  Kappa : 0.6323         \n",
       "                                         \n",
       " Mcnemar's Test P-Value : NA             \n",
       "\n",
       "Statistics by Class:\n",
       "\n",
       "                     Class: a Class: b Class: c  Class: d Class: e Class: f\n",
       "Sensitivity            0.7882   0.7801  0.74000 1.0000000 0.666667 0.500000\n",
       "Specificity            0.8560   0.8460  0.98965 0.9951791 0.986207 0.981079\n",
       "Pos Pred Value         0.7729   0.8372  0.84091 0.1250000 0.090909 0.325000\n",
       "Neg Pred Value         0.8667   0.7912  0.98095 1.0000000 0.999301 0.990800\n",
       "Prevalence             0.3833   0.5038  0.06882 0.0006882 0.002065 0.017894\n",
       "Detection Rate         0.3021   0.3930  0.05093 0.0006882 0.001376 0.008947\n",
       "Detection Prevalence   0.3909   0.4694  0.06056 0.0055058 0.015141 0.027529\n",
       "Balanced Accuracy      0.8221   0.8131  0.86483 0.9975895 0.826437 0.740540\n",
       "                     Class: g\n",
       "Sensitivity           0.82353\n",
       "Specificity           0.98802\n",
       "Pos Pred Value        0.62222\n",
       "Neg Pred Value        0.99574\n",
       "Prevalence            0.02340\n",
       "Detection Rate        0.01927\n",
       "Detection Prevalence  0.03097\n",
       "Balanced Accuracy     0.90577"
      ]
     },
     "metadata": {},
     "output_type": "display_data"
    }
   ],
   "source": [
    "confusionMatrix(test$Cover_Type,as.factor(predictrf))"
   ]
  },
  {
   "cell_type": "code",
   "execution_count": 22,
   "metadata": {},
   "outputs": [
    {
     "data": {
      "text/plain": [
       "Confusion Matrix and Statistics\n",
       "\n",
       "          Reference\n",
       "Prediction    a    b    c    d    e    f    g\n",
       "         a 1600   21    0    0    0    0    0\n",
       "         b    2 2109    2    0    0    1    0\n",
       "         c    0    5  245    0    0    0    0\n",
       "         d    0    0    0   17    0    0    0\n",
       "         e    0   11    2    0   66    0    0\n",
       "         f    0    4    4    0    0  120    0\n",
       "         g    4    0    0    0    0    0  144\n",
       "\n",
       "Overall Statistics\n",
       "                                          \n",
       "               Accuracy : 0.9871          \n",
       "                 95% CI : (0.9833, 0.9903)\n",
       "    No Information Rate : 0.4935          \n",
       "    P-Value [Acc > NIR] : < 2.2e-16       \n",
       "                                          \n",
       "                  Kappa : 0.9792          \n",
       "                                          \n",
       " Mcnemar's Test P-Value : NA              \n",
       "\n",
       "Statistics by Class:\n",
       "\n",
       "                     Class: a Class: b Class: c Class: d Class: e Class: f\n",
       "Sensitivity            0.9963   0.9809  0.96838 1.000000  1.00000  0.99174\n",
       "Specificity            0.9924   0.9977  0.99878 1.000000  0.99697  0.99811\n",
       "Pos Pred Value         0.9870   0.9976  0.98000 1.000000  0.83544  0.93750\n",
       "Neg Pred Value         0.9978   0.9817  0.99805 1.000000  1.00000  0.99976\n",
       "Prevalence             0.3686   0.4935  0.05807 0.003902  0.01515  0.02777\n",
       "Detection Rate         0.3672   0.4840  0.05623 0.003902  0.01515  0.02754\n",
       "Detection Prevalence   0.3720   0.4852  0.05738 0.003902  0.01813  0.02938\n",
       "Balanced Accuracy      0.9943   0.9893  0.98358 1.000000  0.99849  0.99492\n",
       "                     Class: g\n",
       "Sensitivity           1.00000\n",
       "Specificity           0.99905\n",
       "Pos Pred Value        0.97297\n",
       "Neg Pred Value        1.00000\n",
       "Prevalence            0.03305\n",
       "Detection Rate        0.03305\n",
       "Detection Prevalence  0.03397\n",
       "Balanced Accuracy     0.99953"
      ]
     },
     "metadata": {},
     "output_type": "display_data"
    }
   ],
   "source": [
    "predictrf <-predict(rf, newdata=train)\n",
    "confusionMatrix(train$Cover_Type,as.factor(predictrf))"
   ]
  },
  {
   "cell_type": "markdown",
   "metadata": {},
   "source": [
    "Accuracy is 0.77 for test data and 0.987 for train data, best performance so far based on test data predictions. However, it overfits the training data."
   ]
  },
  {
   "cell_type": "markdown",
   "metadata": {},
   "source": [
    "## Stochastic Gradient Boosting"
   ]
  },
  {
   "cell_type": "markdown",
   "metadata": {},
   "source": [
    "We will optimize parameters depth of the tree, learning rate (also known\n",
    "as shrinkage) and number of trees through cross validation."
   ]
  },
  {
   "cell_type": "code",
   "execution_count": 23,
   "metadata": {},
   "outputs": [
    {
     "name": "stderr",
     "output_type": "stream",
     "text": [
      "Warning message in (function (x, y, offset = NULL, misc = NULL, distribution = \"bernoulli\", :\n",
      "\"variable 21: Soil_Type7 has no variation.\"Warning message in (function (x, y, offset = NULL, misc = NULL, distribution = \"bernoulli\", :\n",
      "\"variable 29: Soil_Type15 has no variation.\"Warning message in (function (x, y, offset = NULL, misc = NULL, distribution = \"bernoulli\", :\n",
      "\"variable 50: Soil_Type36 has no variation.\""
     ]
    },
    {
     "name": "stdout",
     "output_type": "stream",
     "text": [
      "Iter   TrainDeviance   ValidDeviance   StepSize   Improve\n",
      "     1        1.9459             nan     0.0010    0.0055\n",
      "     2        1.9430             nan     0.0010    0.0055\n",
      "     3        1.9401             nan     0.0010    0.0055\n",
      "     4        1.9372             nan     0.0010    0.0055\n",
      "     5        1.9344             nan     0.0010    0.0055\n",
      "     6        1.9316             nan     0.0010    0.0055\n",
      "     7        1.9287             nan     0.0010    0.0054\n",
      "     8        1.9259             nan     0.0010    0.0054\n",
      "     9        1.9230             nan     0.0010    0.0054\n",
      "    10        1.9202             nan     0.0010    0.0054\n",
      "    20        1.8928             nan     0.0010    0.0051\n",
      "    40        1.8411             nan     0.0010    0.0047\n",
      "    60        1.7931             nan     0.0010    0.0044\n",
      "    80        1.7484             nan     0.0010    0.0041\n",
      "   100        1.7069             nan     0.0010    0.0038\n",
      "   120        1.6682             nan     0.0010    0.0036\n",
      "   140        1.6318             nan     0.0010    0.0033\n",
      "   160        1.5977             nan     0.0010    0.0032\n",
      "   180        1.5654             nan     0.0010    0.0030\n",
      "   200        1.5350             nan     0.0010    0.0028\n",
      "   220        1.5062             nan     0.0010    0.0026\n",
      "   240        1.4788             nan     0.0010    0.0025\n",
      "   260        1.4528             nan     0.0010    0.0024\n",
      "   280        1.4280             nan     0.0010    0.0023\n",
      "   300        1.4046             nan     0.0010    0.0021\n",
      "   320        1.3822             nan     0.0010    0.0020\n",
      "   340        1.3609             nan     0.0010    0.0019\n",
      "   360        1.3405             nan     0.0010    0.0018\n",
      "   380        1.3211             nan     0.0010    0.0017\n",
      "   400        1.3026             nan     0.0010    0.0017\n",
      "   420        1.2848             nan     0.0010    0.0016\n",
      "   440        1.2677             nan     0.0010    0.0016\n",
      "   460        1.2512             nan     0.0010    0.0015\n",
      "   480        1.2354             nan     0.0010    0.0015\n",
      "   500        1.2201             nan     0.0010    0.0014\n",
      "   520        1.2056             nan     0.0010    0.0013\n",
      "   540        1.1917             nan     0.0010    0.0012\n",
      "   560        1.1784             nan     0.0010    0.0012\n",
      "   580        1.1655             nan     0.0010    0.0012\n",
      "   600        1.1530             nan     0.0010    0.0011\n",
      "   620        1.1410             nan     0.0010    0.0011\n",
      "   640        1.1295             nan     0.0010    0.0010\n",
      "   660        1.1184             nan     0.0010    0.0009\n",
      "   680        1.1078             nan     0.0010    0.0009\n",
      "   700        1.0976             nan     0.0010    0.0010\n",
      "   720        1.0876             nan     0.0010    0.0008\n",
      "   740        1.0780             nan     0.0010    0.0008\n",
      "   760        1.0689             nan     0.0010    0.0008\n",
      "   780        1.0601             nan     0.0010    0.0008\n",
      "   800        1.0515             nan     0.0010    0.0007\n",
      "   820        1.0434             nan     0.0010    0.0007\n",
      "   840        1.0353             nan     0.0010    0.0007\n",
      "   860        1.0276             nan     0.0010    0.0006\n",
      "   880        1.0203             nan     0.0010    0.0006\n",
      "   900        1.0132             nan     0.0010    0.0006\n",
      "   920        1.0061             nan     0.0010    0.0006\n",
      "   940        0.9994             nan     0.0010    0.0006\n",
      "   960        0.9929             nan     0.0010    0.0006\n",
      "   980        0.9866             nan     0.0010    0.0005\n",
      "  1000        0.9804             nan     0.0010    0.0006\n",
      "\n"
     ]
    },
    {
     "name": "stderr",
     "output_type": "stream",
     "text": [
      "Warning message in (function (x, y, offset = NULL, misc = NULL, distribution = \"bernoulli\", :\n",
      "\"variable 21: Soil_Type7 has no variation.\"Warning message in (function (x, y, offset = NULL, misc = NULL, distribution = \"bernoulli\", :\n",
      "\"variable 29: Soil_Type15 has no variation.\"Warning message in (function (x, y, offset = NULL, misc = NULL, distribution = \"bernoulli\", :\n",
      "\"variable 50: Soil_Type36 has no variation.\""
     ]
    },
    {
     "name": "stdout",
     "output_type": "stream",
     "text": [
      "Iter   TrainDeviance   ValidDeviance   StepSize   Improve\n",
      "     1        1.9459             nan     0.0010    0.0063\n",
      "     2        1.9426             nan     0.0010    0.0062\n",
      "     3        1.9393             nan     0.0010    0.0061\n",
      "     4        1.9361             nan     0.0010    0.0061\n",
      "     5        1.9329             nan     0.0010    0.0061\n",
      "     6        1.9297             nan     0.0010    0.0061\n",
      "     7        1.9265             nan     0.0010    0.0061\n",
      "     8        1.9232             nan     0.0010    0.0060\n",
      "     9        1.9201             nan     0.0010    0.0060\n",
      "    10        1.9169             nan     0.0010    0.0060\n",
      "    20        1.8858             nan     0.0010    0.0057\n",
      "    40        1.8275             nan     0.0010    0.0052\n",
      "    60        1.7738             nan     0.0010    0.0048\n",
      "    80        1.7239             nan     0.0010    0.0045\n",
      "   100        1.6773             nan     0.0010    0.0042\n",
      "   120        1.6344             nan     0.0010    0.0039\n",
      "   140        1.5941             nan     0.0010    0.0037\n",
      "   160        1.5561             nan     0.0010    0.0034\n",
      "   180        1.5203             nan     0.0010    0.0032\n",
      "   200        1.4866             nan     0.0010    0.0030\n",
      "   220        1.4549             nan     0.0010    0.0028\n",
      "   240        1.4248             nan     0.0010    0.0027\n",
      "   260        1.3963             nan     0.0010    0.0026\n",
      "   280        1.3693             nan     0.0010    0.0024\n",
      "   300        1.3434             nan     0.0010    0.0023\n",
      "   320        1.3189             nan     0.0010    0.0022\n",
      "   340        1.2956             nan     0.0010    0.0020\n",
      "   360        1.2734             nan     0.0010    0.0020\n",
      "   380        1.2522             nan     0.0010    0.0019\n",
      "   400        1.2320             nan     0.0010    0.0018\n",
      "   420        1.2127             nan     0.0010    0.0017\n",
      "   440        1.1942             nan     0.0010    0.0016\n",
      "   460        1.1765             nan     0.0010    0.0016\n",
      "   480        1.1595             nan     0.0010    0.0015\n",
      "   500        1.1432             nan     0.0010    0.0014\n",
      "   520        1.1275             nan     0.0010    0.0014\n",
      "   540        1.1124             nan     0.0010    0.0013\n",
      "   560        1.0981             nan     0.0010    0.0012\n",
      "   580        1.0842             nan     0.0010    0.0012\n",
      "   600        1.0707             nan     0.0010    0.0011\n",
      "   620        1.0578             nan     0.0010    0.0012\n",
      "   640        1.0453             nan     0.0010    0.0010\n",
      "   660        1.0332             nan     0.0010    0.0011\n",
      "   680        1.0216             nan     0.0010    0.0010\n",
      "   700        1.0103             nan     0.0010    0.0010\n",
      "   720        0.9996             nan     0.0010    0.0009\n",
      "   740        0.9891             nan     0.0010    0.0009\n",
      "   760        0.9790             nan     0.0010    0.0009\n",
      "   780        0.9692             nan     0.0010    0.0008\n",
      "   800        0.9597             nan     0.0010    0.0008\n",
      "   820        0.9505             nan     0.0010    0.0007\n",
      "   840        0.9417             nan     0.0010    0.0007\n",
      "   860        0.9331             nan     0.0010    0.0007\n",
      "   880        0.9247             nan     0.0010    0.0007\n",
      "   900        0.9166             nan     0.0010    0.0007\n",
      "   920        0.9087             nan     0.0010    0.0006\n",
      "   940        0.9011             nan     0.0010    0.0006\n",
      "   960        0.8937             nan     0.0010    0.0006\n",
      "   980        0.8865             nan     0.0010    0.0006\n",
      "  1000        0.8797             nan     0.0010    0.0006\n",
      "\n"
     ]
    },
    {
     "name": "stderr",
     "output_type": "stream",
     "text": [
      "Warning message in (function (x, y, offset = NULL, misc = NULL, distribution = \"bernoulli\", :\n",
      "\"variable 21: Soil_Type7 has no variation.\"Warning message in (function (x, y, offset = NULL, misc = NULL, distribution = \"bernoulli\", :\n",
      "\"variable 29: Soil_Type15 has no variation.\"Warning message in (function (x, y, offset = NULL, misc = NULL, distribution = \"bernoulli\", :\n",
      "\"variable 50: Soil_Type36 has no variation.\""
     ]
    },
    {
     "name": "stdout",
     "output_type": "stream",
     "text": [
      "Iter   TrainDeviance   ValidDeviance   StepSize   Improve\n",
      "     1        1.9459             nan     0.0010    0.0065\n",
      "     2        1.9424             nan     0.0010    0.0065\n",
      "     3        1.9390             nan     0.0010    0.0064\n",
      "     4        1.9356             nan     0.0010    0.0062\n",
      "     5        1.9322             nan     0.0010    0.0064\n",
      "     6        1.9288             nan     0.0010    0.0063\n",
      "     7        1.9255             nan     0.0010    0.0063\n",
      "     8        1.9221             nan     0.0010    0.0063\n",
      "     9        1.9187             nan     0.0010    0.0062\n",
      "    10        1.9154             nan     0.0010    0.0062\n",
      "    20        1.8830             nan     0.0010    0.0059\n",
      "    40        1.8220             nan     0.0010    0.0055\n",
      "    60        1.7656             nan     0.0010    0.0051\n",
      "    80        1.7138             nan     0.0010    0.0046\n",
      "   100        1.6654             nan     0.0010    0.0043\n",
      "   120        1.6201             nan     0.0010    0.0040\n",
      "   140        1.5776             nan     0.0010    0.0038\n",
      "   160        1.5381             nan     0.0010    0.0035\n",
      "   180        1.5007             nan     0.0010    0.0033\n",
      "   200        1.4656             nan     0.0010    0.0032\n",
      "   220        1.4325             nan     0.0010    0.0029\n",
      "   240        1.4011             nan     0.0010    0.0028\n",
      "   260        1.3713             nan     0.0010    0.0026\n",
      "   280        1.3430             nan     0.0010    0.0025\n",
      "   300        1.3161             nan     0.0010    0.0023\n",
      "   320        1.2906             nan     0.0010    0.0023\n",
      "   340        1.2664             nan     0.0010    0.0021\n",
      "   360        1.2433             nan     0.0010    0.0020\n",
      "   380        1.2212             nan     0.0010    0.0019\n",
      "   400        1.2001             nan     0.0010    0.0019\n",
      "   420        1.1798             nan     0.0010    0.0017\n",
      "   440        1.1605             nan     0.0010    0.0017\n",
      "   460        1.1420             nan     0.0010    0.0016\n",
      "   480        1.1243             nan     0.0010    0.0015\n",
      "   500        1.1072             nan     0.0010    0.0014\n",
      "   520        1.0909             nan     0.0010    0.0013\n",
      "   540        1.0753             nan     0.0010    0.0014\n",
      "   560        1.0602             nan     0.0010    0.0013\n",
      "   580        1.0458             nan     0.0010    0.0012\n",
      "   600        1.0318             nan     0.0010    0.0012\n",
      "   620        1.0184             nan     0.0010    0.0011\n",
      "   640        1.0054             nan     0.0010    0.0011\n",
      "   660        0.9930             nan     0.0010    0.0010\n",
      "   680        0.9809             nan     0.0010    0.0010\n",
      "   700        0.9692             nan     0.0010    0.0010\n",
      "   720        0.9581             nan     0.0010    0.0009\n",
      "   740        0.9472             nan     0.0010    0.0009\n",
      "   760        0.9368             nan     0.0010    0.0008\n",
      "   780        0.9267             nan     0.0010    0.0008\n",
      "   800        0.9168             nan     0.0010    0.0007\n",
      "   820        0.9073             nan     0.0010    0.0008\n",
      "   840        0.8981             nan     0.0010    0.0007\n",
      "   860        0.8893             nan     0.0010    0.0007\n",
      "   880        0.8807             nan     0.0010    0.0007\n",
      "   900        0.8724             nan     0.0010    0.0007\n",
      "   920        0.8642             nan     0.0010    0.0006\n",
      "   940        0.8564             nan     0.0010    0.0006\n",
      "   960        0.8487             nan     0.0010    0.0006\n",
      "   980        0.8414             nan     0.0010    0.0006\n",
      "  1000        0.8343             nan     0.0010    0.0006\n",
      "\n"
     ]
    },
    {
     "name": "stderr",
     "output_type": "stream",
     "text": [
      "Warning message in (function (x, y, offset = NULL, misc = NULL, distribution = \"bernoulli\", :\n",
      "\"variable 21: Soil_Type7 has no variation.\"Warning message in (function (x, y, offset = NULL, misc = NULL, distribution = \"bernoulli\", :\n",
      "\"variable 29: Soil_Type15 has no variation.\"Warning message in (function (x, y, offset = NULL, misc = NULL, distribution = \"bernoulli\", :\n",
      "\"variable 50: Soil_Type36 has no variation.\""
     ]
    },
    {
     "name": "stdout",
     "output_type": "stream",
     "text": [
      "Iter   TrainDeviance   ValidDeviance   StepSize   Improve\n",
      "     1        1.9459             nan     0.0100    0.0552\n",
      "     2        1.9169             nan     0.0100    0.0526\n",
      "     3        1.8888             nan     0.0100    0.0509\n",
      "     4        1.8616             nan     0.0100    0.0478\n",
      "     5        1.8361             nan     0.0100    0.0467\n",
      "     6        1.8117             nan     0.0100    0.0448\n",
      "     7        1.7879             nan     0.0100    0.0429\n",
      "     8        1.7651             nan     0.0100    0.0418\n",
      "     9        1.7431             nan     0.0100    0.0400\n",
      "    10        1.7217             nan     0.0100    0.0387\n",
      "    20        1.5450             nan     0.0100    0.0284\n",
      "    40        1.3080             nan     0.0100    0.0172\n",
      "    60        1.1568             nan     0.0100    0.0101\n",
      "    80        1.0545             nan     0.0100    0.0066\n",
      "   100        0.9831             nan     0.0100    0.0053\n",
      "   120        0.9292             nan     0.0100    0.0039\n",
      "   140        0.8899             nan     0.0100    0.0027\n",
      "   160        0.8586             nan     0.0100    0.0021\n",
      "   180        0.8321             nan     0.0100    0.0017\n",
      "   200        0.8115             nan     0.0100    0.0015\n",
      "   220        0.7945             nan     0.0100    0.0009\n",
      "   240        0.7798             nan     0.0100    0.0009\n",
      "   260        0.7676             nan     0.0100    0.0010\n",
      "   280        0.7574             nan     0.0100    0.0005\n",
      "   300        0.7483             nan     0.0100    0.0003\n",
      "   320        0.7403             nan     0.0100    0.0002\n",
      "   340        0.7328             nan     0.0100    0.0001\n",
      "   360        0.7261             nan     0.0100    0.0003\n",
      "   380        0.7199             nan     0.0100    0.0001\n",
      "   400        0.7145             nan     0.0100    0.0001\n",
      "   420        0.7091             nan     0.0100    0.0001\n",
      "   440        0.7042             nan     0.0100   -0.0000\n",
      "   460        0.6999             nan     0.0100    0.0002\n",
      "   480        0.6957             nan     0.0100    0.0001\n",
      "   500        0.6918             nan     0.0100    0.0000\n",
      "   520        0.6880             nan     0.0100    0.0002\n",
      "   540        0.6844             nan     0.0100    0.0000\n",
      "   560        0.6813             nan     0.0100    0.0000\n",
      "   580        0.6779             nan     0.0100   -0.0001\n",
      "   600        0.6750             nan     0.0100   -0.0002\n",
      "   620        0.6720             nan     0.0100   -0.0001\n",
      "   640        0.6692             nan     0.0100   -0.0001\n",
      "   660        0.6666             nan     0.0100   -0.0000\n",
      "   680        0.6640             nan     0.0100   -0.0001\n",
      "   700        0.6615             nan     0.0100   -0.0002\n",
      "   720        0.6592             nan     0.0100   -0.0002\n",
      "   740        0.6567             nan     0.0100   -0.0002\n",
      "   760        0.6545             nan     0.0100   -0.0002\n",
      "   780        0.6520             nan     0.0100   -0.0001\n",
      "   800        0.6499             nan     0.0100   -0.0000\n",
      "   820        0.6480             nan     0.0100   -0.0001\n",
      "   840        0.6460             nan     0.0100   -0.0000\n",
      "   860        0.6439             nan     0.0100   -0.0001\n",
      "   880        0.6418             nan     0.0100   -0.0001\n",
      "   900        0.6399             nan     0.0100   -0.0001\n",
      "   920        0.6384             nan     0.0100   -0.0002\n",
      "   940        0.6369             nan     0.0100   -0.0002\n",
      "   960        0.6352             nan     0.0100   -0.0001\n",
      "   980        0.6336             nan     0.0100   -0.0002\n",
      "  1000        0.6321             nan     0.0100   -0.0002\n",
      "\n"
     ]
    },
    {
     "name": "stderr",
     "output_type": "stream",
     "text": [
      "Warning message in (function (x, y, offset = NULL, misc = NULL, distribution = \"bernoulli\", :\n",
      "\"variable 21: Soil_Type7 has no variation.\"Warning message in (function (x, y, offset = NULL, misc = NULL, distribution = \"bernoulli\", :\n",
      "\"variable 29: Soil_Type15 has no variation.\"Warning message in (function (x, y, offset = NULL, misc = NULL, distribution = \"bernoulli\", :\n",
      "\"variable 50: Soil_Type36 has no variation.\""
     ]
    },
    {
     "name": "stdout",
     "output_type": "stream",
     "text": [
      "Iter   TrainDeviance   ValidDeviance   StepSize   Improve\n",
      "     1        1.9459             nan     0.0100    0.0611\n",
      "     2        1.9130             nan     0.0100    0.0595\n",
      "     3        1.8814             nan     0.0100    0.0563\n",
      "     4        1.8519             nan     0.0100    0.0539\n",
      "     5        1.8230             nan     0.0100    0.0519\n",
      "     6        1.7954             nan     0.0100    0.0496\n",
      "     7        1.7690             nan     0.0100    0.0474\n",
      "     8        1.7429             nan     0.0100    0.0456\n",
      "     9        1.7186             nan     0.0100    0.0435\n",
      "    10        1.6949             nan     0.0100    0.0426\n",
      "    20        1.4974             nan     0.0100    0.0311\n",
      "    40        1.2368             nan     0.0100    0.0178\n",
      "    60        1.0724             nan     0.0100    0.0117\n",
      "    80        0.9606             nan     0.0100    0.0080\n",
      "   100        0.8806             nan     0.0100    0.0057\n",
      "   120        0.8215             nan     0.0100    0.0040\n",
      "   140        0.7754             nan     0.0100    0.0028\n",
      "   160        0.7401             nan     0.0100    0.0023\n",
      "   180        0.7120             nan     0.0100    0.0015\n",
      "   200        0.6885             nan     0.0100    0.0010\n",
      "   220        0.6694             nan     0.0100    0.0009\n",
      "   240        0.6538             nan     0.0100    0.0005\n",
      "   260        0.6395             nan     0.0100    0.0003\n",
      "   280        0.6271             nan     0.0100    0.0000\n",
      "   300        0.6162             nan     0.0100    0.0004\n",
      "   320        0.6063             nan     0.0100    0.0003\n",
      "   340        0.5970             nan     0.0100   -0.0000\n",
      "   360        0.5891             nan     0.0100   -0.0000\n",
      "   380        0.5812             nan     0.0100    0.0003\n",
      "   400        0.5736             nan     0.0100   -0.0002\n",
      "   420        0.5669             nan     0.0100    0.0001\n",
      "   440        0.5607             nan     0.0100    0.0001\n",
      "   460        0.5546             nan     0.0100   -0.0002\n",
      "   480        0.5486             nan     0.0100   -0.0001\n",
      "   500        0.5438             nan     0.0100   -0.0002\n",
      "   520        0.5384             nan     0.0100   -0.0002\n",
      "   540        0.5335             nan     0.0100   -0.0001\n",
      "   560        0.5286             nan     0.0100   -0.0000\n",
      "   580        0.5237             nan     0.0100   -0.0001\n",
      "   600        0.5191             nan     0.0100   -0.0001\n",
      "   620        0.5147             nan     0.0100   -0.0003\n",
      "   640        0.5102             nan     0.0100   -0.0002\n",
      "   660        0.5064             nan     0.0100   -0.0003\n",
      "   680        0.5021             nan     0.0100   -0.0002\n",
      "   700        0.4986             nan     0.0100   -0.0001\n",
      "   720        0.4943             nan     0.0100   -0.0002\n",
      "   740        0.4906             nan     0.0100   -0.0000\n",
      "   760        0.4873             nan     0.0100   -0.0003\n",
      "   780        0.4838             nan     0.0100   -0.0003\n",
      "   800        0.4806             nan     0.0100   -0.0001\n",
      "   820        0.4775             nan     0.0100   -0.0003\n",
      "   840        0.4743             nan     0.0100   -0.0002\n",
      "   860        0.4709             nan     0.0100   -0.0002\n",
      "   880        0.4671             nan     0.0100   -0.0002\n",
      "   900        0.4642             nan     0.0100   -0.0002\n",
      "   920        0.4613             nan     0.0100   -0.0002\n",
      "   940        0.4585             nan     0.0100   -0.0003\n",
      "   960        0.4559             nan     0.0100   -0.0003\n",
      "   980        0.4532             nan     0.0100   -0.0003\n",
      "  1000        0.4507             nan     0.0100   -0.0003\n",
      "\n"
     ]
    },
    {
     "name": "stderr",
     "output_type": "stream",
     "text": [
      "Warning message in (function (x, y, offset = NULL, misc = NULL, distribution = \"bernoulli\", :\n",
      "\"variable 21: Soil_Type7 has no variation.\"Warning message in (function (x, y, offset = NULL, misc = NULL, distribution = \"bernoulli\", :\n",
      "\"variable 29: Soil_Type15 has no variation.\"Warning message in (function (x, y, offset = NULL, misc = NULL, distribution = \"bernoulli\", :\n",
      "\"variable 50: Soil_Type36 has no variation.\""
     ]
    },
    {
     "name": "stdout",
     "output_type": "stream",
     "text": [
      "Iter   TrainDeviance   ValidDeviance   StepSize   Improve\n",
      "     1        1.9459             nan     0.0100    0.0640\n",
      "     2        1.9114             nan     0.0100    0.0608\n",
      "     3        1.8788             nan     0.0100    0.0581\n",
      "     4        1.8481             nan     0.0100    0.0565\n",
      "     5        1.8175             nan     0.0100    0.0539\n",
      "     6        1.7885             nan     0.0100    0.0515\n",
      "     7        1.7609             nan     0.0100    0.0485\n",
      "     8        1.7344             nan     0.0100    0.0481\n",
      "     9        1.7085             nan     0.0100    0.0450\n",
      "    10        1.6843             nan     0.0100    0.0445\n",
      "    20        1.4776             nan     0.0100    0.0312\n",
      "    40        1.2060             nan     0.0100    0.0182\n",
      "    60        1.0350             nan     0.0100    0.0117\n",
      "    80        0.9198             nan     0.0100    0.0078\n",
      "   100        0.8362             nan     0.0100    0.0056\n",
      "   120        0.7739             nan     0.0100    0.0037\n",
      "   140        0.7258             nan     0.0100    0.0026\n",
      "   160        0.6880             nan     0.0100    0.0022\n",
      "   180        0.6577             nan     0.0100    0.0014\n",
      "   200        0.6326             nan     0.0100    0.0007\n",
      "   220        0.6117             nan     0.0100    0.0007\n",
      "   240        0.5925             nan     0.0100    0.0007\n",
      "   260        0.5764             nan     0.0100    0.0003\n",
      "   280        0.5627             nan     0.0100    0.0003\n",
      "   300        0.5502             nan     0.0100    0.0001\n",
      "   320        0.5386             nan     0.0100   -0.0001\n",
      "   340        0.5274             nan     0.0100    0.0003\n",
      "   360        0.5176             nan     0.0100   -0.0001\n",
      "   380        0.5086             nan     0.0100   -0.0002\n",
      "   400        0.5001             nan     0.0100   -0.0001\n",
      "   420        0.4920             nan     0.0100   -0.0002\n",
      "   440        0.4847             nan     0.0100   -0.0003\n",
      "   460        0.4780             nan     0.0100   -0.0002\n",
      "   480        0.4713             nan     0.0100   -0.0003\n",
      "   500        0.4643             nan     0.0100   -0.0002\n",
      "   520        0.4581             nan     0.0100   -0.0001\n",
      "   540        0.4517             nan     0.0100   -0.0004\n",
      "   560        0.4460             nan     0.0100   -0.0004\n",
      "   580        0.4401             nan     0.0100   -0.0002\n",
      "   600        0.4348             nan     0.0100   -0.0001\n",
      "   620        0.4295             nan     0.0100   -0.0003\n",
      "   640        0.4246             nan     0.0100   -0.0003\n",
      "   660        0.4198             nan     0.0100   -0.0003\n",
      "   680        0.4150             nan     0.0100   -0.0003\n",
      "   700        0.4103             nan     0.0100   -0.0003\n",
      "   720        0.4057             nan     0.0100   -0.0003\n",
      "   740        0.4010             nan     0.0100   -0.0004\n",
      "   760        0.3965             nan     0.0100   -0.0003\n",
      "   780        0.3923             nan     0.0100   -0.0002\n",
      "   800        0.3883             nan     0.0100   -0.0003\n",
      "   820        0.3845             nan     0.0100   -0.0004\n",
      "   840        0.3807             nan     0.0100   -0.0002\n",
      "   860        0.3769             nan     0.0100   -0.0002\n",
      "   880        0.3730             nan     0.0100   -0.0003\n",
      "   900        0.3692             nan     0.0100   -0.0002\n",
      "   920        0.3655             nan     0.0100   -0.0003\n",
      "   940        0.3620             nan     0.0100   -0.0003\n",
      "   960        0.3585             nan     0.0100   -0.0003\n",
      "   980        0.3549             nan     0.0100   -0.0002\n",
      "  1000        0.3516             nan     0.0100   -0.0001\n",
      "\n"
     ]
    },
    {
     "name": "stderr",
     "output_type": "stream",
     "text": [
      "Warning message in (function (x, y, offset = NULL, misc = NULL, distribution = \"bernoulli\", :\n",
      "\"variable 21: Soil_Type7 has no variation.\"Warning message in (function (x, y, offset = NULL, misc = NULL, distribution = \"bernoulli\", :\n",
      "\"variable 29: Soil_Type15 has no variation.\"Warning message in (function (x, y, offset = NULL, misc = NULL, distribution = \"bernoulli\", :\n",
      "\"variable 50: Soil_Type36 has no variation.\"Warning message in (function (x, y, offset = NULL, misc = NULL, distribution = \"bernoulli\", :\n",
      "\"variable 51: Soil_Type37 has no variation.\""
     ]
    },
    {
     "name": "stdout",
     "output_type": "stream",
     "text": [
      "Iter   TrainDeviance   ValidDeviance   StepSize   Improve\n",
      "     1        1.9459             nan     0.0010    0.0054\n",
      "     2        1.9431             nan     0.0010    0.0054\n",
      "     3        1.9403             nan     0.0010    0.0054\n",
      "     4        1.9375             nan     0.0010    0.0054\n",
      "     5        1.9346             nan     0.0010    0.0053\n",
      "     6        1.9318             nan     0.0010    0.0054\n",
      "     7        1.9290             nan     0.0010    0.0053\n",
      "     8        1.9262             nan     0.0010    0.0053\n",
      "     9        1.9234             nan     0.0010    0.0053\n",
      "    10        1.9206             nan     0.0010    0.0053\n",
      "    20        1.8936             nan     0.0010    0.0050\n",
      "    40        1.8426             nan     0.0010    0.0047\n",
      "    60        1.7958             nan     0.0010    0.0043\n",
      "    80        1.7520             nan     0.0010    0.0040\n",
      "   100        1.7112             nan     0.0010    0.0037\n",
      "   120        1.6728             nan     0.0010    0.0035\n",
      "   140        1.6368             nan     0.0010    0.0033\n",
      "   160        1.6031             nan     0.0010    0.0031\n",
      "   180        1.5710             nan     0.0010    0.0029\n",
      "   200        1.5409             nan     0.0010    0.0028\n",
      "   220        1.5124             nan     0.0010    0.0025\n",
      "   240        1.4852             nan     0.0010    0.0025\n",
      "   260        1.4595             nan     0.0010    0.0023\n",
      "   280        1.4350             nan     0.0010    0.0022\n",
      "   300        1.4118             nan     0.0010    0.0022\n",
      "   320        1.3895             nan     0.0010    0.0020\n",
      "   340        1.3683             nan     0.0010    0.0019\n",
      "   360        1.3480             nan     0.0010    0.0018\n",
      "   380        1.3286             nan     0.0010    0.0018\n",
      "   400        1.3101             nan     0.0010    0.0017\n",
      "   420        1.2924             nan     0.0010    0.0016\n",
      "   440        1.2753             nan     0.0010    0.0015\n",
      "   460        1.2590             nan     0.0010    0.0015\n",
      "   480        1.2431             nan     0.0010    0.0014\n",
      "   500        1.2280             nan     0.0010    0.0013\n",
      "   520        1.2136             nan     0.0010    0.0013\n",
      "   540        1.1995             nan     0.0010    0.0013\n",
      "   560        1.1860             nan     0.0010    0.0013\n",
      "   580        1.1731             nan     0.0010    0.0011\n",
      "   600        1.1607             nan     0.0010    0.0011\n",
      "   620        1.1487             nan     0.0010    0.0011\n",
      "   640        1.1372             nan     0.0010    0.0010\n",
      "   660        1.1260             nan     0.0010    0.0010\n",
      "   680        1.1152             nan     0.0010    0.0009\n",
      "   700        1.1050             nan     0.0010    0.0010\n",
      "   720        1.0951             nan     0.0010    0.0009\n",
      "   740        1.0855             nan     0.0010    0.0009\n",
      "   760        1.0761             nan     0.0010    0.0008\n",
      "   780        1.0671             nan     0.0010    0.0008\n",
      "   800        1.0584             nan     0.0010    0.0008\n",
      "   820        1.0501             nan     0.0010    0.0008\n",
      "   840        1.0420             nan     0.0010    0.0007\n",
      "   860        1.0342             nan     0.0010    0.0007\n",
      "   880        1.0266             nan     0.0010    0.0007\n",
      "   900        1.0194             nan     0.0010    0.0006\n",
      "   920        1.0123             nan     0.0010    0.0006\n",
      "   940        1.0055             nan     0.0010    0.0006\n",
      "   960        0.9989             nan     0.0010    0.0006\n",
      "   980        0.9925             nan     0.0010    0.0005\n",
      "  1000        0.9863             nan     0.0010    0.0005\n",
      "\n"
     ]
    },
    {
     "name": "stderr",
     "output_type": "stream",
     "text": [
      "Warning message in (function (x, y, offset = NULL, misc = NULL, distribution = \"bernoulli\", :\n",
      "\"variable 21: Soil_Type7 has no variation.\"Warning message in (function (x, y, offset = NULL, misc = NULL, distribution = \"bernoulli\", :\n",
      "\"variable 29: Soil_Type15 has no variation.\"Warning message in (function (x, y, offset = NULL, misc = NULL, distribution = \"bernoulli\", :\n",
      "\"variable 50: Soil_Type36 has no variation.\"Warning message in (function (x, y, offset = NULL, misc = NULL, distribution = \"bernoulli\", :\n",
      "\"variable 51: Soil_Type37 has no variation.\""
     ]
    },
    {
     "name": "stdout",
     "output_type": "stream",
     "text": [
      "Iter   TrainDeviance   ValidDeviance   StepSize   Improve\n",
      "     1        1.9459             nan     0.0010    0.0062\n",
      "     2        1.9426             nan     0.0010    0.0063\n",
      "     3        1.9393             nan     0.0010    0.0061\n",
      "     4        1.9361             nan     0.0010    0.0061\n",
      "     5        1.9329             nan     0.0010    0.0061\n",
      "     6        1.9297             nan     0.0010    0.0061\n",
      "     7        1.9265             nan     0.0010    0.0061\n",
      "     8        1.9233             nan     0.0010    0.0061\n",
      "     9        1.9201             nan     0.0010    0.0060\n",
      "    10        1.9169             nan     0.0010    0.0060\n",
      "    20        1.8860             nan     0.0010    0.0058\n",
      "    40        1.8282             nan     0.0010    0.0053\n",
      "    60        1.7749             nan     0.0010    0.0048\n",
      "    80        1.7254             nan     0.0010    0.0044\n",
      "   100        1.6795             nan     0.0010    0.0041\n",
      "   120        1.6365             nan     0.0010    0.0038\n",
      "   140        1.5961             nan     0.0010    0.0037\n",
      "   160        1.5582             nan     0.0010    0.0034\n",
      "   180        1.5225             nan     0.0010    0.0033\n",
      "   200        1.4889             nan     0.0010    0.0030\n",
      "   220        1.4571             nan     0.0010    0.0028\n",
      "   240        1.4271             nan     0.0010    0.0027\n",
      "   260        1.3988             nan     0.0010    0.0025\n",
      "   280        1.3717             nan     0.0010    0.0024\n",
      "   300        1.3460             nan     0.0010    0.0023\n",
      "   320        1.3216             nan     0.0010    0.0022\n",
      "   340        1.2983             nan     0.0010    0.0021\n",
      "   360        1.2762             nan     0.0010    0.0020\n",
      "   380        1.2550             nan     0.0010    0.0018\n",
      "   400        1.2349             nan     0.0010    0.0018\n",
      "   420        1.2157             nan     0.0010    0.0016\n",
      "   440        1.1972             nan     0.0010    0.0017\n",
      "   460        1.1795             nan     0.0010    0.0016\n",
      "   480        1.1625             nan     0.0010    0.0015\n",
      "   500        1.1462             nan     0.0010    0.0014\n",
      "   520        1.1305             nan     0.0010    0.0013\n",
      "   540        1.1156             nan     0.0010    0.0013\n",
      "   560        1.1012             nan     0.0010    0.0012\n",
      "   580        1.0874             nan     0.0010    0.0012\n",
      "   600        1.0740             nan     0.0010    0.0012\n",
      "   620        1.0612             nan     0.0010    0.0011\n",
      "   640        1.0488             nan     0.0010    0.0011\n",
      "   660        1.0369             nan     0.0010    0.0011\n",
      "   680        1.0254             nan     0.0010    0.0010\n",
      "   700        1.0143             nan     0.0010    0.0010\n",
      "   720        1.0035             nan     0.0010    0.0009\n",
      "   740        0.9933             nan     0.0010    0.0009\n",
      "   760        0.9832             nan     0.0010    0.0008\n",
      "   780        0.9735             nan     0.0010    0.0008\n",
      "   800        0.9642             nan     0.0010    0.0008\n",
      "   820        0.9551             nan     0.0010    0.0007\n",
      "   840        0.9463             nan     0.0010    0.0007\n",
      "   860        0.9379             nan     0.0010    0.0007\n",
      "   880        0.9296             nan     0.0010    0.0007\n",
      "   900        0.9217             nan     0.0010    0.0006\n",
      "   920        0.9140             nan     0.0010    0.0006\n",
      "   940        0.9066             nan     0.0010    0.0006\n",
      "   960        0.8993             nan     0.0010    0.0006\n",
      "   980        0.8924             nan     0.0010    0.0006\n",
      "  1000        0.8856             nan     0.0010    0.0005\n",
      "\n"
     ]
    },
    {
     "name": "stderr",
     "output_type": "stream",
     "text": [
      "Warning message in (function (x, y, offset = NULL, misc = NULL, distribution = \"bernoulli\", :\n",
      "\"variable 21: Soil_Type7 has no variation.\"Warning message in (function (x, y, offset = NULL, misc = NULL, distribution = \"bernoulli\", :\n",
      "\"variable 29: Soil_Type15 has no variation.\"Warning message in (function (x, y, offset = NULL, misc = NULL, distribution = \"bernoulli\", :\n",
      "\"variable 50: Soil_Type36 has no variation.\"Warning message in (function (x, y, offset = NULL, misc = NULL, distribution = \"bernoulli\", :\n",
      "\"variable 51: Soil_Type37 has no variation.\""
     ]
    },
    {
     "name": "stdout",
     "output_type": "stream",
     "text": [
      "Iter   TrainDeviance   ValidDeviance   StepSize   Improve\n",
      "     1        1.9459             nan     0.0010    0.0065\n",
      "     2        1.9424             nan     0.0010    0.0064\n",
      "     3        1.9391             nan     0.0010    0.0063\n",
      "     4        1.9357             nan     0.0010    0.0064\n",
      "     5        1.9323             nan     0.0010    0.0063\n",
      "     6        1.9289             nan     0.0010    0.0062\n",
      "     7        1.9255             nan     0.0010    0.0063\n",
      "     8        1.9222             nan     0.0010    0.0062\n",
      "     9        1.9189             nan     0.0010    0.0061\n",
      "    10        1.9155             nan     0.0010    0.0062\n",
      "    20        1.8833             nan     0.0010    0.0059\n",
      "    40        1.8228             nan     0.0010    0.0054\n",
      "    60        1.7672             nan     0.0010    0.0050\n",
      "    80        1.7156             nan     0.0010    0.0046\n",
      "   100        1.6676             nan     0.0010    0.0043\n",
      "   120        1.6229             nan     0.0010    0.0040\n",
      "   140        1.5810             nan     0.0010    0.0037\n",
      "   160        1.5415             nan     0.0010    0.0036\n",
      "   180        1.5045             nan     0.0010    0.0033\n",
      "   200        1.4696             nan     0.0010    0.0031\n",
      "   220        1.4367             nan     0.0010    0.0029\n",
      "   240        1.4054             nan     0.0010    0.0028\n",
      "   260        1.3759             nan     0.0010    0.0026\n",
      "   280        1.3478             nan     0.0010    0.0025\n",
      "   300        1.3212             nan     0.0010    0.0024\n",
      "   320        1.2957             nan     0.0010    0.0022\n",
      "   340        1.2716             nan     0.0010    0.0022\n",
      "   360        1.2485             nan     0.0010    0.0020\n",
      "   380        1.2265             nan     0.0010    0.0019\n",
      "   400        1.2056             nan     0.0010    0.0018\n",
      "   420        1.1854             nan     0.0010    0.0017\n",
      "   440        1.1662             nan     0.0010    0.0017\n",
      "   460        1.1478             nan     0.0010    0.0016\n",
      "   480        1.1302             nan     0.0010    0.0015\n",
      "   500        1.1132             nan     0.0010    0.0014\n",
      "   520        1.0970             nan     0.0010    0.0014\n",
      "   540        1.0814             nan     0.0010    0.0013\n",
      "   560        1.0664             nan     0.0010    0.0012\n",
      "   580        1.0519             nan     0.0010    0.0012\n",
      "   600        1.0381             nan     0.0010    0.0012\n",
      "   620        1.0247             nan     0.0010    0.0011\n",
      "   640        1.0120             nan     0.0010    0.0011\n",
      "   660        0.9996             nan     0.0010    0.0010\n",
      "   680        0.9877             nan     0.0010    0.0010\n",
      "   700        0.9763             nan     0.0010    0.0009\n",
      "   720        0.9652             nan     0.0010    0.0009\n",
      "   740        0.9544             nan     0.0010    0.0009\n",
      "   760        0.9440             nan     0.0010    0.0008\n",
      "   780        0.9339             nan     0.0010    0.0008\n",
      "   800        0.9242             nan     0.0010    0.0008\n",
      "   820        0.9149             nan     0.0010    0.0007\n",
      "   840        0.9058             nan     0.0010    0.0008\n",
      "   860        0.8970             nan     0.0010    0.0007\n",
      "   880        0.8884             nan     0.0010    0.0007\n",
      "   900        0.8801             nan     0.0010    0.0007\n",
      "   920        0.8721             nan     0.0010    0.0006\n",
      "   940        0.8644             nan     0.0010    0.0006\n",
      "   960        0.8569             nan     0.0010    0.0005\n",
      "   980        0.8495             nan     0.0010    0.0005\n",
      "  1000        0.8423             nan     0.0010    0.0006\n",
      "\n"
     ]
    },
    {
     "name": "stderr",
     "output_type": "stream",
     "text": [
      "Warning message in (function (x, y, offset = NULL, misc = NULL, distribution = \"bernoulli\", :\n",
      "\"variable 21: Soil_Type7 has no variation.\"Warning message in (function (x, y, offset = NULL, misc = NULL, distribution = \"bernoulli\", :\n",
      "\"variable 29: Soil_Type15 has no variation.\"Warning message in (function (x, y, offset = NULL, misc = NULL, distribution = \"bernoulli\", :\n",
      "\"variable 50: Soil_Type36 has no variation.\"Warning message in (function (x, y, offset = NULL, misc = NULL, distribution = \"bernoulli\", :\n",
      "\"variable 51: Soil_Type37 has no variation.\""
     ]
    },
    {
     "name": "stdout",
     "output_type": "stream",
     "text": [
      "Iter   TrainDeviance   ValidDeviance   StepSize   Improve\n",
      "     1        1.9459             nan     0.0100    0.0545\n",
      "     2        1.9173             nan     0.0100    0.0521\n",
      "     3        1.8903             nan     0.0100    0.0489\n",
      "     4        1.8648             nan     0.0100    0.0476\n",
      "     5        1.8398             nan     0.0100    0.0457\n",
      "     6        1.8150             nan     0.0100    0.0442\n",
      "     7        1.7920             nan     0.0100    0.0425\n",
      "     8        1.7691             nan     0.0100    0.0409\n",
      "     9        1.7474             nan     0.0100    0.0397\n",
      "    10        1.7269             nan     0.0100    0.0378\n",
      "    20        1.5518             nan     0.0100    0.0281\n",
      "    40        1.3149             nan     0.0100    0.0167\n",
      "    60        1.1634             nan     0.0100    0.0112\n",
      "    80        1.0602             nan     0.0100    0.0075\n",
      "   100        0.9877             nan     0.0100    0.0052\n",
      "   120        0.9347             nan     0.0100    0.0040\n",
      "   140        0.8943             nan     0.0100    0.0032\n",
      "   160        0.8634             nan     0.0100    0.0017\n",
      "   180        0.8385             nan     0.0100    0.0019\n",
      "   200        0.8178             nan     0.0100    0.0012\n",
      "   220        0.8015             nan     0.0100    0.0011\n",
      "   240        0.7878             nan     0.0100    0.0009\n",
      "   260        0.7755             nan     0.0100    0.0008\n",
      "   280        0.7656             nan     0.0100    0.0005\n",
      "   300        0.7567             nan     0.0100    0.0005\n",
      "   320        0.7487             nan     0.0100    0.0003\n",
      "   340        0.7414             nan     0.0100    0.0002\n",
      "   360        0.7350             nan     0.0100    0.0000\n",
      "   380        0.7291             nan     0.0100    0.0002\n",
      "   400        0.7237             nan     0.0100    0.0001\n",
      "   420        0.7189             nan     0.0100    0.0001\n",
      "   440        0.7142             nan     0.0100    0.0004\n",
      "   460        0.7097             nan     0.0100    0.0000\n",
      "   480        0.7059             nan     0.0100    0.0001\n",
      "   500        0.7023             nan     0.0100   -0.0001\n",
      "   520        0.6985             nan     0.0100   -0.0000\n",
      "   540        0.6953             nan     0.0100    0.0001\n",
      "   560        0.6920             nan     0.0100   -0.0001\n",
      "   580        0.6889             nan     0.0100   -0.0000\n",
      "   600        0.6858             nan     0.0100   -0.0001\n",
      "   620        0.6828             nan     0.0100   -0.0001\n",
      "   640        0.6798             nan     0.0100    0.0001\n",
      "   660        0.6772             nan     0.0100   -0.0001\n",
      "   680        0.6747             nan     0.0100   -0.0001\n",
      "   700        0.6719             nan     0.0100   -0.0001\n",
      "   720        0.6693             nan     0.0100   -0.0002\n",
      "   740        0.6667             nan     0.0100   -0.0000\n",
      "   760        0.6643             nan     0.0100   -0.0004\n",
      "   780        0.6621             nan     0.0100   -0.0002\n",
      "   800        0.6601             nan     0.0100   -0.0001\n",
      "   820        0.6580             nan     0.0100   -0.0001\n",
      "   840        0.6559             nan     0.0100   -0.0001\n",
      "   860        0.6540             nan     0.0100   -0.0001\n",
      "   880        0.6522             nan     0.0100   -0.0002\n",
      "   900        0.6501             nan     0.0100   -0.0002\n",
      "   920        0.6481             nan     0.0100   -0.0001\n",
      "   940        0.6462             nan     0.0100   -0.0000\n",
      "   960        0.6444             nan     0.0100   -0.0002\n",
      "   980        0.6427             nan     0.0100   -0.0002\n",
      "  1000        0.6411             nan     0.0100   -0.0001\n",
      "\n"
     ]
    },
    {
     "name": "stderr",
     "output_type": "stream",
     "text": [
      "Warning message in (function (x, y, offset = NULL, misc = NULL, distribution = \"bernoulli\", :\n",
      "\"variable 21: Soil_Type7 has no variation.\"Warning message in (function (x, y, offset = NULL, misc = NULL, distribution = \"bernoulli\", :\n",
      "\"variable 29: Soil_Type15 has no variation.\"Warning message in (function (x, y, offset = NULL, misc = NULL, distribution = \"bernoulli\", :\n",
      "\"variable 50: Soil_Type36 has no variation.\"Warning message in (function (x, y, offset = NULL, misc = NULL, distribution = \"bernoulli\", :\n",
      "\"variable 51: Soil_Type37 has no variation.\""
     ]
    },
    {
     "name": "stdout",
     "output_type": "stream",
     "text": [
      "Iter   TrainDeviance   ValidDeviance   StepSize   Improve\n",
      "     1        1.9459             nan     0.0100    0.0610\n",
      "     2        1.9137             nan     0.0100    0.0587\n",
      "     3        1.8827             nan     0.0100    0.0553\n",
      "     4        1.8531             nan     0.0100    0.0528\n",
      "     5        1.8245             nan     0.0100    0.0522\n",
      "     6        1.7967             nan     0.0100    0.0494\n",
      "     7        1.7704             nan     0.0100    0.0471\n",
      "     8        1.7454             nan     0.0100    0.0450\n",
      "     9        1.7210             nan     0.0100    0.0438\n",
      "    10        1.6978             nan     0.0100    0.0427\n",
      "    20        1.5010             nan     0.0100    0.0298\n",
      "    40        1.2420             nan     0.0100    0.0182\n",
      "    60        1.0780             nan     0.0100    0.0112\n",
      "    80        0.9667             nan     0.0100    0.0074\n",
      "   100        0.8871             nan     0.0100    0.0054\n",
      "   120        0.8290             nan     0.0100    0.0037\n",
      "   140        0.7848             nan     0.0100    0.0027\n",
      "   160        0.7491             nan     0.0100    0.0019\n",
      "   180        0.7215             nan     0.0100    0.0014\n",
      "   200        0.6988             nan     0.0100    0.0013\n",
      "   220        0.6799             nan     0.0100    0.0007\n",
      "   240        0.6633             nan     0.0100    0.0007\n",
      "   260        0.6496             nan     0.0100    0.0004\n",
      "   280        0.6370             nan     0.0100    0.0005\n",
      "   300        0.6259             nan     0.0100    0.0003\n",
      "   320        0.6150             nan     0.0100    0.0004\n",
      "   340        0.6058             nan     0.0100   -0.0001\n",
      "   360        0.5976             nan     0.0100   -0.0000\n",
      "   380        0.5898             nan     0.0100    0.0002\n",
      "   400        0.5827             nan     0.0100    0.0001\n",
      "   420        0.5764             nan     0.0100   -0.0004\n",
      "   440        0.5703             nan     0.0100   -0.0003\n",
      "   460        0.5644             nan     0.0100   -0.0003\n",
      "   480        0.5580             nan     0.0100   -0.0001\n",
      "   500        0.5526             nan     0.0100   -0.0002\n",
      "   520        0.5472             nan     0.0100   -0.0000\n",
      "   540        0.5423             nan     0.0100   -0.0001\n",
      "   560        0.5375             nan     0.0100   -0.0001\n",
      "   580        0.5321             nan     0.0100   -0.0001\n",
      "   600        0.5279             nan     0.0100   -0.0001\n",
      "   620        0.5236             nan     0.0100   -0.0001\n",
      "   640        0.5191             nan     0.0100   -0.0003\n",
      "   660        0.5149             nan     0.0100   -0.0003\n",
      "   680        0.5108             nan     0.0100   -0.0003\n",
      "   700        0.5066             nan     0.0100   -0.0001\n",
      "   720        0.5027             nan     0.0100   -0.0002\n",
      "   740        0.4991             nan     0.0100   -0.0003\n",
      "   760        0.4953             nan     0.0100   -0.0004\n",
      "   780        0.4919             nan     0.0100   -0.0004\n",
      "   800        0.4887             nan     0.0100   -0.0002\n",
      "   820        0.4854             nan     0.0100   -0.0002\n",
      "   840        0.4820             nan     0.0100   -0.0002\n",
      "   860        0.4790             nan     0.0100   -0.0004\n",
      "   880        0.4759             nan     0.0100   -0.0004\n",
      "   900        0.4729             nan     0.0100   -0.0003\n",
      "   920        0.4698             nan     0.0100   -0.0002\n",
      "   940        0.4665             nan     0.0100   -0.0002\n",
      "   960        0.4635             nan     0.0100   -0.0002\n",
      "   980        0.4606             nan     0.0100   -0.0001\n",
      "  1000        0.4580             nan     0.0100   -0.0003\n",
      "\n"
     ]
    },
    {
     "name": "stderr",
     "output_type": "stream",
     "text": [
      "Warning message in (function (x, y, offset = NULL, misc = NULL, distribution = \"bernoulli\", :\n",
      "\"variable 21: Soil_Type7 has no variation.\"Warning message in (function (x, y, offset = NULL, misc = NULL, distribution = \"bernoulli\", :\n",
      "\"variable 29: Soil_Type15 has no variation.\"Warning message in (function (x, y, offset = NULL, misc = NULL, distribution = \"bernoulli\", :\n",
      "\"variable 50: Soil_Type36 has no variation.\"Warning message in (function (x, y, offset = NULL, misc = NULL, distribution = \"bernoulli\", :\n",
      "\"variable 51: Soil_Type37 has no variation.\""
     ]
    },
    {
     "name": "stdout",
     "output_type": "stream",
     "text": [
      "Iter   TrainDeviance   ValidDeviance   StepSize   Improve\n",
      "     1        1.9459             nan     0.0100    0.0642\n",
      "     2        1.9116             nan     0.0100    0.0597\n",
      "     3        1.8790             nan     0.0100    0.0571\n",
      "     4        1.8490             nan     0.0100    0.0559\n",
      "     5        1.8188             nan     0.0100    0.0533\n",
      "     6        1.7904             nan     0.0100    0.0518\n",
      "     7        1.7629             nan     0.0100    0.0486\n",
      "     8        1.7368             nan     0.0100    0.0465\n",
      "     9        1.7120             nan     0.0100    0.0458\n",
      "    10        1.6872             nan     0.0100    0.0438\n",
      "    20        1.4817             nan     0.0100    0.0315\n",
      "    40        1.2107             nan     0.0100    0.0186\n",
      "    60        1.0406             nan     0.0100    0.0118\n",
      "    80        0.9255             nan     0.0100    0.0075\n",
      "   100        0.8430             nan     0.0100    0.0054\n",
      "   120        0.7816             nan     0.0100    0.0040\n",
      "   140        0.7345             nan     0.0100    0.0030\n",
      "   160        0.6970             nan     0.0100    0.0019\n",
      "   180        0.6671             nan     0.0100    0.0014\n",
      "   200        0.6420             nan     0.0100    0.0011\n",
      "   220        0.6212             nan     0.0100    0.0007\n",
      "   240        0.6028             nan     0.0100    0.0004\n",
      "   260        0.5863             nan     0.0100    0.0004\n",
      "   280        0.5723             nan     0.0100    0.0003\n",
      "   300        0.5590             nan     0.0100    0.0001\n",
      "   320        0.5474             nan     0.0100    0.0001\n",
      "   340        0.5365             nan     0.0100    0.0000\n",
      "   360        0.5265             nan     0.0100    0.0000\n",
      "   380        0.5171             nan     0.0100   -0.0004\n",
      "   400        0.5082             nan     0.0100   -0.0001\n",
      "   420        0.4995             nan     0.0100   -0.0002\n",
      "   440        0.4921             nan     0.0100   -0.0003\n",
      "   460        0.4850             nan     0.0100   -0.0002\n",
      "   480        0.4783             nan     0.0100   -0.0002\n",
      "   500        0.4717             nan     0.0100   -0.0002\n",
      "   520        0.4649             nan     0.0100   -0.0003\n",
      "   540        0.4587             nan     0.0100   -0.0002\n",
      "   560        0.4532             nan     0.0100   -0.0001\n",
      "   580        0.4476             nan     0.0100   -0.0002\n",
      "   600        0.4421             nan     0.0100   -0.0003\n",
      "   620        0.4370             nan     0.0100   -0.0004\n",
      "   640        0.4320             nan     0.0100   -0.0002\n",
      "   660        0.4269             nan     0.0100   -0.0003\n",
      "   680        0.4219             nan     0.0100   -0.0005\n",
      "   700        0.4177             nan     0.0100   -0.0003\n",
      "   720        0.4133             nan     0.0100   -0.0002\n",
      "   740        0.4087             nan     0.0100   -0.0003\n",
      "   760        0.4043             nan     0.0100   -0.0003\n",
      "   780        0.4001             nan     0.0100   -0.0001\n",
      "   800        0.3959             nan     0.0100   -0.0003\n",
      "   820        0.3919             nan     0.0100   -0.0003\n",
      "   840        0.3880             nan     0.0100   -0.0003\n",
      "   860        0.3844             nan     0.0100   -0.0003\n",
      "   880        0.3808             nan     0.0100   -0.0003\n",
      "   900        0.3768             nan     0.0100   -0.0004\n",
      "   920        0.3734             nan     0.0100   -0.0002\n",
      "   940        0.3699             nan     0.0100   -0.0001\n",
      "   960        0.3664             nan     0.0100   -0.0001\n",
      "   980        0.3632             nan     0.0100   -0.0001\n",
      "  1000        0.3596             nan     0.0100   -0.0002\n",
      "\n"
     ]
    },
    {
     "name": "stderr",
     "output_type": "stream",
     "text": [
      "Warning message in (function (x, y, offset = NULL, misc = NULL, distribution = \"bernoulli\", :\n",
      "\"variable 21: Soil_Type7 has no variation.\"Warning message in (function (x, y, offset = NULL, misc = NULL, distribution = \"bernoulli\", :\n",
      "\"variable 22: Soil_Type8 has no variation.\"Warning message in (function (x, y, offset = NULL, misc = NULL, distribution = \"bernoulli\", :\n",
      "\"variable 29: Soil_Type15 has no variation.\"Warning message in (function (x, y, offset = NULL, misc = NULL, distribution = \"bernoulli\", :\n",
      "\"variable 50: Soil_Type36 has no variation.\""
     ]
    },
    {
     "name": "stdout",
     "output_type": "stream",
     "text": [
      "Iter   TrainDeviance   ValidDeviance   StepSize   Improve\n",
      "     1        1.9459             nan     0.0010    0.0056\n",
      "     2        1.9430             nan     0.0010    0.0054\n",
      "     3        1.9401             nan     0.0010    0.0056\n",
      "     4        1.9372             nan     0.0010    0.0055\n",
      "     5        1.9344             nan     0.0010    0.0055\n",
      "     6        1.9315             nan     0.0010    0.0055\n",
      "     7        1.9287             nan     0.0010    0.0054\n",
      "     8        1.9258             nan     0.0010    0.0054\n",
      "     9        1.9229             nan     0.0010    0.0054\n",
      "    10        1.9202             nan     0.0010    0.0054\n",
      "    20        1.8928             nan     0.0010    0.0052\n",
      "    40        1.8412             nan     0.0010    0.0048\n",
      "    60        1.7933             nan     0.0010    0.0044\n",
      "    80        1.7490             nan     0.0010    0.0041\n",
      "   100        1.7076             nan     0.0010    0.0038\n",
      "   120        1.6687             nan     0.0010    0.0035\n",
      "   140        1.6322             nan     0.0010    0.0033\n",
      "   160        1.5979             nan     0.0010    0.0031\n",
      "   180        1.5656             nan     0.0010    0.0030\n",
      "   200        1.5351             nan     0.0010    0.0028\n",
      "   220        1.5062             nan     0.0010    0.0026\n",
      "   240        1.4789             nan     0.0010    0.0025\n",
      "   260        1.4530             nan     0.0010    0.0024\n",
      "   280        1.4284             nan     0.0010    0.0022\n",
      "   300        1.4049             nan     0.0010    0.0022\n",
      "   320        1.3825             nan     0.0010    0.0020\n",
      "   340        1.3612             nan     0.0010    0.0020\n",
      "   360        1.3406             nan     0.0010    0.0019\n",
      "   380        1.3211             nan     0.0010    0.0018\n",
      "   400        1.3024             nan     0.0010    0.0017\n",
      "   420        1.2845             nan     0.0010    0.0016\n",
      "   440        1.2672             nan     0.0010    0.0015\n",
      "   460        1.2507             nan     0.0010    0.0015\n",
      "   480        1.2349             nan     0.0010    0.0015\n",
      "   500        1.2196             nan     0.0010    0.0013\n",
      "   520        1.2050             nan     0.0010    0.0014\n",
      "   540        1.1908             nan     0.0010    0.0013\n",
      "   560        1.1772             nan     0.0010    0.0012\n",
      "   580        1.1642             nan     0.0010    0.0011\n",
      "   600        1.1517             nan     0.0010    0.0012\n",
      "   620        1.1395             nan     0.0010    0.0011\n",
      "   640        1.1279             nan     0.0010    0.0011\n",
      "   660        1.1166             nan     0.0010    0.0009\n",
      "   680        1.1058             nan     0.0010    0.0010\n",
      "   700        1.0955             nan     0.0010    0.0010\n",
      "   720        1.0853             nan     0.0010    0.0009\n",
      "   740        1.0756             nan     0.0010    0.0009\n",
      "   760        1.0662             nan     0.0010    0.0008\n",
      "   780        1.0572             nan     0.0010    0.0008\n",
      "   800        1.0485             nan     0.0010    0.0008\n",
      "   820        1.0401             nan     0.0010    0.0008\n",
      "   840        1.0319             nan     0.0010    0.0007\n",
      "   860        1.0240             nan     0.0010    0.0007\n",
      "   880        1.0165             nan     0.0010    0.0007\n",
      "   900        1.0092             nan     0.0010    0.0007\n",
      "   920        1.0022             nan     0.0010    0.0006\n",
      "   940        0.9953             nan     0.0010    0.0006\n",
      "   960        0.9886             nan     0.0010    0.0006\n",
      "   980        0.9821             nan     0.0010    0.0005\n",
      "  1000        0.9758             nan     0.0010    0.0005\n",
      "\n"
     ]
    },
    {
     "name": "stderr",
     "output_type": "stream",
     "text": [
      "Warning message in (function (x, y, offset = NULL, misc = NULL, distribution = \"bernoulli\", :\n",
      "\"variable 21: Soil_Type7 has no variation.\"Warning message in (function (x, y, offset = NULL, misc = NULL, distribution = \"bernoulli\", :\n",
      "\"variable 22: Soil_Type8 has no variation.\"Warning message in (function (x, y, offset = NULL, misc = NULL, distribution = \"bernoulli\", :\n",
      "\"variable 29: Soil_Type15 has no variation.\"Warning message in (function (x, y, offset = NULL, misc = NULL, distribution = \"bernoulli\", :\n",
      "\"variable 50: Soil_Type36 has no variation.\""
     ]
    },
    {
     "name": "stdout",
     "output_type": "stream",
     "text": [
      "Iter   TrainDeviance   ValidDeviance   StepSize   Improve\n",
      "     1        1.9459             nan     0.0010    0.0063\n",
      "     2        1.9426             nan     0.0010    0.0064\n",
      "     3        1.9392             nan     0.0010    0.0062\n",
      "     4        1.9360             nan     0.0010    0.0062\n",
      "     5        1.9327             nan     0.0010    0.0062\n",
      "     6        1.9294             nan     0.0010    0.0060\n",
      "     7        1.9263             nan     0.0010    0.0060\n",
      "     8        1.9230             nan     0.0010    0.0062\n",
      "     9        1.9198             nan     0.0010    0.0060\n",
      "    10        1.9167             nan     0.0010    0.0061\n",
      "    20        1.8854             nan     0.0010    0.0059\n",
      "    40        1.8267             nan     0.0010    0.0054\n",
      "    60        1.7726             nan     0.0010    0.0049\n",
      "    80        1.7224             nan     0.0010    0.0045\n",
      "   100        1.6758             nan     0.0010    0.0043\n",
      "   120        1.6319             nan     0.0010    0.0039\n",
      "   140        1.5914             nan     0.0010    0.0037\n",
      "   160        1.5529             nan     0.0010    0.0035\n",
      "   180        1.5168             nan     0.0010    0.0032\n",
      "   200        1.4828             nan     0.0010    0.0031\n",
      "   220        1.4508             nan     0.0010    0.0028\n",
      "   240        1.4205             nan     0.0010    0.0027\n",
      "   260        1.3918             nan     0.0010    0.0026\n",
      "   280        1.3645             nan     0.0010    0.0025\n",
      "   300        1.3385             nan     0.0010    0.0023\n",
      "   320        1.3138             nan     0.0010    0.0023\n",
      "   340        1.2903             nan     0.0010    0.0021\n",
      "   360        1.2678             nan     0.0010    0.0020\n",
      "   380        1.2464             nan     0.0010    0.0019\n",
      "   400        1.2260             nan     0.0010    0.0018\n",
      "   420        1.2065             nan     0.0010    0.0018\n",
      "   440        1.1878             nan     0.0010    0.0016\n",
      "   460        1.1699             nan     0.0010    0.0016\n",
      "   480        1.1528             nan     0.0010    0.0015\n",
      "   500        1.1362             nan     0.0010    0.0015\n",
      "   520        1.1204             nan     0.0010    0.0014\n",
      "   540        1.1053             nan     0.0010    0.0013\n",
      "   560        1.0908             nan     0.0010    0.0012\n",
      "   580        1.0767             nan     0.0010    0.0012\n",
      "   600        1.0634             nan     0.0010    0.0012\n",
      "   620        1.0505             nan     0.0010    0.0011\n",
      "   640        1.0381             nan     0.0010    0.0010\n",
      "   660        1.0261             nan     0.0010    0.0011\n",
      "   680        1.0146             nan     0.0010    0.0010\n",
      "   700        1.0033             nan     0.0010    0.0010\n",
      "   720        0.9925             nan     0.0010    0.0009\n",
      "   740        0.9820             nan     0.0010    0.0008\n",
      "   760        0.9719             nan     0.0010    0.0008\n",
      "   780        0.9622             nan     0.0010    0.0008\n",
      "   800        0.9527             nan     0.0010    0.0008\n",
      "   820        0.9435             nan     0.0010    0.0007\n",
      "   840        0.9346             nan     0.0010    0.0007\n",
      "   860        0.9259             nan     0.0010    0.0007\n",
      "   880        0.9177             nan     0.0010    0.0007\n",
      "   900        0.9096             nan     0.0010    0.0006\n",
      "   920        0.9018             nan     0.0010    0.0007\n",
      "   940        0.8942             nan     0.0010    0.0007\n",
      "   960        0.8869             nan     0.0010    0.0006\n",
      "   980        0.8797             nan     0.0010    0.0006\n",
      "  1000        0.8728             nan     0.0010    0.0006\n",
      "\n"
     ]
    },
    {
     "name": "stderr",
     "output_type": "stream",
     "text": [
      "Warning message in (function (x, y, offset = NULL, misc = NULL, distribution = \"bernoulli\", :\n",
      "\"variable 21: Soil_Type7 has no variation.\"Warning message in (function (x, y, offset = NULL, misc = NULL, distribution = \"bernoulli\", :\n",
      "\"variable 22: Soil_Type8 has no variation.\"Warning message in (function (x, y, offset = NULL, misc = NULL, distribution = \"bernoulli\", :\n",
      "\"variable 29: Soil_Type15 has no variation.\"Warning message in (function (x, y, offset = NULL, misc = NULL, distribution = \"bernoulli\", :\n",
      "\"variable 50: Soil_Type36 has no variation.\""
     ]
    },
    {
     "name": "stdout",
     "output_type": "stream",
     "text": [
      "Iter   TrainDeviance   ValidDeviance   StepSize   Improve\n",
      "     1        1.9459             nan     0.0010    0.0066\n",
      "     2        1.9424             nan     0.0010    0.0064\n",
      "     3        1.9389             nan     0.0010    0.0066\n",
      "     4        1.9355             nan     0.0010    0.0065\n",
      "     5        1.9320             nan     0.0010    0.0065\n",
      "     6        1.9285             nan     0.0010    0.0063\n",
      "     7        1.9251             nan     0.0010    0.0064\n",
      "     8        1.9217             nan     0.0010    0.0063\n",
      "     9        1.9183             nan     0.0010    0.0064\n",
      "    10        1.9150             nan     0.0010    0.0062\n",
      "    20        1.8825             nan     0.0010    0.0061\n",
      "    40        1.8212             nan     0.0010    0.0055\n",
      "    60        1.7647             nan     0.0010    0.0051\n",
      "    80        1.7123             nan     0.0010    0.0047\n",
      "   100        1.6636             nan     0.0010    0.0043\n",
      "   120        1.6180             nan     0.0010    0.0041\n",
      "   140        1.5756             nan     0.0010    0.0039\n",
      "   160        1.5357             nan     0.0010    0.0036\n",
      "   180        1.4982             nan     0.0010    0.0033\n",
      "   200        1.4630             nan     0.0010    0.0031\n",
      "   220        1.4295             nan     0.0010    0.0029\n",
      "   240        1.3980             nan     0.0010    0.0028\n",
      "   260        1.3679             nan     0.0010    0.0027\n",
      "   280        1.3393             nan     0.0010    0.0025\n",
      "   300        1.3122             nan     0.0010    0.0024\n",
      "   320        1.2865             nan     0.0010    0.0022\n",
      "   340        1.2619             nan     0.0010    0.0021\n",
      "   360        1.2385             nan     0.0010    0.0020\n",
      "   380        1.2160             nan     0.0010    0.0019\n",
      "   400        1.1946             nan     0.0010    0.0018\n",
      "   420        1.1743             nan     0.0010    0.0017\n",
      "   440        1.1548             nan     0.0010    0.0017\n",
      "   460        1.1360             nan     0.0010    0.0016\n",
      "   480        1.1180             nan     0.0010    0.0016\n",
      "   500        1.1008             nan     0.0010    0.0014\n",
      "   520        1.0843             nan     0.0010    0.0014\n",
      "   540        1.0684             nan     0.0010    0.0013\n",
      "   560        1.0533             nan     0.0010    0.0013\n",
      "   580        1.0387             nan     0.0010    0.0013\n",
      "   600        1.0247             nan     0.0010    0.0011\n",
      "   620        1.0112             nan     0.0010    0.0012\n",
      "   640        0.9981             nan     0.0010    0.0010\n",
      "   660        0.9855             nan     0.0010    0.0010\n",
      "   680        0.9734             nan     0.0010    0.0010\n",
      "   700        0.9618             nan     0.0010    0.0010\n",
      "   720        0.9505             nan     0.0010    0.0010\n",
      "   740        0.9395             nan     0.0010    0.0009\n",
      "   760        0.9289             nan     0.0010    0.0009\n",
      "   780        0.9187             nan     0.0010    0.0008\n",
      "   800        0.9088             nan     0.0010    0.0008\n",
      "   820        0.8992             nan     0.0010    0.0008\n",
      "   840        0.8900             nan     0.0010    0.0007\n",
      "   860        0.8810             nan     0.0010    0.0007\n",
      "   880        0.8724             nan     0.0010    0.0007\n",
      "   900        0.8640             nan     0.0010    0.0006\n",
      "   920        0.8558             nan     0.0010    0.0007\n",
      "   940        0.8478             nan     0.0010    0.0006\n",
      "   960        0.8401             nan     0.0010    0.0006\n",
      "   980        0.8326             nan     0.0010    0.0006\n",
      "  1000        0.8254             nan     0.0010    0.0005\n",
      "\n"
     ]
    },
    {
     "name": "stderr",
     "output_type": "stream",
     "text": [
      "Warning message in (function (x, y, offset = NULL, misc = NULL, distribution = \"bernoulli\", :\n",
      "\"variable 21: Soil_Type7 has no variation.\"Warning message in (function (x, y, offset = NULL, misc = NULL, distribution = \"bernoulli\", :\n",
      "\"variable 22: Soil_Type8 has no variation.\"Warning message in (function (x, y, offset = NULL, misc = NULL, distribution = \"bernoulli\", :\n",
      "\"variable 29: Soil_Type15 has no variation.\"Warning message in (function (x, y, offset = NULL, misc = NULL, distribution = \"bernoulli\", :\n",
      "\"variable 50: Soil_Type36 has no variation.\""
     ]
    },
    {
     "name": "stdout",
     "output_type": "stream",
     "text": [
      "Iter   TrainDeviance   ValidDeviance   StepSize   Improve\n",
      "     1        1.9459             nan     0.0100    0.0553\n",
      "     2        1.9172             nan     0.0100    0.0530\n",
      "     3        1.8899             nan     0.0100    0.0500\n",
      "     4        1.8630             nan     0.0100    0.0483\n",
      "     5        1.8373             nan     0.0100    0.0465\n",
      "     6        1.8125             nan     0.0100    0.0446\n",
      "     7        1.7889             nan     0.0100    0.0433\n",
      "     8        1.7662             nan     0.0100    0.0415\n",
      "     9        1.7438             nan     0.0100    0.0400\n",
      "    10        1.7225             nan     0.0100    0.0385\n",
      "    20        1.5454             nan     0.0100    0.0279\n",
      "    40        1.3068             nan     0.0100    0.0171\n",
      "    60        1.1542             nan     0.0100    0.0103\n",
      "    80        1.0510             nan     0.0100    0.0080\n",
      "   100        0.9781             nan     0.0100    0.0055\n",
      "   120        0.9250             nan     0.0100    0.0038\n",
      "   140        0.8838             nan     0.0100    0.0025\n",
      "   160        0.8532             nan     0.0100    0.0024\n",
      "   180        0.8292             nan     0.0100    0.0014\n",
      "   200        0.8096             nan     0.0100    0.0013\n",
      "   220        0.7925             nan     0.0100    0.0010\n",
      "   240        0.7783             nan     0.0100    0.0008\n",
      "   260        0.7668             nan     0.0100    0.0007\n",
      "   280        0.7564             nan     0.0100    0.0006\n",
      "   300        0.7470             nan     0.0100    0.0006\n",
      "   320        0.7389             nan     0.0100    0.0005\n",
      "   340        0.7318             nan     0.0100    0.0002\n",
      "   360        0.7254             nan     0.0100    0.0003\n",
      "   380        0.7193             nan     0.0100    0.0001\n",
      "   400        0.7144             nan     0.0100    0.0000\n",
      "   420        0.7092             nan     0.0100    0.0001\n",
      "   440        0.7048             nan     0.0100    0.0001\n",
      "   460        0.7007             nan     0.0100    0.0001\n",
      "   480        0.6968             nan     0.0100    0.0001\n",
      "   500        0.6927             nan     0.0100    0.0000\n",
      "   520        0.6889             nan     0.0100   -0.0000\n",
      "   540        0.6853             nan     0.0100   -0.0001\n",
      "   560        0.6821             nan     0.0100   -0.0001\n",
      "   580        0.6789             nan     0.0100   -0.0002\n",
      "   600        0.6757             nan     0.0100    0.0002\n",
      "   620        0.6728             nan     0.0100   -0.0001\n",
      "   640        0.6701             nan     0.0100   -0.0000\n",
      "   660        0.6675             nan     0.0100   -0.0001\n",
      "   680        0.6650             nan     0.0100    0.0000\n",
      "   700        0.6624             nan     0.0100   -0.0001\n",
      "   720        0.6602             nan     0.0100   -0.0002\n",
      "   740        0.6580             nan     0.0100   -0.0001\n",
      "   760        0.6557             nan     0.0100   -0.0001\n",
      "   780        0.6534             nan     0.0100   -0.0004\n",
      "   800        0.6513             nan     0.0100   -0.0001\n",
      "   820        0.6495             nan     0.0100   -0.0001\n",
      "   840        0.6475             nan     0.0100   -0.0000\n",
      "   860        0.6457             nan     0.0100   -0.0002\n",
      "   880        0.6438             nan     0.0100   -0.0001\n",
      "   900        0.6416             nan     0.0100   -0.0001\n",
      "   920        0.6397             nan     0.0100   -0.0001\n",
      "   940        0.6378             nan     0.0100   -0.0001\n",
      "   960        0.6360             nan     0.0100   -0.0001\n",
      "   980        0.6342             nan     0.0100   -0.0002\n",
      "  1000        0.6326             nan     0.0100   -0.0001\n",
      "\n"
     ]
    },
    {
     "name": "stderr",
     "output_type": "stream",
     "text": [
      "Warning message in (function (x, y, offset = NULL, misc = NULL, distribution = \"bernoulli\", :\n",
      "\"variable 21: Soil_Type7 has no variation.\"Warning message in (function (x, y, offset = NULL, misc = NULL, distribution = \"bernoulli\", :\n",
      "\"variable 22: Soil_Type8 has no variation.\"Warning message in (function (x, y, offset = NULL, misc = NULL, distribution = \"bernoulli\", :\n",
      "\"variable 29: Soil_Type15 has no variation.\"Warning message in (function (x, y, offset = NULL, misc = NULL, distribution = \"bernoulli\", :\n",
      "\"variable 50: Soil_Type36 has no variation.\""
     ]
    },
    {
     "name": "stdout",
     "output_type": "stream",
     "text": [
      "Iter   TrainDeviance   ValidDeviance   StepSize   Improve\n",
      "     1        1.9459             nan     0.0100    0.0617\n",
      "     2        1.9123             nan     0.0100    0.0593\n",
      "     3        1.8812             nan     0.0100    0.0567\n",
      "     4        1.8514             nan     0.0100    0.0538\n",
      "     5        1.8224             nan     0.0100    0.0519\n",
      "     6        1.7946             nan     0.0100    0.0501\n",
      "     7        1.7675             nan     0.0100    0.0476\n",
      "     8        1.7420             nan     0.0100    0.0470\n",
      "     9        1.7172             nan     0.0100    0.0430\n",
      "    10        1.6938             nan     0.0100    0.0423\n",
      "    20        1.4944             nan     0.0100    0.0314\n",
      "    40        1.2324             nan     0.0100    0.0176\n",
      "    60        1.0665             nan     0.0100    0.0116\n",
      "    80        0.9537             nan     0.0100    0.0080\n",
      "   100        0.8728             nan     0.0100    0.0052\n",
      "   120        0.8141             nan     0.0100    0.0040\n",
      "   140        0.7685             nan     0.0100    0.0027\n",
      "   160        0.7337             nan     0.0100    0.0019\n",
      "   180        0.7058             nan     0.0100    0.0015\n",
      "   200        0.6831             nan     0.0100    0.0009\n",
      "   220        0.6644             nan     0.0100    0.0009\n",
      "   240        0.6480             nan     0.0100    0.0006\n",
      "   260        0.6345             nan     0.0100    0.0005\n",
      "   280        0.6222             nan     0.0100    0.0003\n",
      "   300        0.6113             nan     0.0100    0.0001\n",
      "   320        0.6011             nan     0.0100    0.0002\n",
      "   340        0.5917             nan     0.0100    0.0001\n",
      "   360        0.5833             nan     0.0100    0.0001\n",
      "   380        0.5753             nan     0.0100   -0.0002\n",
      "   400        0.5680             nan     0.0100    0.0000\n",
      "   420        0.5619             nan     0.0100   -0.0002\n",
      "   440        0.5559             nan     0.0100    0.0000\n",
      "   460        0.5499             nan     0.0100   -0.0004\n",
      "   480        0.5439             nan     0.0100   -0.0002\n",
      "   500        0.5387             nan     0.0100   -0.0003\n",
      "   520        0.5337             nan     0.0100   -0.0002\n",
      "   540        0.5283             nan     0.0100   -0.0003\n",
      "   560        0.5233             nan     0.0100   -0.0003\n",
      "   580        0.5186             nan     0.0100   -0.0002\n",
      "   600        0.5143             nan     0.0100   -0.0001\n",
      "   620        0.5103             nan     0.0100   -0.0002\n",
      "   640        0.5058             nan     0.0100   -0.0003\n",
      "   660        0.5017             nan     0.0100   -0.0001\n",
      "   680        0.4972             nan     0.0100   -0.0002\n",
      "   700        0.4934             nan     0.0100   -0.0003\n",
      "   720        0.4898             nan     0.0100   -0.0002\n",
      "   740        0.4859             nan     0.0100   -0.0002\n",
      "   760        0.4824             nan     0.0100   -0.0001\n",
      "   780        0.4786             nan     0.0100   -0.0001\n",
      "   800        0.4753             nan     0.0100   -0.0003\n",
      "   820        0.4722             nan     0.0100   -0.0001\n",
      "   840        0.4690             nan     0.0100   -0.0002\n",
      "   860        0.4660             nan     0.0100   -0.0001\n",
      "   880        0.4629             nan     0.0100   -0.0002\n",
      "   900        0.4600             nan     0.0100   -0.0001\n",
      "   920        0.4571             nan     0.0100   -0.0004\n",
      "   940        0.4541             nan     0.0100   -0.0002\n",
      "   960        0.4512             nan     0.0100   -0.0004\n",
      "   980        0.4485             nan     0.0100   -0.0002\n",
      "  1000        0.4459             nan     0.0100   -0.0003\n",
      "\n"
     ]
    },
    {
     "name": "stderr",
     "output_type": "stream",
     "text": [
      "Warning message in (function (x, y, offset = NULL, misc = NULL, distribution = \"bernoulli\", :\n",
      "\"variable 21: Soil_Type7 has no variation.\"Warning message in (function (x, y, offset = NULL, misc = NULL, distribution = \"bernoulli\", :\n",
      "\"variable 22: Soil_Type8 has no variation.\"Warning message in (function (x, y, offset = NULL, misc = NULL, distribution = \"bernoulli\", :\n",
      "\"variable 29: Soil_Type15 has no variation.\"Warning message in (function (x, y, offset = NULL, misc = NULL, distribution = \"bernoulli\", :\n",
      "\"variable 50: Soil_Type36 has no variation.\""
     ]
    },
    {
     "name": "stdout",
     "output_type": "stream",
     "text": [
      "Iter   TrainDeviance   ValidDeviance   StepSize   Improve\n",
      "     1        1.9459             nan     0.0100    0.0646\n",
      "     2        1.9117             nan     0.0100    0.0609\n",
      "     3        1.8784             nan     0.0100    0.0580\n",
      "     4        1.8473             nan     0.0100    0.0562\n",
      "     5        1.8173             nan     0.0100    0.0533\n",
      "     6        1.7888             nan     0.0100    0.0523\n",
      "     7        1.7609             nan     0.0100    0.0495\n",
      "     8        1.7340             nan     0.0100    0.0470\n",
      "     9        1.7087             nan     0.0100    0.0462\n",
      "    10        1.6841             nan     0.0100    0.0442\n",
      "    20        1.4767             nan     0.0100    0.0314\n",
      "    40        1.2021             nan     0.0100    0.0186\n",
      "    60        1.0290             nan     0.0100    0.0115\n",
      "    80        0.9119             nan     0.0100    0.0083\n",
      "   100        0.8279             nan     0.0100    0.0055\n",
      "   120        0.7651             nan     0.0100    0.0039\n",
      "   140        0.7173             nan     0.0100    0.0024\n",
      "   160        0.6799             nan     0.0100    0.0022\n",
      "   180        0.6503             nan     0.0100    0.0015\n",
      "   200        0.6257             nan     0.0100    0.0005\n",
      "   220        0.6042             nan     0.0100    0.0006\n",
      "   240        0.5863             nan     0.0100    0.0002\n",
      "   260        0.5708             nan     0.0100    0.0003\n",
      "   280        0.5569             nan     0.0100    0.0001\n",
      "   300        0.5442             nan     0.0100    0.0002\n",
      "   320        0.5330             nan     0.0100    0.0001\n",
      "   340        0.5223             nan     0.0100    0.0000\n",
      "   360        0.5120             nan     0.0100   -0.0002\n",
      "   380        0.5032             nan     0.0100   -0.0001\n",
      "   400        0.4937             nan     0.0100   -0.0003\n",
      "   420        0.4858             nan     0.0100   -0.0002\n",
      "   440        0.4784             nan     0.0100   -0.0003\n",
      "   460        0.4712             nan     0.0100   -0.0002\n",
      "   480        0.4644             nan     0.0100   -0.0002\n",
      "   500        0.4578             nan     0.0100   -0.0002\n",
      "   520        0.4519             nan     0.0100   -0.0002\n",
      "   540        0.4462             nan     0.0100   -0.0004\n",
      "   560        0.4403             nan     0.0100   -0.0005\n",
      "   580        0.4349             nan     0.0100   -0.0002\n",
      "   600        0.4297             nan     0.0100   -0.0001\n",
      "   620        0.4244             nan     0.0100   -0.0002\n",
      "   640        0.4197             nan     0.0100   -0.0002\n",
      "   660        0.4150             nan     0.0100   -0.0001\n",
      "   680        0.4105             nan     0.0100   -0.0002\n",
      "   700        0.4058             nan     0.0100   -0.0002\n",
      "   720        0.4014             nan     0.0100   -0.0004\n",
      "   740        0.3971             nan     0.0100   -0.0002\n",
      "   760        0.3926             nan     0.0100   -0.0003\n",
      "   780        0.3888             nan     0.0100   -0.0003\n",
      "   800        0.3849             nan     0.0100   -0.0003\n",
      "   820        0.3811             nan     0.0100   -0.0003\n",
      "   840        0.3774             nan     0.0100   -0.0003\n",
      "   860        0.3740             nan     0.0100   -0.0003\n",
      "   880        0.3702             nan     0.0100   -0.0002\n",
      "   900        0.3665             nan     0.0100   -0.0003\n",
      "   920        0.3629             nan     0.0100   -0.0002\n",
      "   940        0.3594             nan     0.0100   -0.0003\n",
      "   960        0.3558             nan     0.0100   -0.0005\n",
      "   980        0.3524             nan     0.0100   -0.0002\n",
      "  1000        0.3494             nan     0.0100   -0.0002\n",
      "\n"
     ]
    },
    {
     "name": "stderr",
     "output_type": "stream",
     "text": [
      "Warning message in (function (x, y, offset = NULL, misc = NULL, distribution = \"bernoulli\", :\n",
      "\"variable 21: Soil_Type7 has no variation.\"Warning message in (function (x, y, offset = NULL, misc = NULL, distribution = \"bernoulli\", :\n",
      "\"variable 29: Soil_Type15 has no variation.\"Warning message in (function (x, y, offset = NULL, misc = NULL, distribution = \"bernoulli\", :\n",
      "\"variable 50: Soil_Type36 has no variation.\""
     ]
    },
    {
     "name": "stdout",
     "output_type": "stream",
     "text": [
      "Iter   TrainDeviance   ValidDeviance   StepSize   Improve\n",
      "     1        1.9459             nan     0.0100    0.0643\n",
      "     2        1.9116             nan     0.0100    0.0610\n",
      "     3        1.8794             nan     0.0100    0.0587\n",
      "     4        1.8484             nan     0.0100    0.0559\n",
      "     5        1.8189             nan     0.0100    0.0534\n",
      "     6        1.7904             nan     0.0100    0.0512\n",
      "     7        1.7631             nan     0.0100    0.0487\n",
      "     8        1.7370             nan     0.0100    0.0469\n",
      "     9        1.7115             nan     0.0100    0.0457\n",
      "    10        1.6870             nan     0.0100    0.0434\n",
      "    20        1.4824             nan     0.0100    0.0319\n",
      "    40        1.2140             nan     0.0100    0.0181\n",
      "    60        1.0454             nan     0.0100    0.0118\n",
      "    80        0.9316             nan     0.0100    0.0080\n",
      "   100        0.8503             nan     0.0100    0.0057\n",
      "   120        0.7899             nan     0.0100    0.0038\n",
      "   140        0.7433             nan     0.0100    0.0031\n",
      "   160        0.7070             nan     0.0100    0.0024\n",
      "   180        0.6782             nan     0.0100    0.0016\n",
      "   200        0.6539             nan     0.0100    0.0010\n",
      "   220        0.6341             nan     0.0100    0.0012\n",
      "   240        0.6167             nan     0.0100    0.0005\n",
      "   260        0.6023             nan     0.0100    0.0006\n",
      "   280        0.5892             nan     0.0100    0.0003\n",
      "   300        0.5783             nan     0.0100    0.0003\n",
      "   320        0.5673             nan     0.0100    0.0003\n",
      "   340        0.5572             nan     0.0100    0.0001\n",
      "   360        0.5479             nan     0.0100    0.0001\n",
      "   380        0.5393             nan     0.0100    0.0000\n",
      "   400        0.5315             nan     0.0100    0.0000\n",
      "   420        0.5242             nan     0.0100    0.0002\n",
      "   440        0.5167             nan     0.0100    0.0001\n",
      "   460        0.5101             nan     0.0100   -0.0000\n",
      "   480        0.5036             nan     0.0100    0.0000\n",
      "   500        0.4974             nan     0.0100   -0.0001\n",
      "   520        0.4917             nan     0.0100    0.0001\n",
      "   540        0.4861             nan     0.0100   -0.0003\n",
      "   560        0.4807             nan     0.0100   -0.0001\n",
      "   580        0.4757             nan     0.0100   -0.0001\n",
      "   600        0.4706             nan     0.0100   -0.0001\n",
      "   620        0.4661             nan     0.0100    0.0000\n",
      "   640        0.4616             nan     0.0100   -0.0002\n",
      "   660        0.4574             nan     0.0100   -0.0001\n",
      "   680        0.4530             nan     0.0100   -0.0003\n",
      "   700        0.4492             nan     0.0100   -0.0002\n",
      "   720        0.4450             nan     0.0100   -0.0000\n",
      "   740        0.4411             nan     0.0100   -0.0002\n",
      "   760        0.4370             nan     0.0100    0.0000\n",
      "   780        0.4331             nan     0.0100   -0.0002\n",
      "   800        0.4296             nan     0.0100   -0.0002\n",
      "   820        0.4260             nan     0.0100   -0.0001\n",
      "   840        0.4227             nan     0.0100   -0.0002\n",
      "   860        0.4194             nan     0.0100    0.0000\n",
      "   880        0.4160             nan     0.0100   -0.0002\n",
      "   900        0.4124             nan     0.0100   -0.0002\n",
      "   920        0.4091             nan     0.0100   -0.0000\n",
      "   940        0.4062             nan     0.0100   -0.0002\n",
      "   960        0.4031             nan     0.0100   -0.0002\n",
      "   980        0.4001             nan     0.0100   -0.0002\n",
      "  1000        0.3974             nan     0.0100   -0.0002\n",
      "\n"
     ]
    }
   ],
   "source": [
    "control <- trainControl(method = \"cv\", 3)\n",
    "sgb <- train(form = Cover_Type ~ .,\n",
    "      data = train,\n",
    "      method = \"gbm\", \n",
    "      trControl = control,\n",
    "      tuneGrid = \n",
    "        expand.grid(interaction.depth=c(1, 3, 5), n.trees = c(100, 200, 500, 1000), shrinkage=c(0.01, 0.001), n.minobsinnode = 10)) "
   ]
  },
  {
   "cell_type": "code",
   "execution_count": 37,
   "metadata": {},
   "outputs": [
    {
     "data": {
      "text/plain": [
       "Confusion Matrix and Statistics\n",
       "\n",
       "          Reference\n",
       "Prediction   a   b   c   d   e   f   g\n",
       "         a 418 139   0   0   1   1   9\n",
       "         b 109 563   3   0   1   6   0\n",
       "         c   0   8  71   0   0   9   0\n",
       "         d   0   0   6   2   0   0   0\n",
       "         e   0  19   0   0   3   0   0\n",
       "         f   0   7  15   0   0  18   0\n",
       "         g  17   0   0   0   0   0  28\n",
       "\n",
       "Overall Statistics\n",
       "                                          \n",
       "               Accuracy : 0.7591          \n",
       "                 95% CI : (0.7363, 0.7809)\n",
       "    No Information Rate : 0.5065          \n",
       "    P-Value [Acc > NIR] : < 2.2e-16       \n",
       "                                          \n",
       "                  Kappa : 0.6054          \n",
       "                                          \n",
       " Mcnemar's Test P-Value : NA              \n",
       "\n",
       "Statistics by Class:\n",
       "\n",
       "                     Class: a Class: b Class: c Class: d Class: e Class: f\n",
       "Sensitivity            0.7684   0.7649  0.74737 1.000000 0.600000  0.52941\n",
       "Specificity            0.8350   0.8340  0.98748 0.995865 0.986878  0.98450\n",
       "Pos Pred Value         0.7359   0.8255  0.80682 0.250000 0.136364  0.45000\n",
       "Neg Pred Value         0.8576   0.7756  0.98242 1.000000 0.998602  0.98868\n",
       "Prevalence             0.3744   0.5065  0.06538 0.001376 0.003441  0.02340\n",
       "Detection Rate         0.2877   0.3875  0.04886 0.001376 0.002065  0.01239\n",
       "Detection Prevalence   0.3909   0.4694  0.06056 0.005506 0.015141  0.02753\n",
       "Balanced Accuracy      0.8017   0.7995  0.86743 0.997932 0.793439  0.75695\n",
       "                     Class: g\n",
       "Sensitivity           0.75676\n",
       "Specificity           0.98799\n",
       "Pos Pred Value        0.62222\n",
       "Neg Pred Value        0.99361\n",
       "Prevalence            0.02546\n",
       "Detection Rate        0.01927\n",
       "Detection Prevalence  0.03097\n",
       "Balanced Accuracy     0.87238"
      ]
     },
     "metadata": {},
     "output_type": "display_data"
    }
   ],
   "source": [
    "predictions <- predict(sgb, newdata = test)\n",
    "confusionMatrix(test$Cover_Type, predictions)"
   ]
  },
  {
   "cell_type": "code",
   "execution_count": 36,
   "metadata": {},
   "outputs": [
    {
     "data": {
      "text/plain": [
       "Confusion Matrix and Statistics\n",
       "\n",
       "          Reference\n",
       "Prediction    a    b    c    d    e    f    g\n",
       "         a 1316  302    1    0    0    0    2\n",
       "         b  268 1833    9    0    0    4    0\n",
       "         c    0   12  236    0    0    2    0\n",
       "         d    0    0    0   17    0    0    0\n",
       "         e    2   31    2    0   44    0    0\n",
       "         f    0   11    4    0    0  113    0\n",
       "         g   18    2    0    0    0    0  128\n",
       "\n",
       "Overall Statistics\n",
       "                                          \n",
       "               Accuracy : 0.8462          \n",
       "                 95% CI : (0.8352, 0.8568)\n",
       "    No Information Rate : 0.5029          \n",
       "    P-Value [Acc > NIR] : < 2.2e-16       \n",
       "                                          \n",
       "                  Kappa : 0.7494          \n",
       "                                          \n",
       " Mcnemar's Test P-Value : NA              \n",
       "\n",
       "Statistics by Class:\n",
       "\n",
       "                     Class: a Class: b Class: c Class: d Class: e Class: f\n",
       "Sensitivity            0.8204   0.8366  0.93651 1.000000  1.00000  0.94958\n",
       "Specificity            0.8892   0.8703  0.99659 1.000000  0.99188  0.99646\n",
       "Pos Pred Value         0.8118   0.8671  0.94400 1.000000  0.55696  0.88281\n",
       "Neg Pred Value         0.8947   0.8404  0.99610 1.000000  1.00000  0.99858\n",
       "Prevalence             0.3681   0.5029  0.05784 0.003902  0.01010  0.02731\n",
       "Detection Rate         0.3020   0.4207  0.05417 0.003902  0.01010  0.02594\n",
       "Detection Prevalence   0.3720   0.4852  0.05738 0.003902  0.01813  0.02938\n",
       "Balanced Accuracy      0.8548   0.8534  0.96655 1.000000  0.99594  0.97302\n",
       "                     Class: g\n",
       "Sensitivity           0.98462\n",
       "Specificity           0.99527\n",
       "Pos Pred Value        0.86486\n",
       "Neg Pred Value        0.99952\n",
       "Prevalence            0.02984\n",
       "Detection Rate        0.02938\n",
       "Detection Prevalence  0.03397\n",
       "Balanced Accuracy     0.98994"
      ]
     },
     "metadata": {},
     "output_type": "display_data"
    }
   ],
   "source": [
    "predictions <- predict(sgb, newdata = train)\n",
    "confusionMatrix(train$Cover_Type, predictions)"
   ]
  },
  {
   "cell_type": "markdown",
   "metadata": {},
   "source": [
    "Accuracy is 0.76 for test data, and 0.85 for train data. Fits better to train data, but we cannot comment there is an issue of overfitting for SGB."
   ]
  },
  {
   "cell_type": "markdown",
   "metadata": {},
   "source": [
    "Comparing the results, with accuracy 0.76 Random Forest and SGB performed the best. However, random forest has overfitting with train data. For this data, I would comment SGB performed the best based on test and train data performance. 76% accuracy shows there is room for improvement in performance."
   ]
  }
 ],
 "metadata": {
  "kernelspec": {
   "display_name": "R",
   "language": "R",
   "name": "ir"
  },
  "language_info": {
   "codemirror_mode": "r",
   "file_extension": ".r",
   "mimetype": "text/x-r-source",
   "name": "R",
   "pygments_lexer": "r",
   "version": "3.6.1"
  }
 },
 "nbformat": 4,
 "nbformat_minor": 4
}
