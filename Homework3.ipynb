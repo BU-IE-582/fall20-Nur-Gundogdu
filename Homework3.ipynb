{
 "cells": [
  {
   "cell_type": "markdown",
   "metadata": {},
   "source": [
    "# IE582 HW 3"
   ]
  },
  {
   "cell_type": "markdown",
   "metadata": {},
   "source": [
    "#### Nur Gündoğdu"
   ]
  },
  {
   "cell_type": "markdown",
   "metadata": {},
   "source": [
    "### Task 1"
   ]
  },
  {
   "cell_type": "markdown",
   "metadata": {},
   "source": [
    "Naive approach with lag 48 and lag 168."
   ]
  },
  {
   "cell_type": "code",
   "execution_count": 14,
   "metadata": {},
   "outputs": [],
   "source": [
    "library(data.table)\n",
    "library(dplyr)\n",
    "library(ggplot2)\n",
    "library(glmnet)\n",
    "library(lubridate)\n",
    "library(dplyr)\n",
    "library(tidyr)\n",
    "library(stats)\n",
    "library(base)\n",
    "library(reshape2)\n",
    "library(tidyverse)"
   ]
  },
  {
   "cell_type": "code",
   "execution_count": 99,
   "metadata": {},
   "outputs": [],
   "source": [
    "data <- read.csv(\"C:/Users/n__gu/Desktop/hw3/Consumption.csv\")"
   ]
  },
  {
   "cell_type": "code",
   "execution_count": 100,
   "metadata": {},
   "outputs": [],
   "source": [
    "data$Tuketim <- gsub(\".\", \"\", data$Tuketim, fixed=T)\n",
    "data$Tuketim <- gsub(\",\", \".\", data$Tuketim, fixed=T)\n",
    "data$Tuketim <- as.numeric(data$Tuketim)"
   ]
  },
  {
   "cell_type": "code",
   "execution_count": 101,
   "metadata": {},
   "outputs": [],
   "source": [
    "data$Tarih <- dmy(data$Tarih)\n",
    "data$Saat <- hm(data$Saat)\n",
    "data <- data %>% mutate(lag48 = lag(Tuketim, 48)) %>% mutate(lag168 = lag(Tuketim, 168))"
   ]
  },
  {
   "cell_type": "markdown",
   "metadata": {},
   "source": [
    "Split the data into train and test data."
   ]
  },
  {
   "cell_type": "code",
   "execution_count": 161,
   "metadata": {},
   "outputs": [],
   "source": [
    "traindata <- data[data$Tarih < \"2020-11-01\",]\n",
    "testdata <- data[data$Tarih >= \"2020-11-01\",]"
   ]
  },
  {
   "cell_type": "markdown",
   "metadata": {},
   "source": [
    "Mape function:"
   ]
  },
  {
   "cell_type": "code",
   "execution_count": 426,
   "metadata": {},
   "outputs": [],
   "source": [
    "mape <- function(actual,pred){\n",
    "           mape <- mean(abs((actual - pred)/actual))*100\n",
    "           return (mape)\n",
    "         }"
   ]
  },
  {
   "cell_type": "code",
   "execution_count": 294,
   "metadata": {},
   "outputs": [
    {
     "data": {
      "text/html": [
       "7.78920438949444"
      ],
      "text/latex": [
       "7.78920438949444"
      ],
      "text/markdown": [
       "7.78920438949444"
      ],
      "text/plain": [
       "[1] 7.789204"
      ]
     },
     "metadata": {},
     "output_type": "display_data"
    }
   ],
   "source": [
    "mape_48 <- mape(testdata$Tuketim,testdata$lag48)\n",
    "mape_48"
   ]
  },
  {
   "cell_type": "code",
   "execution_count": 295,
   "metadata": {},
   "outputs": [
    {
     "data": {
      "text/html": [
       "3.45366901700835"
      ],
      "text/latex": [
       "3.45366901700835"
      ],
      "text/markdown": [
       "3.45366901700835"
      ],
      "text/plain": [
       "[1] 3.453669"
      ]
     },
     "metadata": {},
     "output_type": "display_data"
    }
   ],
   "source": [
    "mape_168 <- mape(testdata$Tuketim,testdata$lag168)\n",
    "mape_168"
   ]
  },
  {
   "cell_type": "markdown",
   "metadata": {},
   "source": [
    "MAPE for lag 48 is 7.79, and for lag 168 3.45. We observe that MAPE for lag 168 is much lower and we can comment that lag 168 performs better for the naive approach than lag 48.\n",
    "We observe that the hour on a day of the week gives better results than predicting with two days prior's data. There is a seasonality weekly, or at least stronger than seasonality of two days."
   ]
  },
  {
   "cell_type": "markdown",
   "metadata": {},
   "source": [
    "### Task 2"
   ]
  },
  {
   "cell_type": "markdown",
   "metadata": {},
   "source": [
    "Linear regression model using long format that includes lag 48 and lag 168."
   ]
  },
  {
   "cell_type": "code",
   "execution_count": 37,
   "metadata": {},
   "outputs": [],
   "source": [
    "fit <- lm(Tuketim ~ lag48 + lag168, data = traindata)"
   ]
  },
  {
   "cell_type": "code",
   "execution_count": 38,
   "metadata": {},
   "outputs": [
    {
     "data": {
      "text/plain": [
       "\n",
       "Call:\n",
       "lm(formula = Tuketim ~ lag48 + lag168, data = traindata)\n",
       "\n",
       "Residuals:\n",
       "     Min       1Q   Median       3Q      Max \n",
       "-25242.2   -984.2     -0.5   1016.9  16102.6 \n",
       "\n",
       "Coefficients:\n",
       "             Estimate Std. Error t value Pr(>|t|)    \n",
       "(Intercept) 1.574e+03  8.353e+01   18.84   <2e-16 ***\n",
       "lag48       3.084e-01  3.096e-03   99.60   <2e-16 ***\n",
       "lag168      6.435e-01  3.094e-03  208.03   <2e-16 ***\n",
       "---\n",
       "Signif. codes:  0 '***' 0.001 '**' 0.01 '*' 0.05 '.' 0.1 ' ' 1\n",
       "\n",
       "Residual standard error: 2392 on 42213 degrees of freedom\n",
       "  (168 observations deleted due to missingness)\n",
       "Multiple R-squared:  0.7753,\tAdjusted R-squared:  0.7753 \n",
       "F-statistic: 7.281e+04 on 2 and 42213 DF,  p-value: < 2.2e-16\n"
      ]
     },
     "metadata": {},
     "output_type": "display_data"
    }
   ],
   "source": [
    "summary(fit)"
   ]
  },
  {
   "cell_type": "markdown",
   "metadata": {},
   "source": [
    "Coefficients of lag 48 and lag 168, and intercept of the linear regression model:"
   ]
  },
  {
   "cell_type": "code",
   "execution_count": 39,
   "metadata": {},
   "outputs": [
    {
     "data": {
      "text/plain": [
       "\n",
       "Call:\n",
       "lm(formula = Tuketim ~ lag48 + lag168, data = traindata)\n",
       "\n",
       "Coefficients:\n",
       "(Intercept)        lag48       lag168  \n",
       "  1573.6867       0.3084       0.6435  \n"
      ]
     },
     "metadata": {},
     "output_type": "display_data"
    }
   ],
   "source": [
    "fit"
   ]
  },
  {
   "cell_type": "code",
   "execution_count": 40,
   "metadata": {},
   "outputs": [],
   "source": [
    "prediction <- predict(fit,testdata)"
   ]
  },
  {
   "cell_type": "code",
   "execution_count": 297,
   "metadata": {},
   "outputs": [
    {
     "data": {
      "text/html": [
       "4.2567178513397"
      ],
      "text/latex": [
       "4.2567178513397"
      ],
      "text/markdown": [
       "4.2567178513397"
      ],
      "text/plain": [
       "[1] 4.256718"
      ]
     },
     "metadata": {},
     "output_type": "display_data"
    }
   ],
   "source": [
    "mape_b <- mape(prediction, testdata$Tuketim)\n",
    "mape_b"
   ]
  },
  {
   "cell_type": "markdown",
   "metadata": {},
   "source": [
    "MAPE for the regression model that uses lag 48 and lag 168 as features is 4.26. This value is lower than MAPE of lag 48, but higher than lag 168. Among the three models so far, lag 168 still performs the best. The reason this model does not perform well might be caused by not differentiating hours."
   ]
  },
  {
   "cell_type": "markdown",
   "metadata": {},
   "source": [
    "### Task 3"
   ]
  },
  {
   "cell_type": "markdown",
   "metadata": {},
   "source": [
    "Linear regression model with hourly seasonality."
   ]
  },
  {
   "cell_type": "code",
   "execution_count": 302,
   "metadata": {},
   "outputs": [],
   "source": [
    "traindata$Saat <- as.numeric(traindata$Saat)\n",
    "testdata$Saat <- as.numeric(testdata$Saat)\n"
   ]
  },
  {
   "cell_type": "code",
   "execution_count": 307,
   "metadata": {},
   "outputs": [],
   "source": [
    "byhour <- data.table(time = 0:23, mape=0)\n",
    "\n",
    "for (i in 0:23){\n",
    "  fitbyhour <- lm(Tuketim ~ lag48 + lag168, data = traindata[traindata$Saat == i,])\n",
    "  predictbyhour <- predict(fitbyhour, newdata = testdata[testdata$Saat == i,])\n",
    "  byhour$mape[i+1] <- mape(testdata[testdata$Saat == i,]$Tuketim, predictbyhour)\n",
    "}"
   ]
  },
  {
   "cell_type": "code",
   "execution_count": 112,
   "metadata": {},
   "outputs": [
    {
     "data": {
      "text/html": [
       "<table>\n",
       "<thead><tr><th scope=col>time</th><th scope=col>mape</th></tr></thead>\n",
       "<tbody>\n",
       "\t<tr><td> 0      </td><td>3.266895</td></tr>\n",
       "\t<tr><td> 1      </td><td>3.269987</td></tr>\n",
       "\t<tr><td> 2      </td><td>3.385306</td></tr>\n",
       "\t<tr><td> 3      </td><td>3.190359</td></tr>\n",
       "\t<tr><td> 4      </td><td>3.168100</td></tr>\n",
       "\t<tr><td> 5      </td><td>3.156634</td></tr>\n",
       "\t<tr><td> 6      </td><td>3.131344</td></tr>\n",
       "\t<tr><td> 7      </td><td>3.747448</td></tr>\n",
       "\t<tr><td> 8      </td><td>4.590345</td></tr>\n",
       "\t<tr><td> 9      </td><td>5.299840</td></tr>\n",
       "\t<tr><td>10      </td><td>5.841779</td></tr>\n",
       "\t<tr><td>11      </td><td>5.990204</td></tr>\n",
       "\t<tr><td>12      </td><td>6.233275</td></tr>\n",
       "\t<tr><td>13      </td><td>6.355180</td></tr>\n",
       "\t<tr><td>14      </td><td>6.189651</td></tr>\n",
       "\t<tr><td>15      </td><td>5.845919</td></tr>\n",
       "\t<tr><td>16      </td><td>4.968481</td></tr>\n",
       "\t<tr><td>17      </td><td>4.506409</td></tr>\n",
       "\t<tr><td>18      </td><td>3.676734</td></tr>\n",
       "\t<tr><td>19      </td><td>3.381575</td></tr>\n",
       "\t<tr><td>20      </td><td>3.117455</td></tr>\n",
       "\t<tr><td>21      </td><td>3.111260</td></tr>\n",
       "\t<tr><td>22      </td><td>3.126492</td></tr>\n",
       "\t<tr><td>23      </td><td>3.356428</td></tr>\n",
       "</tbody>\n",
       "</table>\n"
      ],
      "text/latex": [
       "\\begin{tabular}{r|ll}\n",
       " time & mape\\\\\n",
       "\\hline\n",
       "\t  0       & 3.266895\\\\\n",
       "\t  1       & 3.269987\\\\\n",
       "\t  2       & 3.385306\\\\\n",
       "\t  3       & 3.190359\\\\\n",
       "\t  4       & 3.168100\\\\\n",
       "\t  5       & 3.156634\\\\\n",
       "\t  6       & 3.131344\\\\\n",
       "\t  7       & 3.747448\\\\\n",
       "\t  8       & 4.590345\\\\\n",
       "\t  9       & 5.299840\\\\\n",
       "\t 10       & 5.841779\\\\\n",
       "\t 11       & 5.990204\\\\\n",
       "\t 12       & 6.233275\\\\\n",
       "\t 13       & 6.355180\\\\\n",
       "\t 14       & 6.189651\\\\\n",
       "\t 15       & 5.845919\\\\\n",
       "\t 16       & 4.968481\\\\\n",
       "\t 17       & 4.506409\\\\\n",
       "\t 18       & 3.676734\\\\\n",
       "\t 19       & 3.381575\\\\\n",
       "\t 20       & 3.117455\\\\\n",
       "\t 21       & 3.111260\\\\\n",
       "\t 22       & 3.126492\\\\\n",
       "\t 23       & 3.356428\\\\\n",
       "\\end{tabular}\n"
      ],
      "text/markdown": [
       "\n",
       "| time | mape |\n",
       "|---|---|\n",
       "|  0       | 3.266895 |\n",
       "|  1       | 3.269987 |\n",
       "|  2       | 3.385306 |\n",
       "|  3       | 3.190359 |\n",
       "|  4       | 3.168100 |\n",
       "|  5       | 3.156634 |\n",
       "|  6       | 3.131344 |\n",
       "|  7       | 3.747448 |\n",
       "|  8       | 4.590345 |\n",
       "|  9       | 5.299840 |\n",
       "| 10       | 5.841779 |\n",
       "| 11       | 5.990204 |\n",
       "| 12       | 6.233275 |\n",
       "| 13       | 6.355180 |\n",
       "| 14       | 6.189651 |\n",
       "| 15       | 5.845919 |\n",
       "| 16       | 4.968481 |\n",
       "| 17       | 4.506409 |\n",
       "| 18       | 3.676734 |\n",
       "| 19       | 3.381575 |\n",
       "| 20       | 3.117455 |\n",
       "| 21       | 3.111260 |\n",
       "| 22       | 3.126492 |\n",
       "| 23       | 3.356428 |\n",
       "\n"
      ],
      "text/plain": [
       "   time mape    \n",
       "1   0   3.266895\n",
       "2   1   3.269987\n",
       "3   2   3.385306\n",
       "4   3   3.190359\n",
       "5   4   3.168100\n",
       "6   5   3.156634\n",
       "7   6   3.131344\n",
       "8   7   3.747448\n",
       "9   8   4.590345\n",
       "10  9   5.299840\n",
       "11 10   5.841779\n",
       "12 11   5.990204\n",
       "13 12   6.233275\n",
       "14 13   6.355180\n",
       "15 14   6.189651\n",
       "16 15   5.845919\n",
       "17 16   4.968481\n",
       "18 17   4.506409\n",
       "19 18   3.676734\n",
       "20 19   3.381575\n",
       "21 20   3.117455\n",
       "22 21   3.111260\n",
       "23 22   3.126492\n",
       "24 23   3.356428"
      ]
     },
     "metadata": {},
     "output_type": "display_data"
    }
   ],
   "source": [
    "byhour\n"
   ]
  },
  {
   "cell_type": "code",
   "execution_count": 316,
   "metadata": {},
   "outputs": [
    {
     "data": {
      "image/png": "[encoded data removed]",
      "text/plain": [
       "Plot with title \"MAPE values by hour\""
      ]
     },
     "metadata": {},
     "output_type": "display_data"
    }
   ],
   "source": [
    "plot(byhour, type=\"l\", main=\"MAPE values by hour\")"
   ]
  },
  {
   "cell_type": "markdown",
   "metadata": {},
   "source": [
    "From the hourly MAPE values above, we observe that MAPE of nighttime is much lower, and the model performs well for hours from 20.00 to 6.00 in the morning. All the MAPE values for hourly prediction still perfom quite well, with the maximum being 6.35 at 13.00, which is lower than lag 48. As for the comparison with lag 168, whose MAPE was 3.45, the hourly prediction performs better than lag 168 for night hours but performs worse for daytime."
   ]
  },
  {
   "cell_type": "markdown",
   "metadata": {},
   "source": [
    "### Task 4"
   ]
  },
  {
   "cell_type": "markdown",
   "metadata": {},
   "source": [
    "LASSO regression model."
   ]
  },
  {
   "cell_type": "code",
   "execution_count": 113,
   "metadata": {},
   "outputs": [],
   "source": [
    "set.seed(1)"
   ]
  },
  {
   "cell_type": "code",
   "execution_count": 149,
   "metadata": {},
   "outputs": [],
   "source": [
    "traindata$Saat[2068] <- 3\n",
    "traindata$Tuketim[2068] <- traindata$Tuketim[2069]\n",
    "\n"
   ]
  },
  {
   "cell_type": "code",
   "execution_count": 285,
   "metadata": {},
   "outputs": [],
   "source": [
    "data$Saat <- as.numeric(data$Saat)/3600"
   ]
  },
  {
   "cell_type": "code",
   "execution_count": 287,
   "metadata": {},
   "outputs": [],
   "source": [
    "wideformat <- function(data){\n",
    "  lag_48 <- dcast(data, Tarih ~ Saat, fun = mean, value.var = 'lag48', fill = 0)\n",
    "  lag_168 <- dcast(data, Tarih ~ Saat, fun = mean, value.var = 'lag168', fill = 0)\n",
    "  colnames(lag_48) <- c(\"Tarih\", paste(\"Lag_day2_hour\", 0:23, sep = '_'))\n",
    "  colnames(lag_168) <- c(\"Tarih\", paste(\"Lag_day7_hour\", 0:23, sep = '_'))\n",
    "  wide <- data %>%\n",
    "    left_join(lag_48) %>%\n",
    "    left_join(lag_168)\n",
    "  \n",
    "  data.table(wide[,c(1,2,4:53,3)])\n",
    "}"
   ]
  },
  {
   "cell_type": "code",
   "execution_count": 288,
   "metadata": {},
   "outputs": [
    {
     "name": "stderr",
     "output_type": "stream",
     "text": [
      "Joining, by = \"Tarih\"\n",
      "Joining, by = \"Tarih\"\n"
     ]
    }
   ],
   "source": [
    "wide <- wideformat(data)"
   ]
  },
  {
   "cell_type": "code",
   "execution_count": 258,
   "metadata": {},
   "outputs": [],
   "source": [
    "nwide <- subset( wide, select = -c(3, 4 ) )"
   ]
  },
  {
   "cell_type": "code",
   "execution_count": 269,
   "metadata": {},
   "outputs": [],
   "source": [
    "train_lasso <- nwide[nwide$Tarih < \"2020-11-01\", ]\n",
    "test_lasso <- nwide[nwide$Tarih >= \"2020-11-01\", ]\n"
   ]
  },
  {
   "cell_type": "code",
   "execution_count": 270,
   "metadata": {},
   "outputs": [],
   "source": [
    "train_lasson <- na.omit(train_lasso)\n"
   ]
  },
  {
   "cell_type": "code",
   "execution_count": 323,
   "metadata": {},
   "outputs": [
    {
     "data": {
      "text/html": [
       "<table>\n",
       "<thead><tr><th scope=col>Tarih</th><th scope=col>Saat</th><th scope=col>Lag_day2_hour_0</th><th scope=col>Lag_day2_hour_1</th><th scope=col>Lag_day2_hour_2</th><th scope=col>Lag_day2_hour_3</th><th scope=col>Lag_day2_hour_4</th><th scope=col>Lag_day2_hour_5</th><th scope=col>Lag_day2_hour_6</th><th scope=col>Lag_day2_hour_7</th><th scope=col>...</th><th scope=col>Lag_day7_hour_15</th><th scope=col>Lag_day7_hour_16</th><th scope=col>Lag_day7_hour_17</th><th scope=col>Lag_day7_hour_18</th><th scope=col>Lag_day7_hour_19</th><th scope=col>Lag_day7_hour_20</th><th scope=col>Lag_day7_hour_21</th><th scope=col>Lag_day7_hour_22</th><th scope=col>Lag_day7_hour_23</th><th scope=col>Tuketim</th></tr></thead>\n",
       "<tbody>\n",
       "\t<tr><td>2016-01-01</td><td> 0        </td><td>NA        </td><td>NA        </td><td>NA        </td><td>NA        </td><td>NA        </td><td>NA        </td><td>NA        </td><td>NA        </td><td>...       </td><td>NA        </td><td>NA        </td><td>NA        </td><td>NA        </td><td>NA        </td><td>NA        </td><td>NA        </td><td>NA        </td><td>NA        </td><td>26277.24  </td></tr>\n",
       "\t<tr><td>2016-01-01</td><td> 1        </td><td>NA        </td><td>NA        </td><td>NA        </td><td>NA        </td><td>NA        </td><td>NA        </td><td>NA        </td><td>NA        </td><td>...       </td><td>NA        </td><td>NA        </td><td>NA        </td><td>NA        </td><td>NA        </td><td>NA        </td><td>NA        </td><td>NA        </td><td>NA        </td><td>24991.82  </td></tr>\n",
       "\t<tr><td>2016-01-01</td><td> 2        </td><td>NA        </td><td>NA        </td><td>NA        </td><td>NA        </td><td>NA        </td><td>NA        </td><td>NA        </td><td>NA        </td><td>...       </td><td>NA        </td><td>NA        </td><td>NA        </td><td>NA        </td><td>NA        </td><td>NA        </td><td>NA        </td><td>NA        </td><td>NA        </td><td>23532.61  </td></tr>\n",
       "\t<tr><td>2016-01-01</td><td> 3        </td><td>NA        </td><td>NA        </td><td>NA        </td><td>NA        </td><td>NA        </td><td>NA        </td><td>NA        </td><td>NA        </td><td>...       </td><td>NA        </td><td>NA        </td><td>NA        </td><td>NA        </td><td>NA        </td><td>NA        </td><td>NA        </td><td>NA        </td><td>NA        </td><td>22464.78  </td></tr>\n",
       "\t<tr><td>2016-01-01</td><td> 4        </td><td>NA        </td><td>NA        </td><td>NA        </td><td>NA        </td><td>NA        </td><td>NA        </td><td>NA        </td><td>NA        </td><td>...       </td><td>NA        </td><td>NA        </td><td>NA        </td><td>NA        </td><td>NA        </td><td>NA        </td><td>NA        </td><td>NA        </td><td>NA        </td><td>22002.91  </td></tr>\n",
       "\t<tr><td>2016-01-01</td><td> 5        </td><td>NA        </td><td>NA        </td><td>NA        </td><td>NA        </td><td>NA        </td><td>NA        </td><td>NA        </td><td>NA        </td><td>...       </td><td>NA        </td><td>NA        </td><td>NA        </td><td>NA        </td><td>NA        </td><td>NA        </td><td>NA        </td><td>NA        </td><td>NA        </td><td>21957.08  </td></tr>\n",
       "\t<tr><td>2016-01-01</td><td> 6        </td><td>NA        </td><td>NA        </td><td>NA        </td><td>NA        </td><td>NA        </td><td>NA        </td><td>NA        </td><td>NA        </td><td>...       </td><td>NA        </td><td>NA        </td><td>NA        </td><td>NA        </td><td>NA        </td><td>NA        </td><td>NA        </td><td>NA        </td><td>NA        </td><td>22203.54  </td></tr>\n",
       "\t<tr><td>2016-01-01</td><td> 7        </td><td>NA        </td><td>NA        </td><td>NA        </td><td>NA        </td><td>NA        </td><td>NA        </td><td>NA        </td><td>NA        </td><td>...       </td><td>NA        </td><td>NA        </td><td>NA        </td><td>NA        </td><td>NA        </td><td>NA        </td><td>NA        </td><td>NA        </td><td>NA        </td><td>21844.16  </td></tr>\n",
       "\t<tr><td>2016-01-01</td><td> 8        </td><td>NA        </td><td>NA        </td><td>NA        </td><td>NA        </td><td>NA        </td><td>NA        </td><td>NA        </td><td>NA        </td><td>...       </td><td>NA        </td><td>NA        </td><td>NA        </td><td>NA        </td><td>NA        </td><td>NA        </td><td>NA        </td><td>NA        </td><td>NA        </td><td>23094.73  </td></tr>\n",
       "\t<tr><td>2016-01-01</td><td> 9        </td><td>NA        </td><td>NA        </td><td>NA        </td><td>NA        </td><td>NA        </td><td>NA        </td><td>NA        </td><td>NA        </td><td>...       </td><td>NA        </td><td>NA        </td><td>NA        </td><td>NA        </td><td>NA        </td><td>NA        </td><td>NA        </td><td>NA        </td><td>NA        </td><td>25202.27  </td></tr>\n",
       "\t<tr><td>2016-01-01</td><td>10        </td><td>NA        </td><td>NA        </td><td>NA        </td><td>NA        </td><td>NA        </td><td>NA        </td><td>NA        </td><td>NA        </td><td>...       </td><td>NA        </td><td>NA        </td><td>NA        </td><td>NA        </td><td>NA        </td><td>NA        </td><td>NA        </td><td>NA        </td><td>NA        </td><td>27224.96  </td></tr>\n",
       "\t<tr><td>2016-01-01</td><td>11        </td><td>NA        </td><td>NA        </td><td>NA        </td><td>NA        </td><td>NA        </td><td>NA        </td><td>NA        </td><td>NA        </td><td>...       </td><td>NA        </td><td>NA        </td><td>NA        </td><td>NA        </td><td>NA        </td><td>NA        </td><td>NA        </td><td>NA        </td><td>NA        </td><td>28908.04  </td></tr>\n",
       "\t<tr><td>2016-01-01</td><td>12        </td><td>NA        </td><td>NA        </td><td>NA        </td><td>NA        </td><td>NA        </td><td>NA        </td><td>NA        </td><td>NA        </td><td>...       </td><td>NA        </td><td>NA        </td><td>NA        </td><td>NA        </td><td>NA        </td><td>NA        </td><td>NA        </td><td>NA        </td><td>NA        </td><td>28789.25  </td></tr>\n",
       "\t<tr><td>2016-01-01</td><td>13        </td><td>NA        </td><td>NA        </td><td>NA        </td><td>NA        </td><td>NA        </td><td>NA        </td><td>NA        </td><td>NA        </td><td>...       </td><td>NA        </td><td>NA        </td><td>NA        </td><td>NA        </td><td>NA        </td><td>NA        </td><td>NA        </td><td>NA        </td><td>NA        </td><td>29367.70  </td></tr>\n",
       "\t<tr><td>2016-01-01</td><td>14        </td><td>NA        </td><td>NA        </td><td>NA        </td><td>NA        </td><td>NA        </td><td>NA        </td><td>NA        </td><td>NA        </td><td>...       </td><td>NA        </td><td>NA        </td><td>NA        </td><td>NA        </td><td>NA        </td><td>NA        </td><td>NA        </td><td>NA        </td><td>NA        </td><td>29548.32  </td></tr>\n",
       "\t<tr><td>2016-01-01</td><td>15        </td><td>NA        </td><td>NA        </td><td>NA        </td><td>NA        </td><td>NA        </td><td>NA        </td><td>NA        </td><td>NA        </td><td>...       </td><td>NA        </td><td>NA        </td><td>NA        </td><td>NA        </td><td>NA        </td><td>NA        </td><td>NA        </td><td>NA        </td><td>NA        </td><td>29390.89  </td></tr>\n",
       "\t<tr><td>2016-01-01</td><td>16        </td><td>NA        </td><td>NA        </td><td>NA        </td><td>NA        </td><td>NA        </td><td>NA        </td><td>NA        </td><td>NA        </td><td>...       </td><td>NA        </td><td>NA        </td><td>NA        </td><td>NA        </td><td>NA        </td><td>NA        </td><td>NA        </td><td>NA        </td><td>NA        </td><td>30734.97  </td></tr>\n",
       "\t<tr><td>2016-01-01</td><td>17        </td><td>NA        </td><td>NA        </td><td>NA        </td><td>NA        </td><td>NA        </td><td>NA        </td><td>NA        </td><td>NA        </td><td>...       </td><td>NA        </td><td>NA        </td><td>NA        </td><td>NA        </td><td>NA        </td><td>NA        </td><td>NA        </td><td>NA        </td><td>NA        </td><td>32048.02  </td></tr>\n",
       "\t<tr><td>2016-01-01</td><td>18        </td><td>NA        </td><td>NA        </td><td>NA        </td><td>NA        </td><td>NA        </td><td>NA        </td><td>NA        </td><td>NA        </td><td>...       </td><td>NA        </td><td>NA        </td><td>NA        </td><td>NA        </td><td>NA        </td><td>NA        </td><td>NA        </td><td>NA        </td><td>NA        </td><td>31438.11  </td></tr>\n",
       "\t<tr><td>2016-01-01</td><td>19        </td><td>NA        </td><td>NA        </td><td>NA        </td><td>NA        </td><td>NA        </td><td>NA        </td><td>NA        </td><td>NA        </td><td>...       </td><td>NA        </td><td>NA        </td><td>NA        </td><td>NA        </td><td>NA        </td><td>NA        </td><td>NA        </td><td>NA        </td><td>NA        </td><td>30728.47  </td></tr>\n",
       "\t<tr><td>2016-01-01</td><td>20        </td><td>NA        </td><td>NA        </td><td>NA        </td><td>NA        </td><td>NA        </td><td>NA        </td><td>NA        </td><td>NA        </td><td>...       </td><td>NA        </td><td>NA        </td><td>NA        </td><td>NA        </td><td>NA        </td><td>NA        </td><td>NA        </td><td>NA        </td><td>NA        </td><td>30166.14  </td></tr>\n",
       "\t<tr><td>2016-01-01</td><td>21        </td><td>NA        </td><td>NA        </td><td>NA        </td><td>NA        </td><td>NA        </td><td>NA        </td><td>NA        </td><td>NA        </td><td>...       </td><td>NA        </td><td>NA        </td><td>NA        </td><td>NA        </td><td>NA        </td><td>NA        </td><td>NA        </td><td>NA        </td><td>NA        </td><td>29461.28  </td></tr>\n",
       "\t<tr><td>2016-01-01</td><td>22        </td><td>NA        </td><td>NA        </td><td>NA        </td><td>NA        </td><td>NA        </td><td>NA        </td><td>NA        </td><td>NA        </td><td>...       </td><td>NA        </td><td>NA        </td><td>NA        </td><td>NA        </td><td>NA        </td><td>NA        </td><td>NA        </td><td>NA        </td><td>NA        </td><td>29242.83  </td></tr>\n",
       "\t<tr><td>2016-01-01</td><td>23        </td><td>NA        </td><td>NA        </td><td>NA        </td><td>NA        </td><td>NA        </td><td>NA        </td><td>NA        </td><td>NA        </td><td>...       </td><td>NA        </td><td>NA        </td><td>NA        </td><td>NA        </td><td>NA        </td><td>NA        </td><td>NA        </td><td>NA        </td><td>NA        </td><td>28069.09  </td></tr>\n",
       "\t<tr><td>2016-01-02</td><td> 0        </td><td>NA        </td><td>NA        </td><td>NA        </td><td>NA        </td><td>NA        </td><td>NA        </td><td>NA        </td><td>NA        </td><td>...       </td><td>NA        </td><td>NA        </td><td>NA        </td><td>NA        </td><td>NA        </td><td>NA        </td><td>NA        </td><td>NA        </td><td>NA        </td><td>26224.60  </td></tr>\n",
       "\t<tr><td>2016-01-02</td><td> 1        </td><td>NA        </td><td>NA        </td><td>NA        </td><td>NA        </td><td>NA        </td><td>NA        </td><td>NA        </td><td>NA        </td><td>...       </td><td>NA        </td><td>NA        </td><td>NA        </td><td>NA        </td><td>NA        </td><td>NA        </td><td>NA        </td><td>NA        </td><td>NA        </td><td>24708.58  </td></tr>\n",
       "\t<tr><td>2016-01-02</td><td> 2        </td><td>NA        </td><td>NA        </td><td>NA        </td><td>NA        </td><td>NA        </td><td>NA        </td><td>NA        </td><td>NA        </td><td>...       </td><td>NA        </td><td>NA        </td><td>NA        </td><td>NA        </td><td>NA        </td><td>NA        </td><td>NA        </td><td>NA        </td><td>NA        </td><td>23771.58  </td></tr>\n",
       "\t<tr><td>2016-01-02</td><td> 3        </td><td>NA        </td><td>NA        </td><td>NA        </td><td>NA        </td><td>NA        </td><td>NA        </td><td>NA        </td><td>NA        </td><td>...       </td><td>NA        </td><td>NA        </td><td>NA        </td><td>NA        </td><td>NA        </td><td>NA        </td><td>NA        </td><td>NA        </td><td>NA        </td><td>22921.29  </td></tr>\n",
       "\t<tr><td>2016-01-02</td><td> 4        </td><td>NA        </td><td>NA        </td><td>NA        </td><td>NA        </td><td>NA        </td><td>NA        </td><td>NA        </td><td>NA        </td><td>...       </td><td>NA        </td><td>NA        </td><td>NA        </td><td>NA        </td><td>NA        </td><td>NA        </td><td>NA        </td><td>NA        </td><td>NA        </td><td>22870.89  </td></tr>\n",
       "\t<tr><td>2016-01-02</td><td> 5        </td><td>NA        </td><td>NA        </td><td>NA        </td><td>NA        </td><td>NA        </td><td>NA        </td><td>NA        </td><td>NA        </td><td>...       </td><td>NA        </td><td>NA        </td><td>NA        </td><td>NA        </td><td>NA        </td><td>NA        </td><td>NA        </td><td>NA        </td><td>NA        </td><td>23325.63  </td></tr>\n",
       "\t<tr><td>...</td><td>...</td><td>...</td><td>...</td><td>...</td><td>...</td><td>...</td><td>...</td><td>...</td><td>...</td><td>   </td><td>...</td><td>...</td><td>...</td><td>...</td><td>...</td><td>...</td><td>...</td><td>...</td><td>...</td><td>...</td></tr>\n",
       "\t<tr><td>2020-10-30</td><td>18        </td><td>30355.38  </td><td>29062.68  </td><td>28109.92  </td><td>27363.10  </td><td>27190.52  </td><td>27377.64  </td><td>27882.93  </td><td>28434.59  </td><td>...       </td><td>35606.84  </td><td>36235.83  </td><td>36633.46  </td><td>38194.65  </td><td>37465.68  </td><td>36369.87  </td><td>35219.95  </td><td>34223.76  </td><td>32910.09  </td><td>36679.35  </td></tr>\n",
       "\t<tr><td>2020-10-30</td><td>19        </td><td>30355.38  </td><td>29062.68  </td><td>28109.92  </td><td>27363.10  </td><td>27190.52  </td><td>27377.64  </td><td>27882.93  </td><td>28434.59  </td><td>...       </td><td>35606.84  </td><td>36235.83  </td><td>36633.46  </td><td>38194.65  </td><td>37465.68  </td><td>36369.87  </td><td>35219.95  </td><td>34223.76  </td><td>32910.09  </td><td>35773.48  </td></tr>\n",
       "\t<tr><td>2020-10-30</td><td>20        </td><td>30355.38  </td><td>29062.68  </td><td>28109.92  </td><td>27363.10  </td><td>27190.52  </td><td>27377.64  </td><td>27882.93  </td><td>28434.59  </td><td>...       </td><td>35606.84  </td><td>36235.83  </td><td>36633.46  </td><td>38194.65  </td><td>37465.68  </td><td>36369.87  </td><td>35219.95  </td><td>34223.76  </td><td>32910.09  </td><td>34743.16  </td></tr>\n",
       "\t<tr><td>2020-10-30</td><td>21        </td><td>30355.38  </td><td>29062.68  </td><td>28109.92  </td><td>27363.10  </td><td>27190.52  </td><td>27377.64  </td><td>27882.93  </td><td>28434.59  </td><td>...       </td><td>35606.84  </td><td>36235.83  </td><td>36633.46  </td><td>38194.65  </td><td>37465.68  </td><td>36369.87  </td><td>35219.95  </td><td>34223.76  </td><td>32910.09  </td><td>33746.63  </td></tr>\n",
       "\t<tr><td>2020-10-30</td><td>22        </td><td>30355.38  </td><td>29062.68  </td><td>28109.92  </td><td>27363.10  </td><td>27190.52  </td><td>27377.64  </td><td>27882.93  </td><td>28434.59  </td><td>...       </td><td>35606.84  </td><td>36235.83  </td><td>36633.46  </td><td>38194.65  </td><td>37465.68  </td><td>36369.87  </td><td>35219.95  </td><td>34223.76  </td><td>32910.09  </td><td>32118.73  </td></tr>\n",
       "\t<tr><td>2020-10-30</td><td>23        </td><td>30355.38  </td><td>29062.68  </td><td>28109.92  </td><td>27363.10  </td><td>27190.52  </td><td>27377.64  </td><td>27882.93  </td><td>28434.59  </td><td>...       </td><td>35606.84  </td><td>36235.83  </td><td>36633.46  </td><td>38194.65  </td><td>37465.68  </td><td>36369.87  </td><td>35219.95  </td><td>34223.76  </td><td>32910.09  </td><td>31530.80  </td></tr>\n",
       "\t<tr><td>2020-10-31</td><td> 0        </td><td>29337.75  </td><td>27977.98  </td><td>26972.90  </td><td>26409.42  </td><td>26128.65  </td><td>26202.10  </td><td>26496.52  </td><td>26340.05  </td><td>...       </td><td>32837.23  </td><td>33640.81  </td><td>34790.98  </td><td>36349.20  </td><td>36009.65  </td><td>35062.32  </td><td>33936.24  </td><td>32906.62  </td><td>31457.66  </td><td>29835.90  </td></tr>\n",
       "\t<tr><td>2020-10-31</td><td> 1        </td><td>29337.75  </td><td>27977.98  </td><td>26972.90  </td><td>26409.42  </td><td>26128.65  </td><td>26202.10  </td><td>26496.52  </td><td>26340.05  </td><td>...       </td><td>32837.23  </td><td>33640.81  </td><td>34790.98  </td><td>36349.20  </td><td>36009.65  </td><td>35062.32  </td><td>33936.24  </td><td>32906.62  </td><td>31457.66  </td><td>28595.66  </td></tr>\n",
       "\t<tr><td>2020-10-31</td><td> 2        </td><td>29337.75  </td><td>27977.98  </td><td>26972.90  </td><td>26409.42  </td><td>26128.65  </td><td>26202.10  </td><td>26496.52  </td><td>26340.05  </td><td>...       </td><td>32837.23  </td><td>33640.81  </td><td>34790.98  </td><td>36349.20  </td><td>36009.65  </td><td>35062.32  </td><td>33936.24  </td><td>32906.62  </td><td>31457.66  </td><td>27583.47  </td></tr>\n",
       "\t<tr><td>2020-10-31</td><td> 3        </td><td>29337.75  </td><td>27977.98  </td><td>26972.90  </td><td>26409.42  </td><td>26128.65  </td><td>26202.10  </td><td>26496.52  </td><td>26340.05  </td><td>...       </td><td>32837.23  </td><td>33640.81  </td><td>34790.98  </td><td>36349.20  </td><td>36009.65  </td><td>35062.32  </td><td>33936.24  </td><td>32906.62  </td><td>31457.66  </td><td>26923.50  </td></tr>\n",
       "\t<tr><td>2020-10-31</td><td> 4        </td><td>29337.75  </td><td>27977.98  </td><td>26972.90  </td><td>26409.42  </td><td>26128.65  </td><td>26202.10  </td><td>26496.52  </td><td>26340.05  </td><td>...       </td><td>32837.23  </td><td>33640.81  </td><td>34790.98  </td><td>36349.20  </td><td>36009.65  </td><td>35062.32  </td><td>33936.24  </td><td>32906.62  </td><td>31457.66  </td><td>26649.34  </td></tr>\n",
       "\t<tr><td>2020-10-31</td><td> 5        </td><td>29337.75  </td><td>27977.98  </td><td>26972.90  </td><td>26409.42  </td><td>26128.65  </td><td>26202.10  </td><td>26496.52  </td><td>26340.05  </td><td>...       </td><td>32837.23  </td><td>33640.81  </td><td>34790.98  </td><td>36349.20  </td><td>36009.65  </td><td>35062.32  </td><td>33936.24  </td><td>32906.62  </td><td>31457.66  </td><td>26758.18  </td></tr>\n",
       "\t<tr><td>2020-10-31</td><td> 6        </td><td>29337.75  </td><td>27977.98  </td><td>26972.90  </td><td>26409.42  </td><td>26128.65  </td><td>26202.10  </td><td>26496.52  </td><td>26340.05  </td><td>...       </td><td>32837.23  </td><td>33640.81  </td><td>34790.98  </td><td>36349.20  </td><td>36009.65  </td><td>35062.32  </td><td>33936.24  </td><td>32906.62  </td><td>31457.66  </td><td>26871.33  </td></tr>\n",
       "\t<tr><td>2020-10-31</td><td> 7        </td><td>29337.75  </td><td>27977.98  </td><td>26972.90  </td><td>26409.42  </td><td>26128.65  </td><td>26202.10  </td><td>26496.52  </td><td>26340.05  </td><td>...       </td><td>32837.23  </td><td>33640.81  </td><td>34790.98  </td><td>36349.20  </td><td>36009.65  </td><td>35062.32  </td><td>33936.24  </td><td>32906.62  </td><td>31457.66  </td><td>26951.46  </td></tr>\n",
       "\t<tr><td>2020-10-31</td><td> 8        </td><td>29337.75  </td><td>27977.98  </td><td>26972.90  </td><td>26409.42  </td><td>26128.65  </td><td>26202.10  </td><td>26496.52  </td><td>26340.05  </td><td>...       </td><td>32837.23  </td><td>33640.81  </td><td>34790.98  </td><td>36349.20  </td><td>36009.65  </td><td>35062.32  </td><td>33936.24  </td><td>32906.62  </td><td>31457.66  </td><td>29942.70  </td></tr>\n",
       "\t<tr><td>2020-10-31</td><td> 9        </td><td>29337.75  </td><td>27977.98  </td><td>26972.90  </td><td>26409.42  </td><td>26128.65  </td><td>26202.10  </td><td>26496.52  </td><td>26340.05  </td><td>...       </td><td>32837.23  </td><td>33640.81  </td><td>34790.98  </td><td>36349.20  </td><td>36009.65  </td><td>35062.32  </td><td>33936.24  </td><td>32906.62  </td><td>31457.66  </td><td>31613.79  </td></tr>\n",
       "\t<tr><td>2020-10-31</td><td>10        </td><td>29337.75  </td><td>27977.98  </td><td>26972.90  </td><td>26409.42  </td><td>26128.65  </td><td>26202.10  </td><td>26496.52  </td><td>26340.05  </td><td>...       </td><td>32837.23  </td><td>33640.81  </td><td>34790.98  </td><td>36349.20  </td><td>36009.65  </td><td>35062.32  </td><td>33936.24  </td><td>32906.62  </td><td>31457.66  </td><td>31968.61  </td></tr>\n",
       "\t<tr><td>2020-10-31</td><td>11        </td><td>29337.75  </td><td>27977.98  </td><td>26972.90  </td><td>26409.42  </td><td>26128.65  </td><td>26202.10  </td><td>26496.52  </td><td>26340.05  </td><td>...       </td><td>32837.23  </td><td>33640.81  </td><td>34790.98  </td><td>36349.20  </td><td>36009.65  </td><td>35062.32  </td><td>33936.24  </td><td>32906.62  </td><td>31457.66  </td><td>32325.42  </td></tr>\n",
       "\t<tr><td>2020-10-31</td><td>12        </td><td>29337.75  </td><td>27977.98  </td><td>26972.90  </td><td>26409.42  </td><td>26128.65  </td><td>26202.10  </td><td>26496.52  </td><td>26340.05  </td><td>...       </td><td>32837.23  </td><td>33640.81  </td><td>34790.98  </td><td>36349.20  </td><td>36009.65  </td><td>35062.32  </td><td>33936.24  </td><td>32906.62  </td><td>31457.66  </td><td>31169.25  </td></tr>\n",
       "\t<tr><td>2020-10-31</td><td>13        </td><td>29337.75  </td><td>27977.98  </td><td>26972.90  </td><td>26409.42  </td><td>26128.65  </td><td>26202.10  </td><td>26496.52  </td><td>26340.05  </td><td>...       </td><td>32837.23  </td><td>33640.81  </td><td>34790.98  </td><td>36349.20  </td><td>36009.65  </td><td>35062.32  </td><td>33936.24  </td><td>32906.62  </td><td>31457.66  </td><td>30663.78  </td></tr>\n",
       "\t<tr><td>2020-10-31</td><td>14        </td><td>29337.75  </td><td>27977.98  </td><td>26972.90  </td><td>26409.42  </td><td>26128.65  </td><td>26202.10  </td><td>26496.52  </td><td>26340.05  </td><td>...       </td><td>32837.23  </td><td>33640.81  </td><td>34790.98  </td><td>36349.20  </td><td>36009.65  </td><td>35062.32  </td><td>33936.24  </td><td>32906.62  </td><td>31457.66  </td><td>32050.36  </td></tr>\n",
       "\t<tr><td>2020-10-31</td><td>15        </td><td>29337.75  </td><td>27977.98  </td><td>26972.90  </td><td>26409.42  </td><td>26128.65  </td><td>26202.10  </td><td>26496.52  </td><td>26340.05  </td><td>...       </td><td>32837.23  </td><td>33640.81  </td><td>34790.98  </td><td>36349.20  </td><td>36009.65  </td><td>35062.32  </td><td>33936.24  </td><td>32906.62  </td><td>31457.66  </td><td>32296.09  </td></tr>\n",
       "\t<tr><td>2020-10-31</td><td>16        </td><td>29337.75  </td><td>27977.98  </td><td>26972.90  </td><td>26409.42  </td><td>26128.65  </td><td>26202.10  </td><td>26496.52  </td><td>26340.05  </td><td>...       </td><td>32837.23  </td><td>33640.81  </td><td>34790.98  </td><td>36349.20  </td><td>36009.65  </td><td>35062.32  </td><td>33936.24  </td><td>32906.62  </td><td>31457.66  </td><td>32844.32  </td></tr>\n",
       "\t<tr><td>2020-10-31</td><td>17        </td><td>29337.75  </td><td>27977.98  </td><td>26972.90  </td><td>26409.42  </td><td>26128.65  </td><td>26202.10  </td><td>26496.52  </td><td>26340.05  </td><td>...       </td><td>32837.23  </td><td>33640.81  </td><td>34790.98  </td><td>36349.20  </td><td>36009.65  </td><td>35062.32  </td><td>33936.24  </td><td>32906.62  </td><td>31457.66  </td><td>34156.68  </td></tr>\n",
       "\t<tr><td>2020-10-31</td><td>18        </td><td>29337.75  </td><td>27977.98  </td><td>26972.90  </td><td>26409.42  </td><td>26128.65  </td><td>26202.10  </td><td>26496.52  </td><td>26340.05  </td><td>...       </td><td>32837.23  </td><td>33640.81  </td><td>34790.98  </td><td>36349.20  </td><td>36009.65  </td><td>35062.32  </td><td>33936.24  </td><td>32906.62  </td><td>31457.66  </td><td>35768.13  </td></tr>\n",
       "\t<tr><td>2020-10-31</td><td>19        </td><td>29337.75  </td><td>27977.98  </td><td>26972.90  </td><td>26409.42  </td><td>26128.65  </td><td>26202.10  </td><td>26496.52  </td><td>26340.05  </td><td>...       </td><td>32837.23  </td><td>33640.81  </td><td>34790.98  </td><td>36349.20  </td><td>36009.65  </td><td>35062.32  </td><td>33936.24  </td><td>32906.62  </td><td>31457.66  </td><td>35265.95  </td></tr>\n",
       "\t<tr><td>2020-10-31</td><td>20        </td><td>29337.75  </td><td>27977.98  </td><td>26972.90  </td><td>26409.42  </td><td>26128.65  </td><td>26202.10  </td><td>26496.52  </td><td>26340.05  </td><td>...       </td><td>32837.23  </td><td>33640.81  </td><td>34790.98  </td><td>36349.20  </td><td>36009.65  </td><td>35062.32  </td><td>33936.24  </td><td>32906.62  </td><td>31457.66  </td><td>34178.92  </td></tr>\n",
       "\t<tr><td>2020-10-31</td><td>21        </td><td>29337.75  </td><td>27977.98  </td><td>26972.90  </td><td>26409.42  </td><td>26128.65  </td><td>26202.10  </td><td>26496.52  </td><td>26340.05  </td><td>...       </td><td>32837.23  </td><td>33640.81  </td><td>34790.98  </td><td>36349.20  </td><td>36009.65  </td><td>35062.32  </td><td>33936.24  </td><td>32906.62  </td><td>31457.66  </td><td>33240.21  </td></tr>\n",
       "\t<tr><td>2020-10-31</td><td>22        </td><td>29337.75  </td><td>27977.98  </td><td>26972.90  </td><td>26409.42  </td><td>26128.65  </td><td>26202.10  </td><td>26496.52  </td><td>26340.05  </td><td>...       </td><td>32837.23  </td><td>33640.81  </td><td>34790.98  </td><td>36349.20  </td><td>36009.65  </td><td>35062.32  </td><td>33936.24  </td><td>32906.62  </td><td>31457.66  </td><td>32159.28  </td></tr>\n",
       "\t<tr><td>2020-10-31</td><td>23        </td><td>29337.75  </td><td>27977.98  </td><td>26972.90  </td><td>26409.42  </td><td>26128.65  </td><td>26202.10  </td><td>26496.52  </td><td>26340.05  </td><td>...       </td><td>32837.23  </td><td>33640.81  </td><td>34790.98  </td><td>36349.20  </td><td>36009.65  </td><td>35062.32  </td><td>33936.24  </td><td>32906.62  </td><td>31457.66  </td><td>30325.43  </td></tr>\n",
       "</tbody>\n",
       "</table>\n"
      ],
      "text/latex": [
       "\\begin{tabular}{r|lllllllllllllllllllllllllllllllllllllllllllllllllll}\n",
       " Tarih & Saat & Lag\\_day2\\_hour\\_0 & Lag\\_day2\\_hour\\_1 & Lag\\_day2\\_hour\\_2 & Lag\\_day2\\_hour\\_3 & Lag\\_day2\\_hour\\_4 & Lag\\_day2\\_hour\\_5 & Lag\\_day2\\_hour\\_6 & Lag\\_day2\\_hour\\_7 & ... & Lag\\_day7\\_hour\\_15 & Lag\\_day7\\_hour\\_16 & Lag\\_day7\\_hour\\_17 & Lag\\_day7\\_hour\\_18 & Lag\\_day7\\_hour\\_19 & Lag\\_day7\\_hour\\_20 & Lag\\_day7\\_hour\\_21 & Lag\\_day7\\_hour\\_22 & Lag\\_day7\\_hour\\_23 & Tuketim\\\\\n",
       "\\hline\n",
       "\t 2016-01-01 &  0         & NA         & NA         & NA         & NA         & NA         & NA         & NA         & NA         & ...        & NA         & NA         & NA         & NA         & NA         & NA         & NA         & NA         & NA         & 26277.24  \\\\\n",
       "\t 2016-01-01 &  1         & NA         & NA         & NA         & NA         & NA         & NA         & NA         & NA         & ...        & NA         & NA         & NA         & NA         & NA         & NA         & NA         & NA         & NA         & 24991.82  \\\\\n",
       "\t 2016-01-01 &  2         & NA         & NA         & NA         & NA         & NA         & NA         & NA         & NA         & ...        & NA         & NA         & NA         & NA         & NA         & NA         & NA         & NA         & NA         & 23532.61  \\\\\n",
       "\t 2016-01-01 &  3         & NA         & NA         & NA         & NA         & NA         & NA         & NA         & NA         & ...        & NA         & NA         & NA         & NA         & NA         & NA         & NA         & NA         & NA         & 22464.78  \\\\\n",
       "\t 2016-01-01 &  4         & NA         & NA         & NA         & NA         & NA         & NA         & NA         & NA         & ...        & NA         & NA         & NA         & NA         & NA         & NA         & NA         & NA         & NA         & 22002.91  \\\\\n",
       "\t 2016-01-01 &  5         & NA         & NA         & NA         & NA         & NA         & NA         & NA         & NA         & ...        & NA         & NA         & NA         & NA         & NA         & NA         & NA         & NA         & NA         & 21957.08  \\\\\n",
       "\t 2016-01-01 &  6         & NA         & NA         & NA         & NA         & NA         & NA         & NA         & NA         & ...        & NA         & NA         & NA         & NA         & NA         & NA         & NA         & NA         & NA         & 22203.54  \\\\\n",
       "\t 2016-01-01 &  7         & NA         & NA         & NA         & NA         & NA         & NA         & NA         & NA         & ...        & NA         & NA         & NA         & NA         & NA         & NA         & NA         & NA         & NA         & 21844.16  \\\\\n",
       "\t 2016-01-01 &  8         & NA         & NA         & NA         & NA         & NA         & NA         & NA         & NA         & ...        & NA         & NA         & NA         & NA         & NA         & NA         & NA         & NA         & NA         & 23094.73  \\\\\n",
       "\t 2016-01-01 &  9         & NA         & NA         & NA         & NA         & NA         & NA         & NA         & NA         & ...        & NA         & NA         & NA         & NA         & NA         & NA         & NA         & NA         & NA         & 25202.27  \\\\\n",
       "\t 2016-01-01 & 10         & NA         & NA         & NA         & NA         & NA         & NA         & NA         & NA         & ...        & NA         & NA         & NA         & NA         & NA         & NA         & NA         & NA         & NA         & 27224.96  \\\\\n",
       "\t 2016-01-01 & 11         & NA         & NA         & NA         & NA         & NA         & NA         & NA         & NA         & ...        & NA         & NA         & NA         & NA         & NA         & NA         & NA         & NA         & NA         & 28908.04  \\\\\n",
       "\t 2016-01-01 & 12         & NA         & NA         & NA         & NA         & NA         & NA         & NA         & NA         & ...        & NA         & NA         & NA         & NA         & NA         & NA         & NA         & NA         & NA         & 28789.25  \\\\\n",
       "\t 2016-01-01 & 13         & NA         & NA         & NA         & NA         & NA         & NA         & NA         & NA         & ...        & NA         & NA         & NA         & NA         & NA         & NA         & NA         & NA         & NA         & 29367.70  \\\\\n",
       "\t 2016-01-01 & 14         & NA         & NA         & NA         & NA         & NA         & NA         & NA         & NA         & ...        & NA         & NA         & NA         & NA         & NA         & NA         & NA         & NA         & NA         & 29548.32  \\\\\n",
       "\t 2016-01-01 & 15         & NA         & NA         & NA         & NA         & NA         & NA         & NA         & NA         & ...        & NA         & NA         & NA         & NA         & NA         & NA         & NA         & NA         & NA         & 29390.89  \\\\\n",
       "\t 2016-01-01 & 16         & NA         & NA         & NA         & NA         & NA         & NA         & NA         & NA         & ...        & NA         & NA         & NA         & NA         & NA         & NA         & NA         & NA         & NA         & 30734.97  \\\\\n",
       "\t 2016-01-01 & 17         & NA         & NA         & NA         & NA         & NA         & NA         & NA         & NA         & ...        & NA         & NA         & NA         & NA         & NA         & NA         & NA         & NA         & NA         & 32048.02  \\\\\n",
       "\t 2016-01-01 & 18         & NA         & NA         & NA         & NA         & NA         & NA         & NA         & NA         & ...        & NA         & NA         & NA         & NA         & NA         & NA         & NA         & NA         & NA         & 31438.11  \\\\\n",
       "\t 2016-01-01 & 19         & NA         & NA         & NA         & NA         & NA         & NA         & NA         & NA         & ...        & NA         & NA         & NA         & NA         & NA         & NA         & NA         & NA         & NA         & 30728.47  \\\\\n",
       "\t 2016-01-01 & 20         & NA         & NA         & NA         & NA         & NA         & NA         & NA         & NA         & ...        & NA         & NA         & NA         & NA         & NA         & NA         & NA         & NA         & NA         & 30166.14  \\\\\n",
       "\t 2016-01-01 & 21         & NA         & NA         & NA         & NA         & NA         & NA         & NA         & NA         & ...        & NA         & NA         & NA         & NA         & NA         & NA         & NA         & NA         & NA         & 29461.28  \\\\\n",
       "\t 2016-01-01 & 22         & NA         & NA         & NA         & NA         & NA         & NA         & NA         & NA         & ...        & NA         & NA         & NA         & NA         & NA         & NA         & NA         & NA         & NA         & 29242.83  \\\\\n",
       "\t 2016-01-01 & 23         & NA         & NA         & NA         & NA         & NA         & NA         & NA         & NA         & ...        & NA         & NA         & NA         & NA         & NA         & NA         & NA         & NA         & NA         & 28069.09  \\\\\n",
       "\t 2016-01-02 &  0         & NA         & NA         & NA         & NA         & NA         & NA         & NA         & NA         & ...        & NA         & NA         & NA         & NA         & NA         & NA         & NA         & NA         & NA         & 26224.60  \\\\\n",
       "\t 2016-01-02 &  1         & NA         & NA         & NA         & NA         & NA         & NA         & NA         & NA         & ...        & NA         & NA         & NA         & NA         & NA         & NA         & NA         & NA         & NA         & 24708.58  \\\\\n",
       "\t 2016-01-02 &  2         & NA         & NA         & NA         & NA         & NA         & NA         & NA         & NA         & ...        & NA         & NA         & NA         & NA         & NA         & NA         & NA         & NA         & NA         & 23771.58  \\\\\n",
       "\t 2016-01-02 &  3         & NA         & NA         & NA         & NA         & NA         & NA         & NA         & NA         & ...        & NA         & NA         & NA         & NA         & NA         & NA         & NA         & NA         & NA         & 22921.29  \\\\\n",
       "\t 2016-01-02 &  4         & NA         & NA         & NA         & NA         & NA         & NA         & NA         & NA         & ...        & NA         & NA         & NA         & NA         & NA         & NA         & NA         & NA         & NA         & 22870.89  \\\\\n",
       "\t 2016-01-02 &  5         & NA         & NA         & NA         & NA         & NA         & NA         & NA         & NA         & ...        & NA         & NA         & NA         & NA         & NA         & NA         & NA         & NA         & NA         & 23325.63  \\\\\n",
       "\t ... & ... & ... & ... & ... & ... & ... & ... & ... & ... &     & ... & ... & ... & ... & ... & ... & ... & ... & ... & ...\\\\\n",
       "\t 2020-10-30 & 18         & 30355.38   & 29062.68   & 28109.92   & 27363.10   & 27190.52   & 27377.64   & 27882.93   & 28434.59   & ...        & 35606.84   & 36235.83   & 36633.46   & 38194.65   & 37465.68   & 36369.87   & 35219.95   & 34223.76   & 32910.09   & 36679.35  \\\\\n",
       "\t 2020-10-30 & 19         & 30355.38   & 29062.68   & 28109.92   & 27363.10   & 27190.52   & 27377.64   & 27882.93   & 28434.59   & ...        & 35606.84   & 36235.83   & 36633.46   & 38194.65   & 37465.68   & 36369.87   & 35219.95   & 34223.76   & 32910.09   & 35773.48  \\\\\n",
       "\t 2020-10-30 & 20         & 30355.38   & 29062.68   & 28109.92   & 27363.10   & 27190.52   & 27377.64   & 27882.93   & 28434.59   & ...        & 35606.84   & 36235.83   & 36633.46   & 38194.65   & 37465.68   & 36369.87   & 35219.95   & 34223.76   & 32910.09   & 34743.16  \\\\\n",
       "\t 2020-10-30 & 21         & 30355.38   & 29062.68   & 28109.92   & 27363.10   & 27190.52   & 27377.64   & 27882.93   & 28434.59   & ...        & 35606.84   & 36235.83   & 36633.46   & 38194.65   & 37465.68   & 36369.87   & 35219.95   & 34223.76   & 32910.09   & 33746.63  \\\\\n",
       "\t 2020-10-30 & 22         & 30355.38   & 29062.68   & 28109.92   & 27363.10   & 27190.52   & 27377.64   & 27882.93   & 28434.59   & ...        & 35606.84   & 36235.83   & 36633.46   & 38194.65   & 37465.68   & 36369.87   & 35219.95   & 34223.76   & 32910.09   & 32118.73  \\\\\n",
       "\t 2020-10-30 & 23         & 30355.38   & 29062.68   & 28109.92   & 27363.10   & 27190.52   & 27377.64   & 27882.93   & 28434.59   & ...        & 35606.84   & 36235.83   & 36633.46   & 38194.65   & 37465.68   & 36369.87   & 35219.95   & 34223.76   & 32910.09   & 31530.80  \\\\\n",
       "\t 2020-10-31 &  0         & 29337.75   & 27977.98   & 26972.90   & 26409.42   & 26128.65   & 26202.10   & 26496.52   & 26340.05   & ...        & 32837.23   & 33640.81   & 34790.98   & 36349.20   & 36009.65   & 35062.32   & 33936.24   & 32906.62   & 31457.66   & 29835.90  \\\\\n",
       "\t 2020-10-31 &  1         & 29337.75   & 27977.98   & 26972.90   & 26409.42   & 26128.65   & 26202.10   & 26496.52   & 26340.05   & ...        & 32837.23   & 33640.81   & 34790.98   & 36349.20   & 36009.65   & 35062.32   & 33936.24   & 32906.62   & 31457.66   & 28595.66  \\\\\n",
       "\t 2020-10-31 &  2         & 29337.75   & 27977.98   & 26972.90   & 26409.42   & 26128.65   & 26202.10   & 26496.52   & 26340.05   & ...        & 32837.23   & 33640.81   & 34790.98   & 36349.20   & 36009.65   & 35062.32   & 33936.24   & 32906.62   & 31457.66   & 27583.47  \\\\\n",
       "\t 2020-10-31 &  3         & 29337.75   & 27977.98   & 26972.90   & 26409.42   & 26128.65   & 26202.10   & 26496.52   & 26340.05   & ...        & 32837.23   & 33640.81   & 34790.98   & 36349.20   & 36009.65   & 35062.32   & 33936.24   & 32906.62   & 31457.66   & 26923.50  \\\\\n",
       "\t 2020-10-31 &  4         & 29337.75   & 27977.98   & 26972.90   & 26409.42   & 26128.65   & 26202.10   & 26496.52   & 26340.05   & ...        & 32837.23   & 33640.81   & 34790.98   & 36349.20   & 36009.65   & 35062.32   & 33936.24   & 32906.62   & 31457.66   & 26649.34  \\\\\n",
       "\t 2020-10-31 &  5         & 29337.75   & 27977.98   & 26972.90   & 26409.42   & 26128.65   & 26202.10   & 26496.52   & 26340.05   & ...        & 32837.23   & 33640.81   & 34790.98   & 36349.20   & 36009.65   & 35062.32   & 33936.24   & 32906.62   & 31457.66   & 26758.18  \\\\\n",
       "\t 2020-10-31 &  6         & 29337.75   & 27977.98   & 26972.90   & 26409.42   & 26128.65   & 26202.10   & 26496.52   & 26340.05   & ...        & 32837.23   & 33640.81   & 34790.98   & 36349.20   & 36009.65   & 35062.32   & 33936.24   & 32906.62   & 31457.66   & 26871.33  \\\\\n",
       "\t 2020-10-31 &  7         & 29337.75   & 27977.98   & 26972.90   & 26409.42   & 26128.65   & 26202.10   & 26496.52   & 26340.05   & ...        & 32837.23   & 33640.81   & 34790.98   & 36349.20   & 36009.65   & 35062.32   & 33936.24   & 32906.62   & 31457.66   & 26951.46  \\\\\n",
       "\t 2020-10-31 &  8         & 29337.75   & 27977.98   & 26972.90   & 26409.42   & 26128.65   & 26202.10   & 26496.52   & 26340.05   & ...        & 32837.23   & 33640.81   & 34790.98   & 36349.20   & 36009.65   & 35062.32   & 33936.24   & 32906.62   & 31457.66   & 29942.70  \\\\\n",
       "\t 2020-10-31 &  9         & 29337.75   & 27977.98   & 26972.90   & 26409.42   & 26128.65   & 26202.10   & 26496.52   & 26340.05   & ...        & 32837.23   & 33640.81   & 34790.98   & 36349.20   & 36009.65   & 35062.32   & 33936.24   & 32906.62   & 31457.66   & 31613.79  \\\\\n",
       "\t 2020-10-31 & 10         & 29337.75   & 27977.98   & 26972.90   & 26409.42   & 26128.65   & 26202.10   & 26496.52   & 26340.05   & ...        & 32837.23   & 33640.81   & 34790.98   & 36349.20   & 36009.65   & 35062.32   & 33936.24   & 32906.62   & 31457.66   & 31968.61  \\\\\n",
       "\t 2020-10-31 & 11         & 29337.75   & 27977.98   & 26972.90   & 26409.42   & 26128.65   & 26202.10   & 26496.52   & 26340.05   & ...        & 32837.23   & 33640.81   & 34790.98   & 36349.20   & 36009.65   & 35062.32   & 33936.24   & 32906.62   & 31457.66   & 32325.42  \\\\\n",
       "\t 2020-10-31 & 12         & 29337.75   & 27977.98   & 26972.90   & 26409.42   & 26128.65   & 26202.10   & 26496.52   & 26340.05   & ...        & 32837.23   & 33640.81   & 34790.98   & 36349.20   & 36009.65   & 35062.32   & 33936.24   & 32906.62   & 31457.66   & 31169.25  \\\\\n",
       "\t 2020-10-31 & 13         & 29337.75   & 27977.98   & 26972.90   & 26409.42   & 26128.65   & 26202.10   & 26496.52   & 26340.05   & ...        & 32837.23   & 33640.81   & 34790.98   & 36349.20   & 36009.65   & 35062.32   & 33936.24   & 32906.62   & 31457.66   & 30663.78  \\\\\n",
       "\t 2020-10-31 & 14         & 29337.75   & 27977.98   & 26972.90   & 26409.42   & 26128.65   & 26202.10   & 26496.52   & 26340.05   & ...        & 32837.23   & 33640.81   & 34790.98   & 36349.20   & 36009.65   & 35062.32   & 33936.24   & 32906.62   & 31457.66   & 32050.36  \\\\\n",
       "\t 2020-10-31 & 15         & 29337.75   & 27977.98   & 26972.90   & 26409.42   & 26128.65   & 26202.10   & 26496.52   & 26340.05   & ...        & 32837.23   & 33640.81   & 34790.98   & 36349.20   & 36009.65   & 35062.32   & 33936.24   & 32906.62   & 31457.66   & 32296.09  \\\\\n",
       "\t 2020-10-31 & 16         & 29337.75   & 27977.98   & 26972.90   & 26409.42   & 26128.65   & 26202.10   & 26496.52   & 26340.05   & ...        & 32837.23   & 33640.81   & 34790.98   & 36349.20   & 36009.65   & 35062.32   & 33936.24   & 32906.62   & 31457.66   & 32844.32  \\\\\n",
       "\t 2020-10-31 & 17         & 29337.75   & 27977.98   & 26972.90   & 26409.42   & 26128.65   & 26202.10   & 26496.52   & 26340.05   & ...        & 32837.23   & 33640.81   & 34790.98   & 36349.20   & 36009.65   & 35062.32   & 33936.24   & 32906.62   & 31457.66   & 34156.68  \\\\\n",
       "\t 2020-10-31 & 18         & 29337.75   & 27977.98   & 26972.90   & 26409.42   & 26128.65   & 26202.10   & 26496.52   & 26340.05   & ...        & 32837.23   & 33640.81   & 34790.98   & 36349.20   & 36009.65   & 35062.32   & 33936.24   & 32906.62   & 31457.66   & 35768.13  \\\\\n",
       "\t 2020-10-31 & 19         & 29337.75   & 27977.98   & 26972.90   & 26409.42   & 26128.65   & 26202.10   & 26496.52   & 26340.05   & ...        & 32837.23   & 33640.81   & 34790.98   & 36349.20   & 36009.65   & 35062.32   & 33936.24   & 32906.62   & 31457.66   & 35265.95  \\\\\n",
       "\t 2020-10-31 & 20         & 29337.75   & 27977.98   & 26972.90   & 26409.42   & 26128.65   & 26202.10   & 26496.52   & 26340.05   & ...        & 32837.23   & 33640.81   & 34790.98   & 36349.20   & 36009.65   & 35062.32   & 33936.24   & 32906.62   & 31457.66   & 34178.92  \\\\\n",
       "\t 2020-10-31 & 21         & 29337.75   & 27977.98   & 26972.90   & 26409.42   & 26128.65   & 26202.10   & 26496.52   & 26340.05   & ...        & 32837.23   & 33640.81   & 34790.98   & 36349.20   & 36009.65   & 35062.32   & 33936.24   & 32906.62   & 31457.66   & 33240.21  \\\\\n",
       "\t 2020-10-31 & 22         & 29337.75   & 27977.98   & 26972.90   & 26409.42   & 26128.65   & 26202.10   & 26496.52   & 26340.05   & ...        & 32837.23   & 33640.81   & 34790.98   & 36349.20   & 36009.65   & 35062.32   & 33936.24   & 32906.62   & 31457.66   & 32159.28  \\\\\n",
       "\t 2020-10-31 & 23         & 29337.75   & 27977.98   & 26972.90   & 26409.42   & 26128.65   & 26202.10   & 26496.52   & 26340.05   & ...        & 32837.23   & 33640.81   & 34790.98   & 36349.20   & 36009.65   & 35062.32   & 33936.24   & 32906.62   & 31457.66   & 30325.43  \\\\\n",
       "\\end{tabular}\n"
      ],
      "text/markdown": [
       "\n",
       "| Tarih | Saat | Lag_day2_hour_0 | Lag_day2_hour_1 | Lag_day2_hour_2 | Lag_day2_hour_3 | Lag_day2_hour_4 | Lag_day2_hour_5 | Lag_day2_hour_6 | Lag_day2_hour_7 | ... | Lag_day7_hour_15 | Lag_day7_hour_16 | Lag_day7_hour_17 | Lag_day7_hour_18 | Lag_day7_hour_19 | Lag_day7_hour_20 | Lag_day7_hour_21 | Lag_day7_hour_22 | Lag_day7_hour_23 | Tuketim |\n",
       "|---|---|---|---|---|---|---|---|---|---|---|---|---|---|---|---|---|---|---|---|---|\n",
       "| 2016-01-01 |  0         | NA         | NA         | NA         | NA         | NA         | NA         | NA         | NA         | ...        | NA         | NA         | NA         | NA         | NA         | NA         | NA         | NA         | NA         | 26277.24   |\n",
       "| 2016-01-01 |  1         | NA         | NA         | NA         | NA         | NA         | NA         | NA         | NA         | ...        | NA         | NA         | NA         | NA         | NA         | NA         | NA         | NA         | NA         | 24991.82   |\n",
       "| 2016-01-01 |  2         | NA         | NA         | NA         | NA         | NA         | NA         | NA         | NA         | ...        | NA         | NA         | NA         | NA         | NA         | NA         | NA         | NA         | NA         | 23532.61   |\n",
       "| 2016-01-01 |  3         | NA         | NA         | NA         | NA         | NA         | NA         | NA         | NA         | ...        | NA         | NA         | NA         | NA         | NA         | NA         | NA         | NA         | NA         | 22464.78   |\n",
       "| 2016-01-01 |  4         | NA         | NA         | NA         | NA         | NA         | NA         | NA         | NA         | ...        | NA         | NA         | NA         | NA         | NA         | NA         | NA         | NA         | NA         | 22002.91   |\n",
       "| 2016-01-01 |  5         | NA         | NA         | NA         | NA         | NA         | NA         | NA         | NA         | ...        | NA         | NA         | NA         | NA         | NA         | NA         | NA         | NA         | NA         | 21957.08   |\n",
       "| 2016-01-01 |  6         | NA         | NA         | NA         | NA         | NA         | NA         | NA         | NA         | ...        | NA         | NA         | NA         | NA         | NA         | NA         | NA         | NA         | NA         | 22203.54   |\n",
       "| 2016-01-01 |  7         | NA         | NA         | NA         | NA         | NA         | NA         | NA         | NA         | ...        | NA         | NA         | NA         | NA         | NA         | NA         | NA         | NA         | NA         | 21844.16   |\n",
       "| 2016-01-01 |  8         | NA         | NA         | NA         | NA         | NA         | NA         | NA         | NA         | ...        | NA         | NA         | NA         | NA         | NA         | NA         | NA         | NA         | NA         | 23094.73   |\n",
       "| 2016-01-01 |  9         | NA         | NA         | NA         | NA         | NA         | NA         | NA         | NA         | ...        | NA         | NA         | NA         | NA         | NA         | NA         | NA         | NA         | NA         | 25202.27   |\n",
       "| 2016-01-01 | 10         | NA         | NA         | NA         | NA         | NA         | NA         | NA         | NA         | ...        | NA         | NA         | NA         | NA         | NA         | NA         | NA         | NA         | NA         | 27224.96   |\n",
       "| 2016-01-01 | 11         | NA         | NA         | NA         | NA         | NA         | NA         | NA         | NA         | ...        | NA         | NA         | NA         | NA         | NA         | NA         | NA         | NA         | NA         | 28908.04   |\n",
       "| 2016-01-01 | 12         | NA         | NA         | NA         | NA         | NA         | NA         | NA         | NA         | ...        | NA         | NA         | NA         | NA         | NA         | NA         | NA         | NA         | NA         | 28789.25   |\n",
       "| 2016-01-01 | 13         | NA         | NA         | NA         | NA         | NA         | NA         | NA         | NA         | ...        | NA         | NA         | NA         | NA         | NA         | NA         | NA         | NA         | NA         | 29367.70   |\n",
       "| 2016-01-01 | 14         | NA         | NA         | NA         | NA         | NA         | NA         | NA         | NA         | ...        | NA         | NA         | NA         | NA         | NA         | NA         | NA         | NA         | NA         | 29548.32   |\n",
       "| 2016-01-01 | 15         | NA         | NA         | NA         | NA         | NA         | NA         | NA         | NA         | ...        | NA         | NA         | NA         | NA         | NA         | NA         | NA         | NA         | NA         | 29390.89   |\n",
       "| 2016-01-01 | 16         | NA         | NA         | NA         | NA         | NA         | NA         | NA         | NA         | ...        | NA         | NA         | NA         | NA         | NA         | NA         | NA         | NA         | NA         | 30734.97   |\n",
       "| 2016-01-01 | 17         | NA         | NA         | NA         | NA         | NA         | NA         | NA         | NA         | ...        | NA         | NA         | NA         | NA         | NA         | NA         | NA         | NA         | NA         | 32048.02   |\n",
       "| 2016-01-01 | 18         | NA         | NA         | NA         | NA         | NA         | NA         | NA         | NA         | ...        | NA         | NA         | NA         | NA         | NA         | NA         | NA         | NA         | NA         | 31438.11   |\n",
       "| 2016-01-01 | 19         | NA         | NA         | NA         | NA         | NA         | NA         | NA         | NA         | ...        | NA         | NA         | NA         | NA         | NA         | NA         | NA         | NA         | NA         | 30728.47   |\n",
       "| 2016-01-01 | 20         | NA         | NA         | NA         | NA         | NA         | NA         | NA         | NA         | ...        | NA         | NA         | NA         | NA         | NA         | NA         | NA         | NA         | NA         | 30166.14   |\n",
       "| 2016-01-01 | 21         | NA         | NA         | NA         | NA         | NA         | NA         | NA         | NA         | ...        | NA         | NA         | NA         | NA         | NA         | NA         | NA         | NA         | NA         | 29461.28   |\n",
       "| 2016-01-01 | 22         | NA         | NA         | NA         | NA         | NA         | NA         | NA         | NA         | ...        | NA         | NA         | NA         | NA         | NA         | NA         | NA         | NA         | NA         | 29242.83   |\n",
       "| 2016-01-01 | 23         | NA         | NA         | NA         | NA         | NA         | NA         | NA         | NA         | ...        | NA         | NA         | NA         | NA         | NA         | NA         | NA         | NA         | NA         | 28069.09   |\n",
       "| 2016-01-02 |  0         | NA         | NA         | NA         | NA         | NA         | NA         | NA         | NA         | ...        | NA         | NA         | NA         | NA         | NA         | NA         | NA         | NA         | NA         | 26224.60   |\n",
       "| 2016-01-02 |  1         | NA         | NA         | NA         | NA         | NA         | NA         | NA         | NA         | ...        | NA         | NA         | NA         | NA         | NA         | NA         | NA         | NA         | NA         | 24708.58   |\n",
       "| 2016-01-02 |  2         | NA         | NA         | NA         | NA         | NA         | NA         | NA         | NA         | ...        | NA         | NA         | NA         | NA         | NA         | NA         | NA         | NA         | NA         | 23771.58   |\n",
       "| 2016-01-02 |  3         | NA         | NA         | NA         | NA         | NA         | NA         | NA         | NA         | ...        | NA         | NA         | NA         | NA         | NA         | NA         | NA         | NA         | NA         | 22921.29   |\n",
       "| 2016-01-02 |  4         | NA         | NA         | NA         | NA         | NA         | NA         | NA         | NA         | ...        | NA         | NA         | NA         | NA         | NA         | NA         | NA         | NA         | NA         | 22870.89   |\n",
       "| 2016-01-02 |  5         | NA         | NA         | NA         | NA         | NA         | NA         | NA         | NA         | ...        | NA         | NA         | NA         | NA         | NA         | NA         | NA         | NA         | NA         | 23325.63   |\n",
       "| ... | ... | ... | ... | ... | ... | ... | ... | ... | ... |     | ... | ... | ... | ... | ... | ... | ... | ... | ... | ... |\n",
       "| 2020-10-30 | 18         | 30355.38   | 29062.68   | 28109.92   | 27363.10   | 27190.52   | 27377.64   | 27882.93   | 28434.59   | ...        | 35606.84   | 36235.83   | 36633.46   | 38194.65   | 37465.68   | 36369.87   | 35219.95   | 34223.76   | 32910.09   | 36679.35   |\n",
       "| 2020-10-30 | 19         | 30355.38   | 29062.68   | 28109.92   | 27363.10   | 27190.52   | 27377.64   | 27882.93   | 28434.59   | ...        | 35606.84   | 36235.83   | 36633.46   | 38194.65   | 37465.68   | 36369.87   | 35219.95   | 34223.76   | 32910.09   | 35773.48   |\n",
       "| 2020-10-30 | 20         | 30355.38   | 29062.68   | 28109.92   | 27363.10   | 27190.52   | 27377.64   | 27882.93   | 28434.59   | ...        | 35606.84   | 36235.83   | 36633.46   | 38194.65   | 37465.68   | 36369.87   | 35219.95   | 34223.76   | 32910.09   | 34743.16   |\n",
       "| 2020-10-30 | 21         | 30355.38   | 29062.68   | 28109.92   | 27363.10   | 27190.52   | 27377.64   | 27882.93   | 28434.59   | ...        | 35606.84   | 36235.83   | 36633.46   | 38194.65   | 37465.68   | 36369.87   | 35219.95   | 34223.76   | 32910.09   | 33746.63   |\n",
       "| 2020-10-30 | 22         | 30355.38   | 29062.68   | 28109.92   | 27363.10   | 27190.52   | 27377.64   | 27882.93   | 28434.59   | ...        | 35606.84   | 36235.83   | 36633.46   | 38194.65   | 37465.68   | 36369.87   | 35219.95   | 34223.76   | 32910.09   | 32118.73   |\n",
       "| 2020-10-30 | 23         | 30355.38   | 29062.68   | 28109.92   | 27363.10   | 27190.52   | 27377.64   | 27882.93   | 28434.59   | ...        | 35606.84   | 36235.83   | 36633.46   | 38194.65   | 37465.68   | 36369.87   | 35219.95   | 34223.76   | 32910.09   | 31530.80   |\n",
       "| 2020-10-31 |  0         | 29337.75   | 27977.98   | 26972.90   | 26409.42   | 26128.65   | 26202.10   | 26496.52   | 26340.05   | ...        | 32837.23   | 33640.81   | 34790.98   | 36349.20   | 36009.65   | 35062.32   | 33936.24   | 32906.62   | 31457.66   | 29835.90   |\n",
       "| 2020-10-31 |  1         | 29337.75   | 27977.98   | 26972.90   | 26409.42   | 26128.65   | 26202.10   | 26496.52   | 26340.05   | ...        | 32837.23   | 33640.81   | 34790.98   | 36349.20   | 36009.65   | 35062.32   | 33936.24   | 32906.62   | 31457.66   | 28595.66   |\n",
       "| 2020-10-31 |  2         | 29337.75   | 27977.98   | 26972.90   | 26409.42   | 26128.65   | 26202.10   | 26496.52   | 26340.05   | ...        | 32837.23   | 33640.81   | 34790.98   | 36349.20   | 36009.65   | 35062.32   | 33936.24   | 32906.62   | 31457.66   | 27583.47   |\n",
       "| 2020-10-31 |  3         | 29337.75   | 27977.98   | 26972.90   | 26409.42   | 26128.65   | 26202.10   | 26496.52   | 26340.05   | ...        | 32837.23   | 33640.81   | 34790.98   | 36349.20   | 36009.65   | 35062.32   | 33936.24   | 32906.62   | 31457.66   | 26923.50   |\n",
       "| 2020-10-31 |  4         | 29337.75   | 27977.98   | 26972.90   | 26409.42   | 26128.65   | 26202.10   | 26496.52   | 26340.05   | ...        | 32837.23   | 33640.81   | 34790.98   | 36349.20   | 36009.65   | 35062.32   | 33936.24   | 32906.62   | 31457.66   | 26649.34   |\n",
       "| 2020-10-31 |  5         | 29337.75   | 27977.98   | 26972.90   | 26409.42   | 26128.65   | 26202.10   | 26496.52   | 26340.05   | ...        | 32837.23   | 33640.81   | 34790.98   | 36349.20   | 36009.65   | 35062.32   | 33936.24   | 32906.62   | 31457.66   | 26758.18   |\n",
       "| 2020-10-31 |  6         | 29337.75   | 27977.98   | 26972.90   | 26409.42   | 26128.65   | 26202.10   | 26496.52   | 26340.05   | ...        | 32837.23   | 33640.81   | 34790.98   | 36349.20   | 36009.65   | 35062.32   | 33936.24   | 32906.62   | 31457.66   | 26871.33   |\n",
       "| 2020-10-31 |  7         | 29337.75   | 27977.98   | 26972.90   | 26409.42   | 26128.65   | 26202.10   | 26496.52   | 26340.05   | ...        | 32837.23   | 33640.81   | 34790.98   | 36349.20   | 36009.65   | 35062.32   | 33936.24   | 32906.62   | 31457.66   | 26951.46   |\n",
       "| 2020-10-31 |  8         | 29337.75   | 27977.98   | 26972.90   | 26409.42   | 26128.65   | 26202.10   | 26496.52   | 26340.05   | ...        | 32837.23   | 33640.81   | 34790.98   | 36349.20   | 36009.65   | 35062.32   | 33936.24   | 32906.62   | 31457.66   | 29942.70   |\n",
       "| 2020-10-31 |  9         | 29337.75   | 27977.98   | 26972.90   | 26409.42   | 26128.65   | 26202.10   | 26496.52   | 26340.05   | ...        | 32837.23   | 33640.81   | 34790.98   | 36349.20   | 36009.65   | 35062.32   | 33936.24   | 32906.62   | 31457.66   | 31613.79   |\n",
       "| 2020-10-31 | 10         | 29337.75   | 27977.98   | 26972.90   | 26409.42   | 26128.65   | 26202.10   | 26496.52   | 26340.05   | ...        | 32837.23   | 33640.81   | 34790.98   | 36349.20   | 36009.65   | 35062.32   | 33936.24   | 32906.62   | 31457.66   | 31968.61   |\n",
       "| 2020-10-31 | 11         | 29337.75   | 27977.98   | 26972.90   | 26409.42   | 26128.65   | 26202.10   | 26496.52   | 26340.05   | ...        | 32837.23   | 33640.81   | 34790.98   | 36349.20   | 36009.65   | 35062.32   | 33936.24   | 32906.62   | 31457.66   | 32325.42   |\n",
       "| 2020-10-31 | 12         | 29337.75   | 27977.98   | 26972.90   | 26409.42   | 26128.65   | 26202.10   | 26496.52   | 26340.05   | ...        | 32837.23   | 33640.81   | 34790.98   | 36349.20   | 36009.65   | 35062.32   | 33936.24   | 32906.62   | 31457.66   | 31169.25   |\n",
       "| 2020-10-31 | 13         | 29337.75   | 27977.98   | 26972.90   | 26409.42   | 26128.65   | 26202.10   | 26496.52   | 26340.05   | ...        | 32837.23   | 33640.81   | 34790.98   | 36349.20   | 36009.65   | 35062.32   | 33936.24   | 32906.62   | 31457.66   | 30663.78   |\n",
       "| 2020-10-31 | 14         | 29337.75   | 27977.98   | 26972.90   | 26409.42   | 26128.65   | 26202.10   | 26496.52   | 26340.05   | ...        | 32837.23   | 33640.81   | 34790.98   | 36349.20   | 36009.65   | 35062.32   | 33936.24   | 32906.62   | 31457.66   | 32050.36   |\n",
       "| 2020-10-31 | 15         | 29337.75   | 27977.98   | 26972.90   | 26409.42   | 26128.65   | 26202.10   | 26496.52   | 26340.05   | ...        | 32837.23   | 33640.81   | 34790.98   | 36349.20   | 36009.65   | 35062.32   | 33936.24   | 32906.62   | 31457.66   | 32296.09   |\n",
       "| 2020-10-31 | 16         | 29337.75   | 27977.98   | 26972.90   | 26409.42   | 26128.65   | 26202.10   | 26496.52   | 26340.05   | ...        | 32837.23   | 33640.81   | 34790.98   | 36349.20   | 36009.65   | 35062.32   | 33936.24   | 32906.62   | 31457.66   | 32844.32   |\n",
       "| 2020-10-31 | 17         | 29337.75   | 27977.98   | 26972.90   | 26409.42   | 26128.65   | 26202.10   | 26496.52   | 26340.05   | ...        | 32837.23   | 33640.81   | 34790.98   | 36349.20   | 36009.65   | 35062.32   | 33936.24   | 32906.62   | 31457.66   | 34156.68   |\n",
       "| 2020-10-31 | 18         | 29337.75   | 27977.98   | 26972.90   | 26409.42   | 26128.65   | 26202.10   | 26496.52   | 26340.05   | ...        | 32837.23   | 33640.81   | 34790.98   | 36349.20   | 36009.65   | 35062.32   | 33936.24   | 32906.62   | 31457.66   | 35768.13   |\n",
       "| 2020-10-31 | 19         | 29337.75   | 27977.98   | 26972.90   | 26409.42   | 26128.65   | 26202.10   | 26496.52   | 26340.05   | ...        | 32837.23   | 33640.81   | 34790.98   | 36349.20   | 36009.65   | 35062.32   | 33936.24   | 32906.62   | 31457.66   | 35265.95   |\n",
       "| 2020-10-31 | 20         | 29337.75   | 27977.98   | 26972.90   | 26409.42   | 26128.65   | 26202.10   | 26496.52   | 26340.05   | ...        | 32837.23   | 33640.81   | 34790.98   | 36349.20   | 36009.65   | 35062.32   | 33936.24   | 32906.62   | 31457.66   | 34178.92   |\n",
       "| 2020-10-31 | 21         | 29337.75   | 27977.98   | 26972.90   | 26409.42   | 26128.65   | 26202.10   | 26496.52   | 26340.05   | ...        | 32837.23   | 33640.81   | 34790.98   | 36349.20   | 36009.65   | 35062.32   | 33936.24   | 32906.62   | 31457.66   | 33240.21   |\n",
       "| 2020-10-31 | 22         | 29337.75   | 27977.98   | 26972.90   | 26409.42   | 26128.65   | 26202.10   | 26496.52   | 26340.05   | ...        | 32837.23   | 33640.81   | 34790.98   | 36349.20   | 36009.65   | 35062.32   | 33936.24   | 32906.62   | 31457.66   | 32159.28   |\n",
       "| 2020-10-31 | 23         | 29337.75   | 27977.98   | 26972.90   | 26409.42   | 26128.65   | 26202.10   | 26496.52   | 26340.05   | ...        | 32837.23   | 33640.81   | 34790.98   | 36349.20   | 36009.65   | 35062.32   | 33936.24   | 32906.62   | 31457.66   | 30325.43   |\n",
       "\n"
      ],
      "text/plain": [
       "      Tarih      Saat Lag_day2_hour_0 Lag_day2_hour_1 Lag_day2_hour_2\n",
       "1     2016-01-01  0   NA              NA              NA             \n",
       "2     2016-01-01  1   NA              NA              NA             \n",
       "3     2016-01-01  2   NA              NA              NA             \n",
       "4     2016-01-01  3   NA              NA              NA             \n",
       "5     2016-01-01  4   NA              NA              NA             \n",
       "6     2016-01-01  5   NA              NA              NA             \n",
       "7     2016-01-01  6   NA              NA              NA             \n",
       "8     2016-01-01  7   NA              NA              NA             \n",
       "9     2016-01-01  8   NA              NA              NA             \n",
       "10    2016-01-01  9   NA              NA              NA             \n",
       "11    2016-01-01 10   NA              NA              NA             \n",
       "12    2016-01-01 11   NA              NA              NA             \n",
       "13    2016-01-01 12   NA              NA              NA             \n",
       "14    2016-01-01 13   NA              NA              NA             \n",
       "15    2016-01-01 14   NA              NA              NA             \n",
       "16    2016-01-01 15   NA              NA              NA             \n",
       "17    2016-01-01 16   NA              NA              NA             \n",
       "18    2016-01-01 17   NA              NA              NA             \n",
       "19    2016-01-01 18   NA              NA              NA             \n",
       "20    2016-01-01 19   NA              NA              NA             \n",
       "21    2016-01-01 20   NA              NA              NA             \n",
       "22    2016-01-01 21   NA              NA              NA             \n",
       "23    2016-01-01 22   NA              NA              NA             \n",
       "24    2016-01-01 23   NA              NA              NA             \n",
       "25    2016-01-02  0   NA              NA              NA             \n",
       "26    2016-01-02  1   NA              NA              NA             \n",
       "27    2016-01-02  2   NA              NA              NA             \n",
       "28    2016-01-02  3   NA              NA              NA             \n",
       "29    2016-01-02  4   NA              NA              NA             \n",
       "30    2016-01-02  5   NA              NA              NA             \n",
       "...   ...        ...  ...             ...             ...            \n",
       "42355 2020-10-30 18   30355.38        29062.68        28109.92       \n",
       "42356 2020-10-30 19   30355.38        29062.68        28109.92       \n",
       "42357 2020-10-30 20   30355.38        29062.68        28109.92       \n",
       "42358 2020-10-30 21   30355.38        29062.68        28109.92       \n",
       "42359 2020-10-30 22   30355.38        29062.68        28109.92       \n",
       "42360 2020-10-30 23   30355.38        29062.68        28109.92       \n",
       "42361 2020-10-31  0   29337.75        27977.98        26972.90       \n",
       "42362 2020-10-31  1   29337.75        27977.98        26972.90       \n",
       "42363 2020-10-31  2   29337.75        27977.98        26972.90       \n",
       "42364 2020-10-31  3   29337.75        27977.98        26972.90       \n",
       "42365 2020-10-31  4   29337.75        27977.98        26972.90       \n",
       "42366 2020-10-31  5   29337.75        27977.98        26972.90       \n",
       "42367 2020-10-31  6   29337.75        27977.98        26972.90       \n",
       "42368 2020-10-31  7   29337.75        27977.98        26972.90       \n",
       "42369 2020-10-31  8   29337.75        27977.98        26972.90       \n",
       "42370 2020-10-31  9   29337.75        27977.98        26972.90       \n",
       "42371 2020-10-31 10   29337.75        27977.98        26972.90       \n",
       "42372 2020-10-31 11   29337.75        27977.98        26972.90       \n",
       "42373 2020-10-31 12   29337.75        27977.98        26972.90       \n",
       "42374 2020-10-31 13   29337.75        27977.98        26972.90       \n",
       "42375 2020-10-31 14   29337.75        27977.98        26972.90       \n",
       "42376 2020-10-31 15   29337.75        27977.98        26972.90       \n",
       "42377 2020-10-31 16   29337.75        27977.98        26972.90       \n",
       "42378 2020-10-31 17   29337.75        27977.98        26972.90       \n",
       "42379 2020-10-31 18   29337.75        27977.98        26972.90       \n",
       "42380 2020-10-31 19   29337.75        27977.98        26972.90       \n",
       "42381 2020-10-31 20   29337.75        27977.98        26972.90       \n",
       "42382 2020-10-31 21   29337.75        27977.98        26972.90       \n",
       "42383 2020-10-31 22   29337.75        27977.98        26972.90       \n",
       "42384 2020-10-31 23   29337.75        27977.98        26972.90       \n",
       "      Lag_day2_hour_3 Lag_day2_hour_4 Lag_day2_hour_5 Lag_day2_hour_6\n",
       "1     NA              NA              NA              NA             \n",
       "2     NA              NA              NA              NA             \n",
       "3     NA              NA              NA              NA             \n",
       "4     NA              NA              NA              NA             \n",
       "5     NA              NA              NA              NA             \n",
       "6     NA              NA              NA              NA             \n",
       "7     NA              NA              NA              NA             \n",
       "8     NA              NA              NA              NA             \n",
       "9     NA              NA              NA              NA             \n",
       "10    NA              NA              NA              NA             \n",
       "11    NA              NA              NA              NA             \n",
       "12    NA              NA              NA              NA             \n",
       "13    NA              NA              NA              NA             \n",
       "14    NA              NA              NA              NA             \n",
       "15    NA              NA              NA              NA             \n",
       "16    NA              NA              NA              NA             \n",
       "17    NA              NA              NA              NA             \n",
       "18    NA              NA              NA              NA             \n",
       "19    NA              NA              NA              NA             \n",
       "20    NA              NA              NA              NA             \n",
       "21    NA              NA              NA              NA             \n",
       "22    NA              NA              NA              NA             \n",
       "23    NA              NA              NA              NA             \n",
       "24    NA              NA              NA              NA             \n",
       "25    NA              NA              NA              NA             \n",
       "26    NA              NA              NA              NA             \n",
       "27    NA              NA              NA              NA             \n",
       "28    NA              NA              NA              NA             \n",
       "29    NA              NA              NA              NA             \n",
       "30    NA              NA              NA              NA             \n",
       "...   ...             ...             ...             ...            \n",
       "42355 27363.10        27190.52        27377.64        27882.93       \n",
       "42356 27363.10        27190.52        27377.64        27882.93       \n",
       "42357 27363.10        27190.52        27377.64        27882.93       \n",
       "42358 27363.10        27190.52        27377.64        27882.93       \n",
       "42359 27363.10        27190.52        27377.64        27882.93       \n",
       "42360 27363.10        27190.52        27377.64        27882.93       \n",
       "42361 26409.42        26128.65        26202.10        26496.52       \n",
       "42362 26409.42        26128.65        26202.10        26496.52       \n",
       "42363 26409.42        26128.65        26202.10        26496.52       \n",
       "42364 26409.42        26128.65        26202.10        26496.52       \n",
       "42365 26409.42        26128.65        26202.10        26496.52       \n",
       "42366 26409.42        26128.65        26202.10        26496.52       \n",
       "42367 26409.42        26128.65        26202.10        26496.52       \n",
       "42368 26409.42        26128.65        26202.10        26496.52       \n",
       "42369 26409.42        26128.65        26202.10        26496.52       \n",
       "42370 26409.42        26128.65        26202.10        26496.52       \n",
       "42371 26409.42        26128.65        26202.10        26496.52       \n",
       "42372 26409.42        26128.65        26202.10        26496.52       \n",
       "42373 26409.42        26128.65        26202.10        26496.52       \n",
       "42374 26409.42        26128.65        26202.10        26496.52       \n",
       "42375 26409.42        26128.65        26202.10        26496.52       \n",
       "42376 26409.42        26128.65        26202.10        26496.52       \n",
       "42377 26409.42        26128.65        26202.10        26496.52       \n",
       "42378 26409.42        26128.65        26202.10        26496.52       \n",
       "42379 26409.42        26128.65        26202.10        26496.52       \n",
       "42380 26409.42        26128.65        26202.10        26496.52       \n",
       "42381 26409.42        26128.65        26202.10        26496.52       \n",
       "42382 26409.42        26128.65        26202.10        26496.52       \n",
       "42383 26409.42        26128.65        26202.10        26496.52       \n",
       "42384 26409.42        26128.65        26202.10        26496.52       \n",
       "      Lag_day2_hour_7 ... Lag_day7_hour_15 Lag_day7_hour_16 Lag_day7_hour_17\n",
       "1     NA              ... NA               NA               NA              \n",
       "2     NA              ... NA               NA               NA              \n",
       "3     NA              ... NA               NA               NA              \n",
       "4     NA              ... NA               NA               NA              \n",
       "5     NA              ... NA               NA               NA              \n",
       "6     NA              ... NA               NA               NA              \n",
       "7     NA              ... NA               NA               NA              \n",
       "8     NA              ... NA               NA               NA              \n",
       "9     NA              ... NA               NA               NA              \n",
       "10    NA              ... NA               NA               NA              \n",
       "11    NA              ... NA               NA               NA              \n",
       "12    NA              ... NA               NA               NA              \n",
       "13    NA              ... NA               NA               NA              \n",
       "14    NA              ... NA               NA               NA              \n",
       "15    NA              ... NA               NA               NA              \n",
       "16    NA              ... NA               NA               NA              \n",
       "17    NA              ... NA               NA               NA              \n",
       "18    NA              ... NA               NA               NA              \n",
       "19    NA              ... NA               NA               NA              \n",
       "20    NA              ... NA               NA               NA              \n",
       "21    NA              ... NA               NA               NA              \n",
       "22    NA              ... NA               NA               NA              \n",
       "23    NA              ... NA               NA               NA              \n",
       "24    NA              ... NA               NA               NA              \n",
       "25    NA              ... NA               NA               NA              \n",
       "26    NA              ... NA               NA               NA              \n",
       "27    NA              ... NA               NA               NA              \n",
       "28    NA              ... NA               NA               NA              \n",
       "29    NA              ... NA               NA               NA              \n",
       "30    NA              ... NA               NA               NA              \n",
       "...   ...                 ...              ...              ...             \n",
       "42355 28434.59        ... 35606.84         36235.83         36633.46        \n",
       "42356 28434.59        ... 35606.84         36235.83         36633.46        \n",
       "42357 28434.59        ... 35606.84         36235.83         36633.46        \n",
       "42358 28434.59        ... 35606.84         36235.83         36633.46        \n",
       "42359 28434.59        ... 35606.84         36235.83         36633.46        \n",
       "42360 28434.59        ... 35606.84         36235.83         36633.46        \n",
       "42361 26340.05        ... 32837.23         33640.81         34790.98        \n",
       "42362 26340.05        ... 32837.23         33640.81         34790.98        \n",
       "42363 26340.05        ... 32837.23         33640.81         34790.98        \n",
       "42364 26340.05        ... 32837.23         33640.81         34790.98        \n",
       "42365 26340.05        ... 32837.23         33640.81         34790.98        \n",
       "42366 26340.05        ... 32837.23         33640.81         34790.98        \n",
       "42367 26340.05        ... 32837.23         33640.81         34790.98        \n",
       "42368 26340.05        ... 32837.23         33640.81         34790.98        \n",
       "42369 26340.05        ... 32837.23         33640.81         34790.98        \n",
       "42370 26340.05        ... 32837.23         33640.81         34790.98        \n",
       "42371 26340.05        ... 32837.23         33640.81         34790.98        \n",
       "42372 26340.05        ... 32837.23         33640.81         34790.98        \n",
       "42373 26340.05        ... 32837.23         33640.81         34790.98        \n",
       "42374 26340.05        ... 32837.23         33640.81         34790.98        \n",
       "42375 26340.05        ... 32837.23         33640.81         34790.98        \n",
       "42376 26340.05        ... 32837.23         33640.81         34790.98        \n",
       "42377 26340.05        ... 32837.23         33640.81         34790.98        \n",
       "42378 26340.05        ... 32837.23         33640.81         34790.98        \n",
       "42379 26340.05        ... 32837.23         33640.81         34790.98        \n",
       "42380 26340.05        ... 32837.23         33640.81         34790.98        \n",
       "42381 26340.05        ... 32837.23         33640.81         34790.98        \n",
       "42382 26340.05        ... 32837.23         33640.81         34790.98        \n",
       "42383 26340.05        ... 32837.23         33640.81         34790.98        \n",
       "42384 26340.05        ... 32837.23         33640.81         34790.98        \n",
       "      Lag_day7_hour_18 Lag_day7_hour_19 Lag_day7_hour_20 Lag_day7_hour_21\n",
       "1     NA               NA               NA               NA              \n",
       "2     NA               NA               NA               NA              \n",
       "3     NA               NA               NA               NA              \n",
       "4     NA               NA               NA               NA              \n",
       "5     NA               NA               NA               NA              \n",
       "6     NA               NA               NA               NA              \n",
       "7     NA               NA               NA               NA              \n",
       "8     NA               NA               NA               NA              \n",
       "9     NA               NA               NA               NA              \n",
       "10    NA               NA               NA               NA              \n",
       "11    NA               NA               NA               NA              \n",
       "12    NA               NA               NA               NA              \n",
       "13    NA               NA               NA               NA              \n",
       "14    NA               NA               NA               NA              \n",
       "15    NA               NA               NA               NA              \n",
       "16    NA               NA               NA               NA              \n",
       "17    NA               NA               NA               NA              \n",
       "18    NA               NA               NA               NA              \n",
       "19    NA               NA               NA               NA              \n",
       "20    NA               NA               NA               NA              \n",
       "21    NA               NA               NA               NA              \n",
       "22    NA               NA               NA               NA              \n",
       "23    NA               NA               NA               NA              \n",
       "24    NA               NA               NA               NA              \n",
       "25    NA               NA               NA               NA              \n",
       "26    NA               NA               NA               NA              \n",
       "27    NA               NA               NA               NA              \n",
       "28    NA               NA               NA               NA              \n",
       "29    NA               NA               NA               NA              \n",
       "30    NA               NA               NA               NA              \n",
       "...   ...              ...              ...              ...             \n",
       "42355 38194.65         37465.68         36369.87         35219.95        \n",
       "42356 38194.65         37465.68         36369.87         35219.95        \n",
       "42357 38194.65         37465.68         36369.87         35219.95        \n",
       "42358 38194.65         37465.68         36369.87         35219.95        \n",
       "42359 38194.65         37465.68         36369.87         35219.95        \n",
       "42360 38194.65         37465.68         36369.87         35219.95        \n",
       "42361 36349.20         36009.65         35062.32         33936.24        \n",
       "42362 36349.20         36009.65         35062.32         33936.24        \n",
       "42363 36349.20         36009.65         35062.32         33936.24        \n",
       "42364 36349.20         36009.65         35062.32         33936.24        \n",
       "42365 36349.20         36009.65         35062.32         33936.24        \n",
       "42366 36349.20         36009.65         35062.32         33936.24        \n",
       "42367 36349.20         36009.65         35062.32         33936.24        \n",
       "42368 36349.20         36009.65         35062.32         33936.24        \n",
       "42369 36349.20         36009.65         35062.32         33936.24        \n",
       "42370 36349.20         36009.65         35062.32         33936.24        \n",
       "42371 36349.20         36009.65         35062.32         33936.24        \n",
       "42372 36349.20         36009.65         35062.32         33936.24        \n",
       "42373 36349.20         36009.65         35062.32         33936.24        \n",
       "42374 36349.20         36009.65         35062.32         33936.24        \n",
       "42375 36349.20         36009.65         35062.32         33936.24        \n",
       "42376 36349.20         36009.65         35062.32         33936.24        \n",
       "42377 36349.20         36009.65         35062.32         33936.24        \n",
       "42378 36349.20         36009.65         35062.32         33936.24        \n",
       "42379 36349.20         36009.65         35062.32         33936.24        \n",
       "42380 36349.20         36009.65         35062.32         33936.24        \n",
       "42381 36349.20         36009.65         35062.32         33936.24        \n",
       "42382 36349.20         36009.65         35062.32         33936.24        \n",
       "42383 36349.20         36009.65         35062.32         33936.24        \n",
       "42384 36349.20         36009.65         35062.32         33936.24        \n",
       "      Lag_day7_hour_22 Lag_day7_hour_23 Tuketim \n",
       "1     NA               NA               26277.24\n",
       "2     NA               NA               24991.82\n",
       "3     NA               NA               23532.61\n",
       "4     NA               NA               22464.78\n",
       "5     NA               NA               22002.91\n",
       "6     NA               NA               21957.08\n",
       "7     NA               NA               22203.54\n",
       "8     NA               NA               21844.16\n",
       "9     NA               NA               23094.73\n",
       "10    NA               NA               25202.27\n",
       "11    NA               NA               27224.96\n",
       "12    NA               NA               28908.04\n",
       "13    NA               NA               28789.25\n",
       "14    NA               NA               29367.70\n",
       "15    NA               NA               29548.32\n",
       "16    NA               NA               29390.89\n",
       "17    NA               NA               30734.97\n",
       "18    NA               NA               32048.02\n",
       "19    NA               NA               31438.11\n",
       "20    NA               NA               30728.47\n",
       "21    NA               NA               30166.14\n",
       "22    NA               NA               29461.28\n",
       "23    NA               NA               29242.83\n",
       "24    NA               NA               28069.09\n",
       "25    NA               NA               26224.60\n",
       "26    NA               NA               24708.58\n",
       "27    NA               NA               23771.58\n",
       "28    NA               NA               22921.29\n",
       "29    NA               NA               22870.89\n",
       "30    NA               NA               23325.63\n",
       "...   ...              ...              ...     \n",
       "42355 34223.76         32910.09         36679.35\n",
       "42356 34223.76         32910.09         35773.48\n",
       "42357 34223.76         32910.09         34743.16\n",
       "42358 34223.76         32910.09         33746.63\n",
       "42359 34223.76         32910.09         32118.73\n",
       "42360 34223.76         32910.09         31530.80\n",
       "42361 32906.62         31457.66         29835.90\n",
       "42362 32906.62         31457.66         28595.66\n",
       "42363 32906.62         31457.66         27583.47\n",
       "42364 32906.62         31457.66         26923.50\n",
       "42365 32906.62         31457.66         26649.34\n",
       "42366 32906.62         31457.66         26758.18\n",
       "42367 32906.62         31457.66         26871.33\n",
       "42368 32906.62         31457.66         26951.46\n",
       "42369 32906.62         31457.66         29942.70\n",
       "42370 32906.62         31457.66         31613.79\n",
       "42371 32906.62         31457.66         31968.61\n",
       "42372 32906.62         31457.66         32325.42\n",
       "42373 32906.62         31457.66         31169.25\n",
       "42374 32906.62         31457.66         30663.78\n",
       "42375 32906.62         31457.66         32050.36\n",
       "42376 32906.62         31457.66         32296.09\n",
       "42377 32906.62         31457.66         32844.32\n",
       "42378 32906.62         31457.66         34156.68\n",
       "42379 32906.62         31457.66         35768.13\n",
       "42380 32906.62         31457.66         35265.95\n",
       "42381 32906.62         31457.66         34178.92\n",
       "42382 32906.62         31457.66         33240.21\n",
       "42383 32906.62         31457.66         32159.28\n",
       "42384 32906.62         31457.66         30325.43"
      ]
     },
     "metadata": {},
     "output_type": "display_data"
    }
   ],
   "source": [
    "train_lasso"
   ]
  },
  {
   "cell_type": "code",
   "execution_count": 271,
   "metadata": {},
   "outputs": [],
   "source": [
    "m <- as.matrix(train_lasson[, -c(1,2,51)])\n",
    "n <- as.matrix(train_lasson[,51])\n"
   ]
  },
  {
   "cell_type": "code",
   "execution_count": 276,
   "metadata": {},
   "outputs": [],
   "source": [
    "cv <- cv.glmnet(m,n)"
   ]
  },
  {
   "cell_type": "code",
   "execution_count": 326,
   "metadata": {},
   "outputs": [
    {
     "data": {
      "text/html": [
       "<ol class=list-inline>\n",
       "\t<li>1.42623937170544</li>\n",
       "\t<li>1.57520487501398</li>\n",
       "\t<li>1.50809660879965</li>\n",
       "\t<li>1.41941572427549</li>\n",
       "\t<li>1.51584953743103</li>\n",
       "\t<li>1.46713671426708</li>\n",
       "\t<li>1.78543825433127</li>\n",
       "\t<li>1.91490406040182</li>\n",
       "\t<li>2.67158653570933</li>\n",
       "\t<li>3.66355365818712</li>\n",
       "\t<li>4.11657444374943</li>\n",
       "\t<li>4.378004962248</li>\n",
       "\t<li>4.66761983972498</li>\n",
       "\t<li>4.5138144487401</li>\n",
       "\t<li>4.40198314895238</li>\n",
       "\t<li>3.93507858280147</li>\n",
       "\t<li>3.07207418117633</li>\n",
       "\t<li>2.21092226201737</li>\n",
       "\t<li>1.74918690996394</li>\n",
       "\t<li>1.64585068764926</li>\n",
       "\t<li>1.72136857478434</li>\n",
       "\t<li>1.75171200316404</li>\n",
       "\t<li>1.64472364664129</li>\n",
       "\t<li>1.88351200944339</li>\n",
       "</ol>\n"
      ],
      "text/latex": [
       "\\begin{enumerate*}\n",
       "\\item 1.42623937170544\n",
       "\\item 1.57520487501398\n",
       "\\item 1.50809660879965\n",
       "\\item 1.41941572427549\n",
       "\\item 1.51584953743103\n",
       "\\item 1.46713671426708\n",
       "\\item 1.78543825433127\n",
       "\\item 1.91490406040182\n",
       "\\item 2.67158653570933\n",
       "\\item 3.66355365818712\n",
       "\\item 4.11657444374943\n",
       "\\item 4.378004962248\n",
       "\\item 4.66761983972498\n",
       "\\item 4.5138144487401\n",
       "\\item 4.40198314895238\n",
       "\\item 3.93507858280147\n",
       "\\item 3.07207418117633\n",
       "\\item 2.21092226201737\n",
       "\\item 1.74918690996394\n",
       "\\item 1.64585068764926\n",
       "\\item 1.72136857478434\n",
       "\\item 1.75171200316404\n",
       "\\item 1.64472364664129\n",
       "\\item 1.88351200944339\n",
       "\\end{enumerate*}\n"
      ],
      "text/markdown": [
       "1. 1.42623937170544\n",
       "2. 1.57520487501398\n",
       "3. 1.50809660879965\n",
       "4. 1.41941572427549\n",
       "5. 1.51584953743103\n",
       "6. 1.46713671426708\n",
       "7. 1.78543825433127\n",
       "8. 1.91490406040182\n",
       "9. 2.67158653570933\n",
       "10. 3.66355365818712\n",
       "11. 4.11657444374943\n",
       "12. 4.378004962248\n",
       "13. 4.66761983972498\n",
       "14. 4.5138144487401\n",
       "15. 4.40198314895238\n",
       "16. 3.93507858280147\n",
       "17. 3.07207418117633\n",
       "18. 2.21092226201737\n",
       "19. 1.74918690996394\n",
       "20. 1.64585068764926\n",
       "21. 1.72136857478434\n",
       "22. 1.75171200316404\n",
       "23. 1.64472364664129\n",
       "24. 1.88351200944339\n",
       "\n",
       "\n"
      ],
      "text/plain": [
       " [1] 1.426239 1.575205 1.508097 1.419416 1.515850 1.467137 1.785438 1.914904\n",
       " [9] 2.671587 3.663554 4.116574 4.378005 4.667620 4.513814 4.401983 3.935079\n",
       "[17] 3.072074 2.210922 1.749187 1.645851 1.721369 1.751712 1.644724 1.883512"
      ]
     },
     "metadata": {},
     "output_type": "display_data"
    }
   ],
   "source": [
    "min_lambda <- cv$lambda.min\n",
    "mape_lasso <- data.frame(Saat = 0:23, MAPE = rep(NA, 24))\n",
    "for(i in 0:23){\n",
    "  lasso_model <- glmnet(as.matrix(train_lasson[train_lasson$Saat == i, 3:50]),\n",
    "                        as.matrix(train_lasson[train_lasson$Saat == i, 51]), alpha = 1,\n",
    "                        lambda = min_lambda)\n",
    "  lasso_predictions <- predict(lasso_model, newx = as.matrix(test_lasso[test_lasso$Saat == i, 3:50]))\n",
    "  mape_lasso$mape[i+1] <- mape(lasso_predictions, as.matrix(test_lasso[test_lasso$Saat == i, 51]))\n",
    "}\n"
   ]
  },
  {
   "cell_type": "code",
   "execution_count": 348,
   "metadata": {},
   "outputs": [],
   "source": [
    "se1_lambda <- cv$lambda.1se\n",
    "mape_lasso2 <- data.frame(Saat = 0:23, MAPE = rep(NA, 24))\n",
    "for(i in 0:23){\n",
    "  lasso_model2 <- glmnet(as.matrix(train_lasson[train_lasson$Saat == i, 3:50]),\n",
    "                        as.matrix(train_lasson[train_lasson$Saat == i, 51]), alpha = 1,\n",
    "                        lambda = se1_lambda)\n",
    "  lasso_predictions2 <- predict(lasso_model2, newx = as.matrix(test_lasso[test_lasso$Saat == i, 3:50]))\n",
    "  mape_lasso2$mape[i+1] <- mape(lasso_predictions2, as.matrix(test_lasso[test_lasso$Saat == i, 51]))\n",
    "}"
   ]
  },
  {
   "cell_type": "code",
   "execution_count": 351,
   "metadata": {},
   "outputs": [
    {
     "data": {
      "text/html": [
       "<table>\n",
       "<thead><tr><th scope=col>hour</th><th scope=col>mape_min_lambda</th><th scope=col>mape_lambda_1se</th></tr></thead>\n",
       "<tbody>\n",
       "\t<tr><td> 0      </td><td>1.426239</td><td>1.377162</td></tr>\n",
       "\t<tr><td> 1      </td><td>1.575205</td><td>1.469706</td></tr>\n",
       "\t<tr><td> 2      </td><td>1.508097</td><td>1.453665</td></tr>\n",
       "\t<tr><td> 3      </td><td>1.419416</td><td>1.323906</td></tr>\n",
       "\t<tr><td> 4      </td><td>1.515850</td><td>1.370935</td></tr>\n",
       "\t<tr><td> 5      </td><td>1.467137</td><td>1.367502</td></tr>\n",
       "\t<tr><td> 6      </td><td>1.785438</td><td>1.656712</td></tr>\n",
       "\t<tr><td> 7      </td><td>1.914904</td><td>1.904195</td></tr>\n",
       "\t<tr><td> 8      </td><td>2.671587</td><td>2.624200</td></tr>\n",
       "\t<tr><td> 9      </td><td>3.663554</td><td>3.609683</td></tr>\n",
       "\t<tr><td>10      </td><td>4.116574</td><td>4.130144</td></tr>\n",
       "\t<tr><td>11      </td><td>4.378005</td><td>4.343609</td></tr>\n",
       "\t<tr><td>12      </td><td>4.667620</td><td>4.519559</td></tr>\n",
       "\t<tr><td>13      </td><td>4.513814</td><td>4.410043</td></tr>\n",
       "\t<tr><td>14      </td><td>4.401983</td><td>4.259502</td></tr>\n",
       "\t<tr><td>15      </td><td>3.935079</td><td>3.808775</td></tr>\n",
       "\t<tr><td>16      </td><td>3.072074</td><td>2.995299</td></tr>\n",
       "\t<tr><td>17      </td><td>2.210922</td><td>2.138811</td></tr>\n",
       "\t<tr><td>18      </td><td>1.749187</td><td>1.684424</td></tr>\n",
       "\t<tr><td>19      </td><td>1.645851</td><td>1.632844</td></tr>\n",
       "\t<tr><td>20      </td><td>1.721369</td><td>1.684270</td></tr>\n",
       "\t<tr><td>21      </td><td>1.751712</td><td>1.767110</td></tr>\n",
       "\t<tr><td>22      </td><td>1.644724</td><td>1.601101</td></tr>\n",
       "\t<tr><td>23      </td><td>1.883512</td><td>1.838857</td></tr>\n",
       "</tbody>\n",
       "</table>\n"
      ],
      "text/latex": [
       "\\begin{tabular}{lll}\n",
       " hour & mape\\_min\\_lambda & mape\\_lambda\\_1se\\\\\n",
       "\\hline\n",
       "\t  0       & 1.426239 & 1.377162\\\\\n",
       "\t  1       & 1.575205 & 1.469706\\\\\n",
       "\t  2       & 1.508097 & 1.453665\\\\\n",
       "\t  3       & 1.419416 & 1.323906\\\\\n",
       "\t  4       & 1.515850 & 1.370935\\\\\n",
       "\t  5       & 1.467137 & 1.367502\\\\\n",
       "\t  6       & 1.785438 & 1.656712\\\\\n",
       "\t  7       & 1.914904 & 1.904195\\\\\n",
       "\t  8       & 2.671587 & 2.624200\\\\\n",
       "\t  9       & 3.663554 & 3.609683\\\\\n",
       "\t 10       & 4.116574 & 4.130144\\\\\n",
       "\t 11       & 4.378005 & 4.343609\\\\\n",
       "\t 12       & 4.667620 & 4.519559\\\\\n",
       "\t 13       & 4.513814 & 4.410043\\\\\n",
       "\t 14       & 4.401983 & 4.259502\\\\\n",
       "\t 15       & 3.935079 & 3.808775\\\\\n",
       "\t 16       & 3.072074 & 2.995299\\\\\n",
       "\t 17       & 2.210922 & 2.138811\\\\\n",
       "\t 18       & 1.749187 & 1.684424\\\\\n",
       "\t 19       & 1.645851 & 1.632844\\\\\n",
       "\t 20       & 1.721369 & 1.684270\\\\\n",
       "\t 21       & 1.751712 & 1.767110\\\\\n",
       "\t 22       & 1.644724 & 1.601101\\\\\n",
       "\t 23       & 1.883512 & 1.838857\\\\\n",
       "\\end{tabular}\n"
      ],
      "text/markdown": [
       "\n",
       "| hour | mape_min_lambda | mape_lambda_1se |\n",
       "|---|---|---|\n",
       "|  0       | 1.426239 | 1.377162 |\n",
       "|  1       | 1.575205 | 1.469706 |\n",
       "|  2       | 1.508097 | 1.453665 |\n",
       "|  3       | 1.419416 | 1.323906 |\n",
       "|  4       | 1.515850 | 1.370935 |\n",
       "|  5       | 1.467137 | 1.367502 |\n",
       "|  6       | 1.785438 | 1.656712 |\n",
       "|  7       | 1.914904 | 1.904195 |\n",
       "|  8       | 2.671587 | 2.624200 |\n",
       "|  9       | 3.663554 | 3.609683 |\n",
       "| 10       | 4.116574 | 4.130144 |\n",
       "| 11       | 4.378005 | 4.343609 |\n",
       "| 12       | 4.667620 | 4.519559 |\n",
       "| 13       | 4.513814 | 4.410043 |\n",
       "| 14       | 4.401983 | 4.259502 |\n",
       "| 15       | 3.935079 | 3.808775 |\n",
       "| 16       | 3.072074 | 2.995299 |\n",
       "| 17       | 2.210922 | 2.138811 |\n",
       "| 18       | 1.749187 | 1.684424 |\n",
       "| 19       | 1.645851 | 1.632844 |\n",
       "| 20       | 1.721369 | 1.684270 |\n",
       "| 21       | 1.751712 | 1.767110 |\n",
       "| 22       | 1.644724 | 1.601101 |\n",
       "| 23       | 1.883512 | 1.838857 |\n",
       "\n"
      ],
      "text/plain": [
       "      hour mape_min_lambda mape_lambda_1se\n",
       " [1,]  0   1.426239        1.377162       \n",
       " [2,]  1   1.575205        1.469706       \n",
       " [3,]  2   1.508097        1.453665       \n",
       " [4,]  3   1.419416        1.323906       \n",
       " [5,]  4   1.515850        1.370935       \n",
       " [6,]  5   1.467137        1.367502       \n",
       " [7,]  6   1.785438        1.656712       \n",
       " [8,]  7   1.914904        1.904195       \n",
       " [9,]  8   2.671587        2.624200       \n",
       "[10,]  9   3.663554        3.609683       \n",
       "[11,] 10   4.116574        4.130144       \n",
       "[12,] 11   4.378005        4.343609       \n",
       "[13,] 12   4.667620        4.519559       \n",
       "[14,] 13   4.513814        4.410043       \n",
       "[15,] 14   4.401983        4.259502       \n",
       "[16,] 15   3.935079        3.808775       \n",
       "[17,] 16   3.072074        2.995299       \n",
       "[18,] 17   2.210922        2.138811       \n",
       "[19,] 18   1.749187        1.684424       \n",
       "[20,] 19   1.645851        1.632844       \n",
       "[21,] 20   1.721369        1.684270       \n",
       "[22,] 21   1.751712        1.767110       \n",
       "[23,] 22   1.644724        1.601101       \n",
       "[24,] 23   1.883512        1.838857       "
      ]
     },
     "metadata": {},
     "output_type": "display_data"
    }
   ],
   "source": [
    "mape_time <- cbind(hour=0:23,mape_min_lambda = mape_lasso[,3],mape_lambda_1se = mape_lasso2[,3])\n",
    "mape_time"
   ]
  },
  {
   "cell_type": "code",
   "execution_count": 340,
   "metadata": {},
   "outputs": [
    {
     "name": "stdout",
     "output_type": "stream",
     "text": [
      "$lambda\n",
      " [1] 2515.5000341 2292.0299443 2088.4123213 1902.8835267 1733.8365989\n",
      " [6] 1579.8073343 1439.4616050 1311.5838034 1195.0663133 1088.8999159\n",
      "[11]  992.1650486  904.0238402  823.7128539  750.5364743  683.8608826\n",
      "[16]  623.1085666  567.7533190  517.3156789  471.3587798  429.4845650\n",
      "[21]  391.3303400  356.5656312  324.8893233  296.0270512  269.7288239\n",
      "[26]  245.7668586  223.9336083  204.0399637  185.9136157  169.3975625\n",
      "[31]  154.3487500  140.6368324  128.1430439  116.7591690  106.3866063\n",
      "[36]   96.9355134   88.3240295   80.4775662   73.3281610   66.8138893\n",
      "[41]   60.8783275   55.4700647   50.5422570   46.0522222   41.9610697\n",
      "[46]   38.2333640   34.8368173   31.7420105   28.9221377   26.3527747\n",
      "[51]   24.0116669   21.8785366   19.9349077   18.1639454   16.5503106\n",
      "[56]   15.0800266   13.7403586   12.5197030   11.4074871   10.3940774\n",
      "[61]    9.4706962    8.6293457    7.8627384    7.1642344    6.5277835\n",
      "[66]    5.9478732    5.4194806    4.9380289    4.4993480    4.0996383\n",
      "[71]    3.7354377    3.4035917    3.1012260    2.8257217    2.5746923\n",
      "[76]    2.3459638    2.1375548    1.9476603    1.7746356    1.6169818\n",
      "[81]    1.4733336    1.3424467    1.2231875    1.1145229    1.0155117\n",
      "[86]    0.9252965    0.8430957    0.7681974    0.6999528    0.6377710\n",
      "[91]    0.5811131    0.5294886    0.4824503    0.4395908    0.4005387\n",
      "\n",
      "$cvm\n",
      " [1] 25444410 24380375 23258748 22231957 21377964 20649044 20011739 19483835\n",
      " [9] 19045886 18682863 18381840 18132046 17924617 17752304 17608864 17489744\n",
      "[17] 17390853 17308621 17240321 17183648 17136035 17095441 17062626 17034878\n",
      "[25] 17012298 16993454 16977830 16964835 16953981 16933581 16853994 16737117\n",
      "[33] 16598804 16483092 16386141 16291872 16199818 16123901 16056601 16001610\n",
      "[41] 15955304 15916536 15880314 15823884 15765773 15719805 15681165 15647703\n",
      "[49] 15621156 15601366 15582634 15564274 15547784 15529867 15505015 15477735\n",
      "[57] 15452915 15425852 15398429 15378091 15360715 15343941 15327961 15311070\n",
      "[65] 15296748 15285081 15275431 15266690 15258500 15251321 15244813 15238196\n",
      "[73] 15231138 15224282 15218176 15212761 15207746 15203011 15198644 15194590\n",
      "[81] 15190978 15187819 15185024 15182448 15180098 15178165 15176416 15174837\n",
      "[89] 15173562 15172350 15171388 15170576 15170018 15169248 15168753\n",
      "\n",
      "$cvsd\n",
      " [1] 190236.08 187423.53 184210.78 173307.13 163754.76 156347.93 148010.42\n",
      " [8] 140919.52 134713.18 129418.81 124941.18 121056.51 117707.65 114807.86\n",
      "[15] 112337.21 110120.14 108173.50 106442.80 104964.12 103654.33 102574.38\n",
      "[22] 101682.40 100718.25  99663.64  98942.21  98258.31  97656.25  97117.90\n",
      "[29]  96673.45  98257.72  95413.98  93454.24  89908.22  86951.26  84693.10\n",
      "[36]  82985.16  80788.06  78770.10  77176.23  75721.37  74678.33  73834.41\n",
      "[43]  72981.99  72452.72  72195.01  72039.76  71958.17  72162.97  72760.93\n",
      "[50]  72599.00  72857.04  72224.79  71643.94  71649.86  71058.24  70517.83\n",
      "[57]  70010.13  69894.67  69077.39  68502.14  68197.75  67654.17  67908.61\n",
      "[64]  66959.76  66171.86  65533.54  64928.67  64390.80  64088.15  63913.57\n",
      "[71]  63864.46  63803.08  63695.28  63445.15  63193.04  62938.23  62687.13\n",
      "[78]  62445.82  62149.80  61899.08  61702.50  61521.12  61355.79  61175.90\n",
      "[85]  60971.18  60773.17  60584.30  60421.61  60227.70  60084.42  59985.92\n",
      "[92]  59871.58  59796.56  59749.50  59636.12\n",
      "\n",
      "$cvup\n",
      " [1] 25634646 24567798 23442959 22405265 21541718 20805392 20159750 19624755\n",
      " [9] 19180599 18812282 18506781 18253103 18042325 17867112 17721202 17599864\n",
      "[17] 17499027 17415063 17345286 17287302 17238609 17197123 17163344 17134541\n",
      "[25] 17111240 17091712 17075487 17061952 17050654 17031839 16949408 16830571\n",
      "[33] 16688713 16570043 16470834 16374857 16280606 16202671 16133777 16077332\n",
      "[41] 16029982 15990371 15953296 15896336 15837968 15791845 15753124 15719866\n",
      "[49] 15693917 15673965 15655491 15636499 15619428 15601517 15576073 15548253\n",
      "[57] 15522925 15495747 15467507 15446593 15428912 15411595 15395869 15378030\n",
      "[65] 15362920 15350615 15340360 15331081 15322588 15315235 15308677 15301999\n",
      "[73] 15294833 15287727 15281369 15275699 15270433 15265457 15260794 15256489\n",
      "[81] 15252680 15249340 15246380 15243624 15241069 15238938 15237001 15235259\n",
      "[89] 15233790 15232435 15231374 15230448 15229815 15228997 15228389\n",
      "\n",
      "$cvlo\n",
      " [1] 25254174 24192951 23074537 22058650 21214209 20492696 19863729 19342916\n",
      " [9] 18911173 18553445 18256898 18010990 17806910 17637496 17496527 17379623\n",
      "[17] 17282680 17202178 17135357 17079993 17033460 16993758 16961907 16935214\n",
      "[25] 16913356 16895195 16880174 16867717 16857307 16835323 16758580 16643663\n",
      "[33] 16508896 16396141 16301448 16208887 16119030 16045131 15979424 15925889\n",
      "[41] 15880625 15842702 15807332 15751431 15693578 15647765 15609207 15575540\n",
      "[49] 15548395 15528767 15509777 15492049 15476140 15458217 15433956 15407217\n",
      "[57] 15382905 15355958 15329352 15309589 15292517 15276287 15260052 15244111\n",
      "[65] 15230576 15219548 15210502 15202299 15194411 15187408 15180948 15174393\n",
      "[73] 15167443 15160837 15154983 15149822 15145059 15140565 15136495 15132691\n",
      "[81] 15129275 15126298 15123668 15121272 15119127 15117392 15115832 15114415\n",
      "[89] 15113334 15112266 15111402 15110705 15110221 15109498 15109117\n",
      "\n",
      "$nzero\n",
      " s0  s1  s2  s3  s4  s5  s6  s7  s8  s9 s10 s11 s12 s13 s14 s15 s16 s17 s18 s19 \n",
      "  0   1   4   4   4   5   5   5   4   4   4   4   4   4   4   4   4   4   5   5 \n",
      "s20 s21 s22 s23 s24 s25 s26 s27 s28 s29 s30 s31 s32 s33 s34 s35 s36 s37 s38 s39 \n",
      "  5   5   5   5   5   5   5   5   5   6   5   6   6   7   8   9   9  10  10  10 \n",
      "s40 s41 s42 s43 s44 s45 s46 s47 s48 s49 s50 s51 s52 s53 s54 s55 s56 s57 s58 s59 \n",
      " 11  12  12  16  13  14  14  15  14  16  16  16  16  18  19  20  21  21  20  20 \n",
      "s60 s61 s62 s63 s64 s65 s66 s67 s68 s69 s70 s71 s72 s73 s74 s75 s76 s77 s78 s79 \n",
      " 21  22  21  22  21  21  21  24  24  26  28  29  30  30  31  31  33  34  35  35 \n",
      "s80 s81 s82 s83 s84 s85 s86 s87 s88 s89 s90 s91 s92 s93 s94 \n",
      " 37  38  38  39  40  40  42  42  43  43  44  44  46  46  46 \n",
      "\n",
      "$name\n",
      "                 mse \n",
      "\"Mean-Squared Error\" \n",
      "\n",
      "$glmnet.fit\n",
      "\n",
      "Call:  glmnet(x = m, y = n) \n",
      "\n",
      "       Df    %Dev    Lambda\n",
      "  [1,]  0 0.00000 2516.0000\n",
      "  [2,]  1 0.04221 2292.0000\n",
      "  [3,]  4 0.08645 2088.0000\n",
      "  [4,]  4 0.12690 1903.0000\n",
      "  [5,]  4 0.16040 1734.0000\n",
      "  [6,]  5 0.18910 1580.0000\n",
      "  [7,]  5 0.21410 1439.0000\n",
      "  [8,]  5 0.23480 1312.0000\n",
      "  [9,]  4 0.25200 1195.0000\n",
      " [10,]  4 0.26630 1089.0000\n",
      " [11,]  4 0.27810  992.2000\n",
      " [12,]  4 0.28790  904.0000\n",
      " [13,]  4 0.29600  823.7000\n",
      " [14,]  4 0.30280  750.5000\n",
      " [15,]  4 0.30840  683.9000\n",
      " [16,]  4 0.31310  623.1000\n",
      " [17,]  4 0.31700  567.8000\n",
      " [18,]  4 0.32020  517.3000\n",
      " [19,]  5 0.32290  471.4000\n",
      " [20,]  5 0.32510  429.5000\n",
      " [21,]  5 0.32700  391.3000\n",
      " [22,]  5 0.32860  356.6000\n",
      " [23,]  5 0.32990  324.9000\n",
      " [24,]  5 0.33100  296.0000\n",
      " [25,]  5 0.33190  269.7000\n",
      " [26,]  5 0.33260  245.8000\n",
      " [27,]  5 0.33320  223.9000\n",
      " [28,]  5 0.33370  204.0000\n",
      " [29,]  5 0.33410  185.9000\n",
      " [30,]  6 0.33490  169.4000\n",
      " [31,]  5 0.33820  154.3000\n",
      " [32,]  6 0.34280  140.6000\n",
      " [33,]  6 0.34830  128.1000\n",
      " [34,]  7 0.35280  116.8000\n",
      " [35,]  8 0.35660  106.4000\n",
      " [36,]  9 0.36030   96.9400\n",
      " [37,]  9 0.36390   88.3200\n",
      " [38,] 10 0.36700   80.4800\n",
      " [39,] 10 0.36960   73.3300\n",
      " [40,] 10 0.37180   66.8100\n",
      " [41,] 11 0.37360   60.8800\n",
      " [42,] 12 0.37510   55.4700\n",
      " [43,] 12 0.37660   50.5400\n",
      " [44,] 16 0.37880   46.0500\n",
      " [45,] 13 0.38110   41.9600\n",
      " [46,] 14 0.38290   38.2300\n",
      " [47,] 14 0.38440   34.8400\n",
      " [48,] 15 0.38580   31.7400\n",
      " [49,] 14 0.38690   28.9200\n",
      " [50,] 16 0.38770   26.3500\n",
      " [51,] 16 0.38840   24.0100\n",
      " [52,] 16 0.38910   21.8800\n",
      " [53,] 16 0.38970   19.9300\n",
      " [54,] 18 0.39040   18.1600\n",
      " [55,] 19 0.39140   16.5500\n",
      " [56,] 20 0.39250   15.0800\n",
      " [57,] 21 0.39350   13.7400\n",
      " [58,] 21 0.39460   12.5200\n",
      " [59,] 20 0.39580   11.4100\n",
      " [60,] 20 0.39650   10.3900\n",
      " [61,] 21 0.39720    9.4710\n",
      " [62,] 22 0.39790    8.6290\n",
      " [63,] 21 0.39850    7.8630\n",
      " [64,] 22 0.39920    7.1640\n",
      " [65,] 21 0.39980    6.5280\n",
      " [66,] 21 0.40020    5.9480\n",
      " [67,] 21 0.40060    5.4190\n",
      " [68,] 24 0.40090    4.9380\n",
      " [69,] 24 0.40130    4.4990\n",
      " [70,] 26 0.40160    4.1000\n",
      " [71,] 28 0.40190    3.7350\n",
      " [72,] 29 0.40220    3.4040\n",
      " [73,] 30 0.40250    3.1010\n",
      " [74,] 30 0.40280    2.8260\n",
      " [75,] 31 0.40310    2.5750\n",
      " [76,] 31 0.40330    2.3460\n",
      " [77,] 33 0.40350    2.1380\n",
      " [78,] 34 0.40370    1.9480\n",
      " [79,] 35 0.40390    1.7750\n",
      " [80,] 35 0.40410    1.6170\n",
      " [81,] 37 0.40420    1.4730\n",
      " [82,] 38 0.40440    1.3420\n",
      " [83,] 38 0.40450    1.2230\n",
      " [84,] 39 0.40460    1.1150\n",
      " [85,] 40 0.40470    1.0160\n",
      " [86,] 40 0.40480    0.9253\n",
      " [87,] 42 0.40490    0.8431\n",
      " [88,] 42 0.40490    0.7682\n",
      " [89,] 43 0.40500    0.7000\n",
      " [90,] 43 0.40500    0.6378\n",
      " [91,] 44 0.40510    0.5811\n",
      " [92,] 44 0.40510    0.5295\n",
      " [93,] 46 0.40520    0.4825\n",
      " [94,] 46 0.40520    0.4396\n",
      " [95,] 46 0.40530    0.4005\n",
      " [96,] 46 0.40530    0.3650\n",
      " [97,] 46 0.40530    0.3325\n",
      " [98,] 47 0.40540    0.3030\n",
      " [99,] 48 0.40550    0.2761\n",
      "[100,] 48 0.40550    0.2516\n",
      "\n",
      "$lambda.min\n",
      "[1] 0.4005387\n",
      "\n",
      "$lambda.1se\n",
      "[1] 2.825722\n",
      "\n",
      "attr(,\"class\")\n",
      "[1] \"cv.glmnet\"\n"
     ]
    },
    {
     "data": {
      "text/plain": [
       "49 x 1 sparse Matrix of class \"dgCMatrix\"\n",
       "                             1\n",
       "(Intercept)      4363.52039617\n",
       "Lag_day2_hour_0    -0.75888332\n",
       "Lag_day2_hour_1    -0.29387847\n",
       "Lag_day2_hour_2     0.02910483\n",
       "Lag_day2_hour_3     .         \n",
       "Lag_day2_hour_4     0.02579685\n",
       "Lag_day2_hour_5     0.82212363\n",
       "Lag_day2_hour_6     0.06810824\n",
       "Lag_day2_hour_7     0.38577600\n",
       "Lag_day2_hour_8    -0.00502274\n",
       "Lag_day2_hour_9    -1.01044888\n",
       "Lag_day2_hour_10    .         \n",
       "Lag_day2_hour_11   -0.07778806\n",
       "Lag_day2_hour_12    .         \n",
       "Lag_day2_hour_13    0.97458567\n",
       "Lag_day2_hour_14   -0.43082363\n",
       "Lag_day2_hour_15    .         \n",
       "Lag_day2_hour_16    .         \n",
       "Lag_day2_hour_17    .         \n",
       "Lag_day2_hour_18    0.05519471\n",
       "Lag_day2_hour_19    .         \n",
       "Lag_day2_hour_20    .         \n",
       "Lag_day2_hour_21    0.19469440\n",
       "Lag_day2_hour_22    .         \n",
       "Lag_day2_hour_23    1.10992472\n",
       "Lag_day7_hour_0     .         \n",
       "Lag_day7_hour_1     0.04333345\n",
       "Lag_day7_hour_2     .         \n",
       "Lag_day7_hour_3     0.03834499\n",
       "Lag_day7_hour_4    -0.05222402\n",
       "Lag_day7_hour_5    -0.70469020\n",
       "Lag_day7_hour_6     .         \n",
       "Lag_day7_hour_7     0.52170144\n",
       "Lag_day7_hour_8     0.25600316\n",
       "Lag_day7_hour_9     .         \n",
       "Lag_day7_hour_10    .         \n",
       "Lag_day7_hour_11   -0.04053970\n",
       "Lag_day7_hour_12   -0.05664105\n",
       "Lag_day7_hour_13    0.03015979\n",
       "Lag_day7_hour_14    .         \n",
       "Lag_day7_hour_15    0.09952513\n",
       "Lag_day7_hour_16    0.21113140\n",
       "Lag_day7_hour_17    .         \n",
       "Lag_day7_hour_18   -0.04300616\n",
       "Lag_day7_hour_19   -0.28839364\n",
       "Lag_day7_hour_20   -0.18065276\n",
       "Lag_day7_hour_21    .         \n",
       "Lag_day7_hour_22    .         \n",
       "Lag_day7_hour_23    0.06641746"
      ]
     },
     "metadata": {},
     "output_type": "display_data"
    }
   ],
   "source": [
    "coef(cv)"
   ]
  },
  {
   "cell_type": "code",
   "execution_count": 331,
   "metadata": {},
   "outputs": [
    {
     "data": {
      "image/png": "[encoded data removed]",
      "text/plain": [
       "Plot with title \"MAPE values by hour\""
      ]
     },
     "metadata": {},
     "output_type": "display_data"
    }
   ],
   "source": [
    "plot(mape_time, type=\"l\", main=\"MAPE values by hour\")"
   ]
  },
  {
   "cell_type": "markdown",
   "metadata": {},
   "source": [
    "From the plot above, which is very similar to the plot for hourly regression, we observe that this model also performs better for nightly hours than daytime. However, LASSO prediction for all hours performs better than hourly prediction in task b. This model includes both hourly and weekly seasonality, hence perfroms very well.\n",
    "\n",
    "As for the coefficients of the model, lambda.min is 0.40, and lambda.1se is 2.85. MAPE of model that uses lambda.1se is slightly better than with lambda.min as seen on the table of comparison. Hence, it is better to use lambda.1se. \n",
    "\n",
    "Some of the coefficients are negative, which can be interpreted as negative correlation. There are 30 nonzero coefficients and 18 zero coefficient, decreased significantly from the original 48."
   ]
  },
  {
   "cell_type": "markdown",
   "metadata": {},
   "source": [
    "### Task 5 (Bonus)"
   ]
  },
  {
   "cell_type": "code",
   "execution_count": 358,
   "metadata": {},
   "outputs": [],
   "source": [
    "library(CVXR)"
   ]
  },
  {
   "cell_type": "code",
   "execution_count": 360,
   "metadata": {},
   "outputs": [
    {
     "data": {
      "text/html": [
       "2.82572166112057"
      ],
      "text/latex": [
       "2.82572166112057"
      ],
      "text/markdown": [
       "2.82572166112057"
      ],
      "text/plain": [
       "[1] 2.825722"
      ]
     },
     "metadata": {},
     "output_type": "display_data"
    }
   ],
   "source": [
    "cv$lambda.1se"
   ]
  },
  {
   "cell_type": "markdown",
   "metadata": {},
   "source": [
    "Fused approach with 10-fold cross-validation"
   ]
  },
  {
   "cell_type": "code",
   "execution_count": 428,
   "metadata": {},
   "outputs": [],
   "source": [
    "lambda1 <- cv$lambda.1se\n",
    "lambda2 <- 50\n",
    "beta <- Variable(48)\n",
    "m_e <- data.table()\n",
    "\n",
    "train_x <- train_lasson\n",
    "train_y <- train_lasso\n",
    " \n",
    "set.seed(1)\n",
    "for(i in 1:10){\n",
    "    \n",
    "\n",
    "    for (j in 0:23){\n",
    "         \n",
    "      train_fusedx = nwide[Saat == j]\n",
    "      train_fusedx = as.matrix(train_fusedx[,3:50])\n",
    "      train_fusedy = as.matrix(nwide[Saat == j , Tuketim])\n",
    "      \n",
    "      folds <- cut(seq(1,nrow(train_fusedx)),breaks=10,labels=FALSE)  \n",
    "        \n",
    "      testIndexes <- which(folds==i,arr.ind=TRUE)\n",
    "      testDatax <- train_fusedx[testIndexes, ]\n",
    "      trainDatax <- train_fusedx[-testIndexes, ]\n",
    "        \n",
    "      testDatay <- train_fusedy[testIndexes, ]\n",
    "      trainDatay <- train_fusedy[-testIndexes, ]\n",
    "        \n",
    "        \n",
    "      obj <- sum_squares(trainDatay - trainDatax %*% beta) +\n",
    "              lambda2 * sum_squares(beta)+ \n",
    "              lambda1 * sum(p_norm(diff(x = beta, differences = 1),1))\n",
    "\n",
    "      prob <- Problem(Minimize(obj))\n",
    "      result <- solve(prob)\n",
    "\n",
    "      beta_list <- result$getValue(beta)\n",
    "      predicted <- test_fusedx %*% beta_list\n",
    "      mape_e <- mape(predicted, test_fusedy)\n",
    "      m_e <- rbind(m_e, data.table(Saat = i, mape = mape_e))\n",
    "\n",
    "    }\n",
    "  \n",
    "}"
   ]
  },
  {
   "cell_type": "code",
   "execution_count": 429,
   "metadata": {},
   "outputs": [
    {
     "data": {
      "text/html": [
       "<table>\n",
       "<thead><tr><th scope=col>Saat</th><th scope=col>mape</th></tr></thead>\n",
       "<tbody>\n",
       "\t<tr><td> 0      </td><td>1.527979</td></tr>\n",
       "\t<tr><td> 1      </td><td>1.711883</td></tr>\n",
       "\t<tr><td> 2      </td><td>1.694069</td></tr>\n",
       "\t<tr><td> 3      </td><td>1.580582</td></tr>\n",
       "\t<tr><td> 4      </td><td>1.677405</td></tr>\n",
       "\t<tr><td> 5      </td><td>1.633656</td></tr>\n",
       "\t<tr><td> 6      </td><td>1.933184</td></tr>\n",
       "\t<tr><td> 7      </td><td>2.070008</td></tr>\n",
       "\t<tr><td> 8      </td><td>2.957049</td></tr>\n",
       "\t<tr><td> 9      </td><td>3.816892</td></tr>\n",
       "\t<tr><td>10      </td><td>4.263683</td></tr>\n",
       "\t<tr><td>11      </td><td>4.520050</td></tr>\n",
       "\t<tr><td>12      </td><td>4.786598</td></tr>\n",
       "\t<tr><td>13      </td><td>4.652012</td></tr>\n",
       "\t<tr><td>14      </td><td>4.517738</td></tr>\n",
       "\t<tr><td>15      </td><td>3.985665</td></tr>\n",
       "\t<tr><td>16      </td><td>3.185254</td></tr>\n",
       "\t<tr><td>17      </td><td>2.376701</td></tr>\n",
       "\t<tr><td>18      </td><td>1.957271</td></tr>\n",
       "\t<tr><td>19      </td><td>1.877982</td></tr>\n",
       "\t<tr><td>20      </td><td>1.906040</td></tr>\n",
       "\t<tr><td>21      </td><td>1.963254</td></tr>\n",
       "\t<tr><td>22      </td><td>1.907828</td></tr>\n",
       "\t<tr><td>23      </td><td>2.075090</td></tr>\n",
       "</tbody>\n",
       "</table>\n"
      ],
      "text/latex": [
       "\\begin{tabular}{r|ll}\n",
       " Saat & mape\\\\\n",
       "\\hline\n",
       "\t  0       & 1.527979\\\\\n",
       "\t  1       & 1.711883\\\\\n",
       "\t  2       & 1.694069\\\\\n",
       "\t  3       & 1.580582\\\\\n",
       "\t  4       & 1.677405\\\\\n",
       "\t  5       & 1.633656\\\\\n",
       "\t  6       & 1.933184\\\\\n",
       "\t  7       & 2.070008\\\\\n",
       "\t  8       & 2.957049\\\\\n",
       "\t  9       & 3.816892\\\\\n",
       "\t 10       & 4.263683\\\\\n",
       "\t 11       & 4.520050\\\\\n",
       "\t 12       & 4.786598\\\\\n",
       "\t 13       & 4.652012\\\\\n",
       "\t 14       & 4.517738\\\\\n",
       "\t 15       & 3.985665\\\\\n",
       "\t 16       & 3.185254\\\\\n",
       "\t 17       & 2.376701\\\\\n",
       "\t 18       & 1.957271\\\\\n",
       "\t 19       & 1.877982\\\\\n",
       "\t 20       & 1.906040\\\\\n",
       "\t 21       & 1.963254\\\\\n",
       "\t 22       & 1.907828\\\\\n",
       "\t 23       & 2.075090\\\\\n",
       "\\end{tabular}\n"
      ],
      "text/markdown": [
       "\n",
       "| Saat | mape |\n",
       "|---|---|\n",
       "|  0       | 1.527979 |\n",
       "|  1       | 1.711883 |\n",
       "|  2       | 1.694069 |\n",
       "|  3       | 1.580582 |\n",
       "|  4       | 1.677405 |\n",
       "|  5       | 1.633656 |\n",
       "|  6       | 1.933184 |\n",
       "|  7       | 2.070008 |\n",
       "|  8       | 2.957049 |\n",
       "|  9       | 3.816892 |\n",
       "| 10       | 4.263683 |\n",
       "| 11       | 4.520050 |\n",
       "| 12       | 4.786598 |\n",
       "| 13       | 4.652012 |\n",
       "| 14       | 4.517738 |\n",
       "| 15       | 3.985665 |\n",
       "| 16       | 3.185254 |\n",
       "| 17       | 2.376701 |\n",
       "| 18       | 1.957271 |\n",
       "| 19       | 1.877982 |\n",
       "| 20       | 1.906040 |\n",
       "| 21       | 1.963254 |\n",
       "| 22       | 1.907828 |\n",
       "| 23       | 2.075090 |\n",
       "\n"
      ],
      "text/plain": [
       "   Saat mape    \n",
       "1   0   1.527979\n",
       "2   1   1.711883\n",
       "3   2   1.694069\n",
       "4   3   1.580582\n",
       "5   4   1.677405\n",
       "6   5   1.633656\n",
       "7   6   1.933184\n",
       "8   7   2.070008\n",
       "9   8   2.957049\n",
       "10  9   3.816892\n",
       "11 10   4.263683\n",
       "12 11   4.520050\n",
       "13 12   4.786598\n",
       "14 13   4.652012\n",
       "15 14   4.517738\n",
       "16 15   3.985665\n",
       "17 16   3.185254\n",
       "18 17   2.376701\n",
       "19 18   1.957271\n",
       "20 19   1.877982\n",
       "21 20   1.906040\n",
       "22 21   1.963254\n",
       "23 22   1.907828\n",
       "24 23   2.075090"
      ]
     },
     "metadata": {},
     "output_type": "display_data"
    }
   ],
   "source": [
    "m_e"
   ]
  },
  {
   "cell_type": "markdown",
   "metadata": {},
   "source": [
    "Given the parameters for lambda, the fused approach worked quite well, but not as well as LASSO. With parameters that are chosen more appropriately, this method might work better than LASSO. Similar to hourly MAPE and LASSO MAPE, it works better for nighttime than daytime."
   ]
  },
  {
   "cell_type": "markdown",
   "metadata": {},
   "source": [
    "### Task 6"
   ]
  },
  {
   "cell_type": "code",
   "execution_count": 292,
   "metadata": {},
   "outputs": [
    {
     "data": {
      "image/png": "[encoded data removed]",
      "text/plain": [
       "Plot with title \"MAPE Boxplots\""
      ]
     },
     "metadata": {},
     "output_type": "display_data"
    }
   ],
   "source": [
    "boxplot( mape_48, mape_168, mape_b, byhour$mape, lasso_mape$MAPE, main=\"MAPE Boxplots\", names = c( \"lag_48\", \"lag_168\",\"Lin_Reg\",\"Hourly\", \"Lasso\"), col=c(\"orange\",\"purple\"))"
   ]
  },
  {
   "cell_type": "markdown",
   "metadata": {},
   "source": [
    "From the boxplot, we observe that Lasso performs the best by measuring with MAPE. The penalization applied in Lasso seems to give the best results. The variances of hourly seasonality approach and LASSO seem similar. Lag 168 performs better than linear regression and slightly better than average of hourly regression. \n",
    "\n",
    "The ranking of performances is LASSO, Hourly, lag 168, linear regression and lag 48. Lag 48 does not show weekly seasonality, which explains the performance. \n",
    "\n",
    "For this problem, it is appropriate to use LASSO, given the performance, especially for nighttime. It still performs well for daytime.\n",
    "\n",
    "As for the fused approach in bonus task, Lasso works better but with more appropriate lambda values we might come up with better results than Lasso with fused approach. "
   ]
  }
 ],
 "metadata": {
  "kernelspec": {
   "display_name": "R",
   "language": "R",
   "name": "ir"
  },
  "language_info": {
   "codemirror_mode": "r",
   "file_extension": ".r",
   "mimetype": "text/x-r-source",
   "name": "R",
   "pygments_lexer": "r",
   "version": "3.6.1"
  }
 },
 "nbformat": 4,
 "nbformat_minor": 4
}
